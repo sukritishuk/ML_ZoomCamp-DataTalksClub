{
 "cells": [
  {
   "cell_type": "markdown",
   "id": "810ac2da",
   "metadata": {},
   "source": [
    "## Session #1 Homework"
   ]
  },
  {
   "cell_type": "markdown",
   "id": "2f3b63df",
   "metadata": {},
   "source": [
    "### Question 1"
   ]
  },
  {
   "cell_type": "code",
   "execution_count": 1,
   "id": "2fba932f",
   "metadata": {},
   "outputs": [
    {
     "data": {
      "text/plain": [
       "'1.20.3'"
      ]
     },
     "execution_count": 1,
     "metadata": {},
     "output_type": "execute_result"
    }
   ],
   "source": [
    "# What's the version of NumPy that you installed?\n",
    "import numpy as np\n",
    "np.__version__"
   ]
  },
  {
   "cell_type": "markdown",
   "id": "e8334e13",
   "metadata": {},
   "source": [
    "### Question 2"
   ]
  },
  {
   "cell_type": "code",
   "execution_count": 2,
   "id": "e896e3eb",
   "metadata": {},
   "outputs": [
    {
     "data": {
      "text/plain": [
       "'1.3.2'"
      ]
     },
     "execution_count": 2,
     "metadata": {},
     "output_type": "execute_result"
    }
   ],
   "source": [
    "# What's the version of Pandas?\n",
    "import pandas as pd\n",
    "pd.__version__"
   ]
  },
  {
   "cell_type": "markdown",
   "id": "8f473707",
   "metadata": {},
   "source": [
    "### Getting the data"
   ]
  },
  {
   "cell_type": "code",
   "execution_count": 3,
   "id": "40be72d8",
   "metadata": {},
   "outputs": [
    {
     "data": {
      "text/html": [
       "<div>\n",
       "<style scoped>\n",
       "    .dataframe tbody tr th:only-of-type {\n",
       "        vertical-align: middle;\n",
       "    }\n",
       "\n",
       "    .dataframe tbody tr th {\n",
       "        vertical-align: top;\n",
       "    }\n",
       "\n",
       "    .dataframe thead th {\n",
       "        text-align: right;\n",
       "    }\n",
       "</style>\n",
       "<table border=\"1\" class=\"dataframe\">\n",
       "  <thead>\n",
       "    <tr style=\"text-align: right;\">\n",
       "      <th></th>\n",
       "      <th>Make</th>\n",
       "      <th>Model</th>\n",
       "      <th>Year</th>\n",
       "      <th>Engine Fuel Type</th>\n",
       "      <th>Engine HP</th>\n",
       "      <th>Engine Cylinders</th>\n",
       "      <th>Transmission Type</th>\n",
       "      <th>Driven_Wheels</th>\n",
       "      <th>Number of Doors</th>\n",
       "      <th>Market Category</th>\n",
       "      <th>Vehicle Size</th>\n",
       "      <th>Vehicle Style</th>\n",
       "      <th>highway MPG</th>\n",
       "      <th>city mpg</th>\n",
       "      <th>Popularity</th>\n",
       "      <th>MSRP</th>\n",
       "    </tr>\n",
       "  </thead>\n",
       "  <tbody>\n",
       "    <tr>\n",
       "      <th>0</th>\n",
       "      <td>BMW</td>\n",
       "      <td>1 Series M</td>\n",
       "      <td>2011</td>\n",
       "      <td>premium unleaded (required)</td>\n",
       "      <td>335.0</td>\n",
       "      <td>6.0</td>\n",
       "      <td>MANUAL</td>\n",
       "      <td>rear wheel drive</td>\n",
       "      <td>2.0</td>\n",
       "      <td>Factory Tuner,Luxury,High-Performance</td>\n",
       "      <td>Compact</td>\n",
       "      <td>Coupe</td>\n",
       "      <td>26</td>\n",
       "      <td>19</td>\n",
       "      <td>3916</td>\n",
       "      <td>46135</td>\n",
       "    </tr>\n",
       "    <tr>\n",
       "      <th>1</th>\n",
       "      <td>BMW</td>\n",
       "      <td>1 Series</td>\n",
       "      <td>2011</td>\n",
       "      <td>premium unleaded (required)</td>\n",
       "      <td>300.0</td>\n",
       "      <td>6.0</td>\n",
       "      <td>MANUAL</td>\n",
       "      <td>rear wheel drive</td>\n",
       "      <td>2.0</td>\n",
       "      <td>Luxury,Performance</td>\n",
       "      <td>Compact</td>\n",
       "      <td>Convertible</td>\n",
       "      <td>28</td>\n",
       "      <td>19</td>\n",
       "      <td>3916</td>\n",
       "      <td>40650</td>\n",
       "    </tr>\n",
       "    <tr>\n",
       "      <th>2</th>\n",
       "      <td>BMW</td>\n",
       "      <td>1 Series</td>\n",
       "      <td>2011</td>\n",
       "      <td>premium unleaded (required)</td>\n",
       "      <td>300.0</td>\n",
       "      <td>6.0</td>\n",
       "      <td>MANUAL</td>\n",
       "      <td>rear wheel drive</td>\n",
       "      <td>2.0</td>\n",
       "      <td>Luxury,High-Performance</td>\n",
       "      <td>Compact</td>\n",
       "      <td>Coupe</td>\n",
       "      <td>28</td>\n",
       "      <td>20</td>\n",
       "      <td>3916</td>\n",
       "      <td>36350</td>\n",
       "    </tr>\n",
       "    <tr>\n",
       "      <th>3</th>\n",
       "      <td>BMW</td>\n",
       "      <td>1 Series</td>\n",
       "      <td>2011</td>\n",
       "      <td>premium unleaded (required)</td>\n",
       "      <td>230.0</td>\n",
       "      <td>6.0</td>\n",
       "      <td>MANUAL</td>\n",
       "      <td>rear wheel drive</td>\n",
       "      <td>2.0</td>\n",
       "      <td>Luxury,Performance</td>\n",
       "      <td>Compact</td>\n",
       "      <td>Coupe</td>\n",
       "      <td>28</td>\n",
       "      <td>18</td>\n",
       "      <td>3916</td>\n",
       "      <td>29450</td>\n",
       "    </tr>\n",
       "    <tr>\n",
       "      <th>4</th>\n",
       "      <td>BMW</td>\n",
       "      <td>1 Series</td>\n",
       "      <td>2011</td>\n",
       "      <td>premium unleaded (required)</td>\n",
       "      <td>230.0</td>\n",
       "      <td>6.0</td>\n",
       "      <td>MANUAL</td>\n",
       "      <td>rear wheel drive</td>\n",
       "      <td>2.0</td>\n",
       "      <td>Luxury</td>\n",
       "      <td>Compact</td>\n",
       "      <td>Convertible</td>\n",
       "      <td>28</td>\n",
       "      <td>18</td>\n",
       "      <td>3916</td>\n",
       "      <td>34500</td>\n",
       "    </tr>\n",
       "  </tbody>\n",
       "</table>\n",
       "</div>"
      ],
      "text/plain": [
       "  Make       Model  Year             Engine Fuel Type  Engine HP  \\\n",
       "0  BMW  1 Series M  2011  premium unleaded (required)      335.0   \n",
       "1  BMW    1 Series  2011  premium unleaded (required)      300.0   \n",
       "2  BMW    1 Series  2011  premium unleaded (required)      300.0   \n",
       "3  BMW    1 Series  2011  premium unleaded (required)      230.0   \n",
       "4  BMW    1 Series  2011  premium unleaded (required)      230.0   \n",
       "\n",
       "   Engine Cylinders Transmission Type     Driven_Wheels  Number of Doors  \\\n",
       "0               6.0            MANUAL  rear wheel drive              2.0   \n",
       "1               6.0            MANUAL  rear wheel drive              2.0   \n",
       "2               6.0            MANUAL  rear wheel drive              2.0   \n",
       "3               6.0            MANUAL  rear wheel drive              2.0   \n",
       "4               6.0            MANUAL  rear wheel drive              2.0   \n",
       "\n",
       "                         Market Category Vehicle Size Vehicle Style  \\\n",
       "0  Factory Tuner,Luxury,High-Performance      Compact         Coupe   \n",
       "1                     Luxury,Performance      Compact   Convertible   \n",
       "2                Luxury,High-Performance      Compact         Coupe   \n",
       "3                     Luxury,Performance      Compact         Coupe   \n",
       "4                                 Luxury      Compact   Convertible   \n",
       "\n",
       "   highway MPG  city mpg  Popularity   MSRP  \n",
       "0           26        19        3916  46135  \n",
       "1           28        19        3916  40650  \n",
       "2           28        20        3916  36350  \n",
       "3           28        18        3916  29450  \n",
       "4           28        18        3916  34500  "
      ]
     },
     "execution_count": 3,
     "metadata": {},
     "output_type": "execute_result"
    }
   ],
   "source": [
    "data = pd.read_csv('car-price-data-ML ZoomCamp - Session 1.csv')\n",
    "data.head()"
   ]
  },
  {
   "cell_type": "markdown",
   "id": "10fc1be3",
   "metadata": {},
   "source": [
    "### Question 3"
   ]
  },
  {
   "cell_type": "code",
   "execution_count": 4,
   "id": "9fbaf4fa",
   "metadata": {},
   "outputs": [
    {
     "data": {
      "text/plain": [
       "mean    61546.763473\n",
       "Name: BMW, dtype: float64"
      ]
     },
     "execution_count": 4,
     "metadata": {},
     "output_type": "execute_result"
    }
   ],
   "source": [
    "# What's the average price of BMW cars in the dataset?\n",
    "grouped_data = data.groupby('Make')['MSRP'].agg(['mean'])\n",
    "grouped_data.loc['BMW']"
   ]
  },
  {
   "cell_type": "markdown",
   "id": "95f31aa1",
   "metadata": {},
   "source": [
    "### Question 4"
   ]
  },
  {
   "cell_type": "code",
   "execution_count": 5,
   "id": "586f236e",
   "metadata": {},
   "outputs": [
    {
     "data": {
      "text/plain": [
       "51"
      ]
     },
     "execution_count": 5,
     "metadata": {},
     "output_type": "execute_result"
    }
   ],
   "source": [
    "# Select a subset of cars after year 2015 (inclusive, i.e. 2015 and after). How many of them have missing values for Engine HP?\n",
    "Year_after_2015 = (data[data.Year >= 2015]) \n",
    "missing_HP_after_2015 = Year_after_2015['Engine HP'].isnull().sum()\n",
    "missing_HP_after_2015"
   ]
  },
  {
   "cell_type": "markdown",
   "id": "3c0e7e4b",
   "metadata": {},
   "source": [
    "### Question 5"
   ]
  },
  {
   "cell_type": "code",
   "execution_count": 7,
   "id": "c6a30a59",
   "metadata": {},
   "outputs": [
    {
     "name": "stdout",
     "output_type": "stream",
     "text": [
      "249\n",
      "249\n"
     ]
    }
   ],
   "source": [
    "# Calculate the average \"Engine HP\" in the dataset.\n",
    "mean_hp_before = data['Engine HP'].mean()\n",
    "print(round(mean_hp_before))\n",
    "\n",
    "# Use the fillna method and to fill the missing values in \"Engine HP\" with the mean value from the previous step.\n",
    "data['Engine HP'].fillna(mean_hp_before, inplace=True)\n",
    "\n",
    "# Now, calcualte the average of \"Engine HP\" again.\n",
    "mean_hp_after = data['Engine HP'].mean()\n",
    "print(round(mean_hp_after))\n",
    "\n",
    "# Has it changed?\n",
    "# No Change"
   ]
  },
  {
   "cell_type": "markdown",
   "id": "e039c1e5",
   "metadata": {},
   "source": [
    "### Question 6"
   ]
  },
  {
   "cell_type": "code",
   "execution_count": 8,
   "id": "bedaf026",
   "metadata": {},
   "outputs": [
    {
     "data": {
      "text/plain": [
       "array([[325.,   8.,  15.],\n",
       "       [563.,  12.,  19.],\n",
       "       [563.,  12.,  21.],\n",
       "       [563.,  12.,  20.],\n",
       "       [322.,  12.,  15.],\n",
       "       [453.,  12.,  19.],\n",
       "       [624.,  12.,  21.]])"
      ]
     },
     "execution_count": 8,
     "metadata": {},
     "output_type": "execute_result"
    }
   ],
   "source": [
    "# Select all the \"Rolls-Royce\" cars from the dataset.\n",
    "rolls_royce_data = data[data['Make'] == 'Rolls-Royce']\n",
    "\n",
    "# Select only columns \"Engine HP\", \"Engine Cylinders\", \"highway MPG\".\n",
    "select_rr = rolls_royce_data[['Engine HP','Engine Cylinders','highway MPG']]\n",
    "\n",
    "# Now drop all duplicated rows using drop_duplicates method (you should get a dataframe with 7 rows).\n",
    "unduplicated_rr = select_rr.drop_duplicates()\n",
    "\n",
    "# Get the underlying NumPy array. Let's call it X.\n",
    "X = unduplicated_rr.values\n",
    "X"
   ]
  },
  {
   "cell_type": "code",
   "execution_count": 9,
   "id": "64208964",
   "metadata": {},
   "outputs": [
    {
     "data": {
      "text/plain": [
       "array([[1.754801e+06, 3.965600e+04, 6.519600e+04],\n",
       "       [3.965600e+04, 9.280000e+02, 1.500000e+03],\n",
       "       [6.519600e+04, 1.500000e+03, 2.454000e+03]])"
      ]
     },
     "execution_count": 9,
     "metadata": {},
     "output_type": "execute_result"
    }
   ],
   "source": [
    "# Compute matrix-matrix multiplication between the transpose of X and X. To get the transpose, use X.T. Let's call the result XTX.\n",
    "XTX = (X.T).dot(X)\n",
    "XTX"
   ]
  },
  {
   "cell_type": "code",
   "execution_count": 10,
   "id": "6105dfb7",
   "metadata": {},
   "outputs": [
    {
     "data": {
      "text/plain": [
       "array([[ 5.17815728e-05,  9.06587044e-04, -1.92984188e-03],\n",
       "       [ 9.06587044e-04,  1.05723058e-01, -8.87084092e-02],\n",
       "       [-1.92984188e-03, -8.87084092e-02,  1.05900809e-01]])"
      ]
     },
     "execution_count": 10,
     "metadata": {},
     "output_type": "execute_result"
    }
   ],
   "source": [
    "# Invert XTX.\n",
    "inverse_XTX = np.linalg.inv(XTX)\n",
    "inverse_XTX"
   ]
  },
  {
   "cell_type": "code",
   "execution_count": 11,
   "id": "780b246e",
   "metadata": {},
   "outputs": [
    {
     "name": "stdout",
     "output_type": "stream",
     "text": [
      "Sum of all the elements is 0.032212320677486195\n"
     ]
    }
   ],
   "source": [
    "# What's the sum of all the elements of the result?\n",
    "total = np.sum(inverse_XTX)\n",
    "print(f'Sum of all the elements is {total}')"
   ]
  },
  {
   "cell_type": "markdown",
   "id": "6e14063a",
   "metadata": {},
   "source": [
    "### Questions 7"
   ]
  },
  {
   "cell_type": "code",
   "execution_count": 12,
   "id": "50efcba3",
   "metadata": {},
   "outputs": [
    {
     "data": {
      "text/plain": [
       "0.19989598183186175"
      ]
     },
     "execution_count": 12,
     "metadata": {},
     "output_type": "execute_result"
    }
   ],
   "source": [
    "# Create an array y with values [1000, 1100, 900, 1200, 1000, 850, 1300].\n",
    "y = np.array([1000, 1100, 900, 1200, 1000, 850, 1300])\n",
    "y\n",
    "\n",
    "# Multiply the inverse of XTX with the transpose of X, and then multiply the result by y. Call the result w.\n",
    "#print(inverse_XTX * (X.T))\n",
    "m = inverse_XTX.dot(X.T)\n",
    "w = m.dot(y)\n",
    "\n",
    "# What's the value of the first element of w?.\n",
    "w[0]"
   ]
  },
  {
   "cell_type": "markdown",
   "id": "d98df45e",
   "metadata": {},
   "source": [
    "## Session #2 Homework"
   ]
  },
  {
   "cell_type": "markdown",
   "id": "8d429590",
   "metadata": {},
   "source": [
    "###  Create a regression model for prediction apartment prices - \n",
    "\n",
    "#### (using New York City Airbnb Open Data)\n",
    "\n",
    "Datset - https://www.kaggle.com/dgomonov/new-york-city-airbnb-open-data?select=AB_NYC_2019.csv"
   ]
  },
  {
   "cell_type": "code",
   "execution_count": 1,
   "id": "b211b18d",
   "metadata": {},
   "outputs": [
    {
     "data": {
      "text/plain": [
       "'0.11.2'"
      ]
     },
     "execution_count": 1,
     "metadata": {},
     "output_type": "execute_result"
    }
   ],
   "source": [
    "import pandas as pd\n",
    "import numpy as np\n",
    "import matplotlib.pyplot as plt\n",
    "import seaborn as sns\n",
    "\n",
    "%matplotlib inline\n",
    "\n",
    "sns.__version__"
   ]
  },
  {
   "cell_type": "markdown",
   "id": "1ad48a38",
   "metadata": {},
   "source": [
    "#### EDA\n",
    "Load the data."
   ]
  },
  {
   "cell_type": "code",
   "execution_count": 2,
   "id": "34e158ed",
   "metadata": {},
   "outputs": [
    {
     "data": {
      "text/html": [
       "<div>\n",
       "<style scoped>\n",
       "    .dataframe tbody tr th:only-of-type {\n",
       "        vertical-align: middle;\n",
       "    }\n",
       "\n",
       "    .dataframe tbody tr th {\n",
       "        vertical-align: top;\n",
       "    }\n",
       "\n",
       "    .dataframe thead th {\n",
       "        text-align: right;\n",
       "    }\n",
       "</style>\n",
       "<table border=\"1\" class=\"dataframe\">\n",
       "  <thead>\n",
       "    <tr style=\"text-align: right;\">\n",
       "      <th></th>\n",
       "      <th>id</th>\n",
       "      <th>name</th>\n",
       "      <th>host_id</th>\n",
       "      <th>host_name</th>\n",
       "      <th>neighbourhood_group</th>\n",
       "      <th>neighbourhood</th>\n",
       "      <th>latitude</th>\n",
       "      <th>longitude</th>\n",
       "      <th>room_type</th>\n",
       "      <th>price</th>\n",
       "      <th>minimum_nights</th>\n",
       "      <th>number_of_reviews</th>\n",
       "      <th>last_review</th>\n",
       "      <th>reviews_per_month</th>\n",
       "      <th>calculated_host_listings_count</th>\n",
       "      <th>availability_365</th>\n",
       "    </tr>\n",
       "  </thead>\n",
       "  <tbody>\n",
       "    <tr>\n",
       "      <th>0</th>\n",
       "      <td>2539</td>\n",
       "      <td>Clean &amp; quiet apt home by the park</td>\n",
       "      <td>2787</td>\n",
       "      <td>John</td>\n",
       "      <td>Brooklyn</td>\n",
       "      <td>Kensington</td>\n",
       "      <td>40.64749</td>\n",
       "      <td>-73.97237</td>\n",
       "      <td>Private room</td>\n",
       "      <td>149</td>\n",
       "      <td>1</td>\n",
       "      <td>9</td>\n",
       "      <td>2018-10-19</td>\n",
       "      <td>0.21</td>\n",
       "      <td>6</td>\n",
       "      <td>365</td>\n",
       "    </tr>\n",
       "    <tr>\n",
       "      <th>1</th>\n",
       "      <td>2595</td>\n",
       "      <td>Skylit Midtown Castle</td>\n",
       "      <td>2845</td>\n",
       "      <td>Jennifer</td>\n",
       "      <td>Manhattan</td>\n",
       "      <td>Midtown</td>\n",
       "      <td>40.75362</td>\n",
       "      <td>-73.98377</td>\n",
       "      <td>Entire home/apt</td>\n",
       "      <td>225</td>\n",
       "      <td>1</td>\n",
       "      <td>45</td>\n",
       "      <td>2019-05-21</td>\n",
       "      <td>0.38</td>\n",
       "      <td>2</td>\n",
       "      <td>355</td>\n",
       "    </tr>\n",
       "    <tr>\n",
       "      <th>2</th>\n",
       "      <td>3647</td>\n",
       "      <td>THE VILLAGE OF HARLEM....NEW YORK !</td>\n",
       "      <td>4632</td>\n",
       "      <td>Elisabeth</td>\n",
       "      <td>Manhattan</td>\n",
       "      <td>Harlem</td>\n",
       "      <td>40.80902</td>\n",
       "      <td>-73.94190</td>\n",
       "      <td>Private room</td>\n",
       "      <td>150</td>\n",
       "      <td>3</td>\n",
       "      <td>0</td>\n",
       "      <td>NaN</td>\n",
       "      <td>NaN</td>\n",
       "      <td>1</td>\n",
       "      <td>365</td>\n",
       "    </tr>\n",
       "    <tr>\n",
       "      <th>3</th>\n",
       "      <td>3831</td>\n",
       "      <td>Cozy Entire Floor of Brownstone</td>\n",
       "      <td>4869</td>\n",
       "      <td>LisaRoxanne</td>\n",
       "      <td>Brooklyn</td>\n",
       "      <td>Clinton Hill</td>\n",
       "      <td>40.68514</td>\n",
       "      <td>-73.95976</td>\n",
       "      <td>Entire home/apt</td>\n",
       "      <td>89</td>\n",
       "      <td>1</td>\n",
       "      <td>270</td>\n",
       "      <td>2019-07-05</td>\n",
       "      <td>4.64</td>\n",
       "      <td>1</td>\n",
       "      <td>194</td>\n",
       "    </tr>\n",
       "    <tr>\n",
       "      <th>4</th>\n",
       "      <td>5022</td>\n",
       "      <td>Entire Apt: Spacious Studio/Loft by central park</td>\n",
       "      <td>7192</td>\n",
       "      <td>Laura</td>\n",
       "      <td>Manhattan</td>\n",
       "      <td>East Harlem</td>\n",
       "      <td>40.79851</td>\n",
       "      <td>-73.94399</td>\n",
       "      <td>Entire home/apt</td>\n",
       "      <td>80</td>\n",
       "      <td>10</td>\n",
       "      <td>9</td>\n",
       "      <td>2018-11-19</td>\n",
       "      <td>0.10</td>\n",
       "      <td>1</td>\n",
       "      <td>0</td>\n",
       "    </tr>\n",
       "  </tbody>\n",
       "</table>\n",
       "</div>"
      ],
      "text/plain": [
       "     id                                              name  host_id  \\\n",
       "0  2539                Clean & quiet apt home by the park     2787   \n",
       "1  2595                             Skylit Midtown Castle     2845   \n",
       "2  3647               THE VILLAGE OF HARLEM....NEW YORK !     4632   \n",
       "3  3831                   Cozy Entire Floor of Brownstone     4869   \n",
       "4  5022  Entire Apt: Spacious Studio/Loft by central park     7192   \n",
       "\n",
       "     host_name neighbourhood_group neighbourhood  latitude  longitude  \\\n",
       "0         John            Brooklyn    Kensington  40.64749  -73.97237   \n",
       "1     Jennifer           Manhattan       Midtown  40.75362  -73.98377   \n",
       "2    Elisabeth           Manhattan        Harlem  40.80902  -73.94190   \n",
       "3  LisaRoxanne            Brooklyn  Clinton Hill  40.68514  -73.95976   \n",
       "4        Laura           Manhattan   East Harlem  40.79851  -73.94399   \n",
       "\n",
       "         room_type  price  minimum_nights  number_of_reviews last_review  \\\n",
       "0     Private room    149               1                  9  2018-10-19   \n",
       "1  Entire home/apt    225               1                 45  2019-05-21   \n",
       "2     Private room    150               3                  0         NaN   \n",
       "3  Entire home/apt     89               1                270  2019-07-05   \n",
       "4  Entire home/apt     80              10                  9  2018-11-19   \n",
       "\n",
       "   reviews_per_month  calculated_host_listings_count  availability_365  \n",
       "0               0.21                               6               365  \n",
       "1               0.38                               2               355  \n",
       "2                NaN                               1               365  \n",
       "3               4.64                               1               194  \n",
       "4               0.10                               1                 0  "
      ]
     },
     "execution_count": 2,
     "metadata": {},
     "output_type": "execute_result"
    }
   ],
   "source": [
    "data = pd.read_csv('AB_NYC_2019.csv')\n",
    "data.head()"
   ]
  },
  {
   "cell_type": "markdown",
   "id": "94c5edae",
   "metadata": {},
   "source": [
    "Look at the price variable. Does it have a long tail?"
   ]
  },
  {
   "cell_type": "code",
   "execution_count": 74,
   "id": "e7377169",
   "metadata": {},
   "outputs": [
    {
     "data": {
      "image/png": "[encoded data removed]",
      "text/plain": [
       "<Figure size 432x288 with 1 Axes>"
      ]
     },
     "metadata": {
      "needs_background": "light"
     },
     "output_type": "display_data"
    }
   ],
   "source": [
    "data.price.describe()\n",
    "\n",
    "# Computing the log of price column values:\n",
    "price_logs = np.log1p(data.price)\n",
    "\n",
    "# plotting the logarithmic price column values:\n",
    "sns.histplot(price_logs,bins=50)\n",
    "plt.show()"
   ]
  },
  {
   "cell_type": "markdown",
   "id": "e240bad1",
   "metadata": {},
   "source": [
    "Plotting the logarithmic values of price column shows that price variable has a long tail towards the right."
   ]
  },
  {
   "cell_type": "markdown",
   "id": "3d4ecdca",
   "metadata": {},
   "source": [
    "#### Features"
   ]
  },
  {
   "cell_type": "code",
   "execution_count": 75,
   "id": "1d8c8386",
   "metadata": {},
   "outputs": [
    {
     "data": {
      "text/html": [
       "<div>\n",
       "<style scoped>\n",
       "    .dataframe tbody tr th:only-of-type {\n",
       "        vertical-align: middle;\n",
       "    }\n",
       "\n",
       "    .dataframe tbody tr th {\n",
       "        vertical-align: top;\n",
       "    }\n",
       "\n",
       "    .dataframe thead th {\n",
       "        text-align: right;\n",
       "    }\n",
       "</style>\n",
       "<table border=\"1\" class=\"dataframe\">\n",
       "  <thead>\n",
       "    <tr style=\"text-align: right;\">\n",
       "      <th></th>\n",
       "      <th>latitude</th>\n",
       "      <th>longitude</th>\n",
       "      <th>price</th>\n",
       "      <th>minimum_nights</th>\n",
       "      <th>number_of_reviews</th>\n",
       "      <th>reviews_per_month</th>\n",
       "      <th>calculated_host_listings_count</th>\n",
       "      <th>availability_365</th>\n",
       "    </tr>\n",
       "  </thead>\n",
       "  <tbody>\n",
       "    <tr>\n",
       "      <th>0</th>\n",
       "      <td>40.64749</td>\n",
       "      <td>-73.97237</td>\n",
       "      <td>149</td>\n",
       "      <td>1</td>\n",
       "      <td>9</td>\n",
       "      <td>0.21</td>\n",
       "      <td>6</td>\n",
       "      <td>365</td>\n",
       "    </tr>\n",
       "    <tr>\n",
       "      <th>1</th>\n",
       "      <td>40.75362</td>\n",
       "      <td>-73.98377</td>\n",
       "      <td>225</td>\n",
       "      <td>1</td>\n",
       "      <td>45</td>\n",
       "      <td>0.38</td>\n",
       "      <td>2</td>\n",
       "      <td>355</td>\n",
       "    </tr>\n",
       "    <tr>\n",
       "      <th>2</th>\n",
       "      <td>40.80902</td>\n",
       "      <td>-73.94190</td>\n",
       "      <td>150</td>\n",
       "      <td>3</td>\n",
       "      <td>0</td>\n",
       "      <td>NaN</td>\n",
       "      <td>1</td>\n",
       "      <td>365</td>\n",
       "    </tr>\n",
       "    <tr>\n",
       "      <th>3</th>\n",
       "      <td>40.68514</td>\n",
       "      <td>-73.95976</td>\n",
       "      <td>89</td>\n",
       "      <td>1</td>\n",
       "      <td>270</td>\n",
       "      <td>4.64</td>\n",
       "      <td>1</td>\n",
       "      <td>194</td>\n",
       "    </tr>\n",
       "    <tr>\n",
       "      <th>4</th>\n",
       "      <td>40.79851</td>\n",
       "      <td>-73.94399</td>\n",
       "      <td>80</td>\n",
       "      <td>10</td>\n",
       "      <td>9</td>\n",
       "      <td>0.10</td>\n",
       "      <td>1</td>\n",
       "      <td>0</td>\n",
       "    </tr>\n",
       "  </tbody>\n",
       "</table>\n",
       "</div>"
      ],
      "text/plain": [
       "   latitude  longitude  price  minimum_nights  number_of_reviews  \\\n",
       "0  40.64749  -73.97237    149               1                  9   \n",
       "1  40.75362  -73.98377    225               1                 45   \n",
       "2  40.80902  -73.94190    150               3                  0   \n",
       "3  40.68514  -73.95976     89               1                270   \n",
       "4  40.79851  -73.94399     80              10                  9   \n",
       "\n",
       "   reviews_per_month  calculated_host_listings_count  availability_365  \n",
       "0               0.21                               6               365  \n",
       "1               0.38                               2               355  \n",
       "2                NaN                               1               365  \n",
       "3               4.64                               1               194  \n",
       "4               0.10                               1                 0  "
      ]
     },
     "execution_count": 75,
     "metadata": {},
     "output_type": "execute_result"
    }
   ],
   "source": [
    "# Select only specific columns from dataset for future use.\n",
    "features = data[['latitude','longitude','price','minimum_nights','number_of_reviews','reviews_per_month',\n",
    "'calculated_host_listings_count','availability_365']]\n",
    "\n",
    "features.head()"
   ]
  },
  {
   "cell_type": "markdown",
   "id": "905589b5",
   "metadata": {},
   "source": [
    "### Question 1\n",
    "\n",
    "Find a feature with missing values. How many missing values does it have?"
   ]
  },
  {
   "cell_type": "code",
   "execution_count": 76,
   "id": "038d5f07",
   "metadata": {},
   "outputs": [
    {
     "data": {
      "text/plain": [
       "latitude                              0\n",
       "longitude                             0\n",
       "price                                 0\n",
       "minimum_nights                        0\n",
       "number_of_reviews                     0\n",
       "reviews_per_month                 10052\n",
       "calculated_host_listings_count        0\n",
       "availability_365                      0\n",
       "dtype: int64"
      ]
     },
     "execution_count": 76,
     "metadata": {},
     "output_type": "execute_result"
    }
   ],
   "source": [
    "features.isnull().sum()"
   ]
  },
  {
   "cell_type": "markdown",
   "id": "be01e7fb",
   "metadata": {},
   "source": [
    "### Question 2\n",
    "\n",
    "What's the median (50% percentile) for variable 'minimum_nights'?"
   ]
  },
  {
   "cell_type": "code",
   "execution_count": 77,
   "id": "6a179d69",
   "metadata": {},
   "outputs": [
    {
     "data": {
      "text/plain": [
       "count    48895.000000\n",
       "mean         7.029962\n",
       "std         20.510550\n",
       "min          1.000000\n",
       "25%          1.000000\n",
       "50%          3.000000\n",
       "75%          5.000000\n",
       "max       1250.000000\n",
       "Name: minimum_nights, dtype: float64"
      ]
     },
     "execution_count": 77,
     "metadata": {},
     "output_type": "execute_result"
    }
   ],
   "source": [
    "features['minimum_nights'].describe()   # 50th percentile is the same as the median"
   ]
  },
  {
   "cell_type": "markdown",
   "id": "1a4f66d3",
   "metadata": {},
   "source": [
    "#### Split the data"
   ]
  },
  {
   "cell_type": "code",
   "execution_count": 78,
   "id": "9b3e8810",
   "metadata": {},
   "outputs": [
    {
     "data": {
      "text/plain": [
       "(48895, 48895)"
      ]
     },
     "execution_count": 78,
     "metadata": {},
     "output_type": "execute_result"
    }
   ],
   "source": [
    "# Split your data in train/val/test sets, with 60%/20%/20% distribution.\n",
    "n = len(data)\n",
    "\n",
    "n_val = int(n * 0.2)   # split 20% into validation set\n",
    "n_test = int(n * 0.2)  # split 20% into testing set\n",
    "n_train = n - n_val - n_test  # remaining training set\n",
    "n, n_val + n_test + n_train"
   ]
  },
  {
   "cell_type": "code",
   "execution_count": 79,
   "id": "689794de",
   "metadata": {},
   "outputs": [
    {
     "data": {
      "text/plain": [
       "(9779, 9779, 29337)"
      ]
     },
     "execution_count": 79,
     "metadata": {},
     "output_type": "execute_result"
    }
   ],
   "source": [
    "# getting the size of the splitted datasets:\n",
    "n_val, n_test, n_train"
   ]
  },
  {
   "cell_type": "code",
   "execution_count": 80,
   "id": "fd7cb8cb",
   "metadata": {},
   "outputs": [
    {
     "data": {
      "text/plain": [
       "array([  879, 44383, 15394, ..., 38158,   860, 15795])"
      ]
     },
     "execution_count": 80,
     "metadata": {},
     "output_type": "execute_result"
    }
   ],
   "source": [
    "# Shuffle the initial dataset, use seed 42.\n",
    "idx = np.arange(n)\n",
    "np.random.seed(42)\n",
    "\n",
    "np.random.shuffle(idx)  # shuffle the data from index\n",
    "idx"
   ]
  },
  {
   "cell_type": "code",
   "execution_count": 81,
   "id": "f58cb4d4",
   "metadata": {},
   "outputs": [
    {
     "name": "stdout",
     "output_type": "stream",
     "text": [
      "(9779, 16) (9779, 16) (29337, 16)\n"
     ]
    }
   ],
   "source": [
    "# getting the rows for each set from the shuffled indices:\n",
    "df_val = data.iloc[idx[:n_val]]\n",
    "df_test = data.iloc[idx[n_val:n_val+n_test]]\n",
    "df_train = data.iloc[idx[n_val + n_test:]]\n",
    "\n",
    "print(df_val.shape, df_test.shape,df_train.shape)"
   ]
  },
  {
   "cell_type": "code",
   "execution_count": 82,
   "id": "e7267a69",
   "metadata": {},
   "outputs": [],
   "source": [
    "# Slicing out price column from the 3 split sets and assign to y variables for each:\n",
    "# # Apply the log transformation to the price variable using the np.log1p() function.\n",
    "y_train = np.log1p(df_train.price.values)   # getting numpy arrays instead of Pandas series for target variable\n",
    "y_val = np.log1p(df_val.price.values)\n",
    "y_test = np.log1p(df_test.price.values)"
   ]
  },
  {
   "cell_type": "code",
   "execution_count": 83,
   "id": "7d6b9eaa",
   "metadata": {},
   "outputs": [
    {
     "name": "stdout",
     "output_type": "stream",
     "text": [
      "(9779, 15) (9779, 15) (29337, 15)\n"
     ]
    }
   ],
   "source": [
    "# Make sure that the target value ('price') is not in your dataframe.\n",
    "# deleting the price column from Feature matrices of train, validation and test set:\n",
    "del df_train['price']\n",
    "del df_val['price']\n",
    "del df_test['price']\n",
    "\n",
    "print(df_val.shape, df_test.shape,df_train.shape)"
   ]
  },
  {
   "cell_type": "markdown",
   "id": "41b83884",
   "metadata": {},
   "source": [
    "### Question 3\n",
    "\n",
    "#### Option 1 - Filling NaN with 0 - Training  a linear regression model without regularization -"
   ]
  },
  {
   "cell_type": "code",
   "execution_count": 84,
   "id": "2a8a9e4a",
   "metadata": {},
   "outputs": [],
   "source": [
    "subset_features = ['latitude','longitude','minimum_nights','number_of_reviews','reviews_per_month',\n",
    "'calculated_host_listings_count','availability_365']"
   ]
  },
  {
   "cell_type": "code",
   "execution_count": 85,
   "id": "696ac3eb",
   "metadata": {},
   "outputs": [],
   "source": [
    "# Creating a function to extract a subset of a df as an array - \n",
    "def prepare_X(df):\n",
    "    \n",
    "    df_num = df[subset_features]  # feature columns we want in our feature matrix subset\n",
    "    df_num = df_num.fillna(0)  # fill missing values with zeros\n",
    "    X = df_num.values   # extracting only values of subset as a Numpy array\n",
    "    return X"
   ]
  },
  {
   "cell_type": "code",
   "execution_count": 86,
   "id": "2d0cc561",
   "metadata": {},
   "outputs": [],
   "source": [
    "# slicing only above feature columns to create a subset of training dataset:\n",
    "X_train = prepare_X(df_train)"
   ]
  },
  {
   "cell_type": "code",
   "execution_count": 87,
   "id": "740d038b",
   "metadata": {},
   "outputs": [],
   "source": [
    "# Creating a function to predict car price's using 3 features - \n",
    "def train_linear_regression(X,y):\n",
    "    # Step 1 - adding ones for bias term in features matrix - using np.ones() function:\n",
    "    ones = np.ones(X.shape[0])\n",
    "    # Step 2 - stacking the array for ones generated in Step 1 to the features' matrix:\n",
    "    X = np.column_stack([ones, X])\n",
    "    \n",
    "    # Step 3 - compute the gram matrix by dot product of X matrix with X transpose:\n",
    "    XTX = X.T.dot(X)\n",
    "    # Step 4 - compute the inverse of XTX computes in Step 3 - using np.linalginv() function:\n",
    "    XTX_inv = np.linalg.inv(XTX)\n",
    "    \n",
    "    # Step 5 - compute the weights of the entire car data using dot product multiplication with target variable y:\n",
    "    w_full = XTX_inv.dot(X.T).dot(y)\n",
    "    \n",
    "    # Step 6 - return the computed intercept or bias term and rest of factors of linear regression equation:\n",
    "    return w_full[0], w_full[1:]"
   ]
  },
  {
   "cell_type": "code",
   "execution_count": 88,
   "id": "15f68dc3",
   "metadata": {},
   "outputs": [
    {
     "data": {
      "text/plain": [
       "array([4.87791291, 4.81288069, 5.55153718, ..., 5.02356152, 4.88478955,\n",
       "       4.66641733])"
      ]
     },
     "execution_count": 88,
     "metadata": {},
     "output_type": "execute_result"
    }
   ],
   "source": [
    "# Running the Linear regression model (function) for the training sets to get weights w0 and w:\n",
    "w0, w = train_linear_regression(X_train, y_train)\n",
    "\n",
    "# computing target variable y_pred -\n",
    "# using weights w0 and w to compute the target variable y_pred:\n",
    "y_pred = w0 + X_train.dot(w)\n",
    "y_pred"
   ]
  },
  {
   "cell_type": "code",
   "execution_count": 89,
   "id": "6146398f",
   "metadata": {},
   "outputs": [],
   "source": [
    "# Creating a function to calculate the RMSE of actual target variable vs. predicted target variables:\n",
    "def rmse(y,y_pred):\n",
    "    # computing the squared error first:\n",
    "    se = (y - y_pred) ** 2  \n",
    "    # computing the mean of squared errors computed:\n",
    "    mse = se.mean()\n",
    "    # returning the square root of squared error:\n",
    "    return np.sqrt(mse)"
   ]
  },
  {
   "cell_type": "markdown",
   "id": "947381a6",
   "metadata": {},
   "source": [
    "#### Option 2 - Filling NaN with Mean value - Training a linear regression model without regularization -"
   ]
  },
  {
   "cell_type": "code",
   "execution_count": 90,
   "id": "5decfbce",
   "metadata": {},
   "outputs": [],
   "source": [
    "# Creating a function to extract a subset of a df as an array - \n",
    "def prepare_X2(df):\n",
    "    df_num = df[subset_features]  # feature columns we want in our feature matrix subset\n",
    "    df_num = df_num.fillna(df_train['reviews_per_month'].mean())  # fill missing values with mean of column\n",
    "    X2 = df_num.values   # extracting only values of subset as a Numpy array\n",
    "    return X2"
   ]
  },
  {
   "cell_type": "code",
   "execution_count": 91,
   "id": "a5969f90",
   "metadata": {},
   "outputs": [],
   "source": [
    "# slicing only above feature columns to create a subset of training dataset:\n",
    "X_train_2 = prepare_X2(df_train)"
   ]
  },
  {
   "cell_type": "code",
   "execution_count": 92,
   "id": "d88377ad",
   "metadata": {},
   "outputs": [],
   "source": [
    "# Creating a function to predict car price's using 3 features - \n",
    "def train_linear_regression2(X,y):\n",
    "    # Step 1 - adding ones for bias term in features matrix - using np.ones() function:\n",
    "    ones = np.ones(X.shape[0])\n",
    "    # Step 2 - stacking the array for ones generated in Step 1 to the features' matrix:\n",
    "    X = np.column_stack([ones, X])\n",
    "    \n",
    "    # Step 3 - compute the gram matrix by dot product of X matrix with X transpose:\n",
    "    XTX = X.T.dot(X)\n",
    "    # Step 4 - compute the inverse of XTX computes in Step 3 - using np.linalginv() function:\n",
    "    XTX_inv = np.linalg.inv(XTX)\n",
    "    \n",
    "    # Step 5 - compute the weights of the entire car data using dot product multiplication with target variable y:\n",
    "    w_full = XTX_inv.dot(X.T).dot(y)\n",
    "    \n",
    "    # Step 6 - return the computed intercept or bias term and rest of factors of linear regression equation:\n",
    "    return w_full[0], w_full[1:]"
   ]
  },
  {
   "cell_type": "code",
   "execution_count": 93,
   "id": "c57d1b02",
   "metadata": {},
   "outputs": [
    {
     "data": {
      "text/plain": [
       "array([4.86744762, 4.80488808, 5.54883838, ..., 5.01686784, 4.87418674,\n",
       "       4.65564306])"
      ]
     },
     "execution_count": 93,
     "metadata": {},
     "output_type": "execute_result"
    }
   ],
   "source": [
    "# Running the Linear regression model (function) for the training sets to get weights w0 and w:\n",
    "w0, w = train_linear_regression2(X_train_2, y_train)\n",
    "\n",
    "# computing target variable y_pred -\n",
    "# using weights w0 and w to compute the target variable y_pred:\n",
    "y_pred = w0 + X_train_2.dot(w)\n",
    "y_pred"
   ]
  },
  {
   "cell_type": "code",
   "execution_count": 94,
   "id": "c5cb6bd3",
   "metadata": {},
   "outputs": [],
   "source": [
    "# Creating a function to calculate the RMSE of actual target variable vs. predicted target variables:\n",
    "def rmse2(y,y_pred):\n",
    "    # computing the squared error first:\n",
    "    se = (y - y_pred) ** 2  \n",
    "    # computing the mean of squared errors computed:\n",
    "    mse = se.mean()\n",
    "    # returning the square root of squared error:\n",
    "    return np.sqrt(mse)"
   ]
  },
  {
   "cell_type": "markdown",
   "id": "3919619a",
   "metadata": {},
   "source": [
    "#### Use the validation dataset to evaluate the models and compare the RMSE of each option.\n",
    "\n",
    "Option 1 - Filling NaN with 0"
   ]
  },
  {
   "cell_type": "code",
   "execution_count": 95,
   "id": "5456bb7b",
   "metadata": {},
   "outputs": [],
   "source": [
    "# slicing subset feature array on to create a validation set:\n",
    "X_val = prepare_X(df_val)\n",
    "\n",
    "y_pred = w0 + X_val.dot(w)   # computing the predicted target variable y for validation set\n",
    "val_score = rmse(y_val, y_pred)   # computing the rmse for validation set"
   ]
  },
  {
   "cell_type": "markdown",
   "id": "3a2a7ad4",
   "metadata": {},
   "source": [
    "Option 2 - Filling NaN with Mean value"
   ]
  },
  {
   "cell_type": "code",
   "execution_count": 96,
   "id": "d7266b41",
   "metadata": {},
   "outputs": [],
   "source": [
    "# slicing subset feature array on to create a validation set:\n",
    "X_val = prepare_X2(df_val)\n",
    "\n",
    "y_pred = w0 + X_val.dot(w)   # computing the predicted target variable y for validation set\n",
    "val_score2 = rmse2(y_val, y_pred)   # computing the rmse for validation set"
   ]
  },
  {
   "cell_type": "markdown",
   "id": "0a0ff44a",
   "metadata": {},
   "source": [
    "Which option gives better RMSE?"
   ]
  },
  {
   "cell_type": "code",
   "execution_count": 97,
   "id": "1262ab2c",
   "metadata": {},
   "outputs": [
    {
     "name": "stdout",
     "output_type": "stream",
     "text": [
      "Option 1 RMSE: 0.64\n",
      "Option 2 RMSE: 0.64\n"
     ]
    }
   ],
   "source": [
    "# ound the RMSE scores to 2 decimal digits using round(score, 2)\n",
    "print('Option 1 RMSE:',round(val_score,2))\n",
    "print('Option 2 RMSE:',round(val_score2,2))"
   ]
  },
  {
   "cell_type": "markdown",
   "id": "3416172b",
   "metadata": {},
   "source": [
    "Both Options give almost same RMSE value on validation set."
   ]
  },
  {
   "cell_type": "markdown",
   "id": "6a4c025c",
   "metadata": {},
   "source": [
    "### Question 4\n",
    "\n",
    "Now let's train a regularized linear regression. \n",
    "\n",
    "For this question, fill the NAs with 0."
   ]
  },
  {
   "cell_type": "code",
   "execution_count": 98,
   "id": "faef5296",
   "metadata": {},
   "outputs": [],
   "source": [
    "# Creating a Regularized function to predict price using features - \n",
    "def train_linear_regression_reg(X,y,r):\n",
    "    # Step 1 - adding ones for bias term in features matrix - using np.ones() function:\n",
    "    ones = np.ones(X.shape[0])\n",
    "    # Step 2 - stacking the array for ones generated in Step 1 to the features' matrix:\n",
    "    X = np.column_stack([ones, X])\n",
    "    \n",
    "    # Step 3 - compute the gram matrix by dot product of X matrix with X transpose:\n",
    "    XTX = X.T.dot(X)\n",
    "    # Step 4 - # add the alpha term r to diagonals of matrix use np.eye() function:\n",
    "    XTX = XTX + r * np.eye(XTX.shape[0])   \n",
    "    \n",
    "    # Step 5 - compute the inverse of XTX computes in Step 3 - using np.linalginv() function:\n",
    "    XTX_inv = np.linalg.inv(XTX)\n",
    "    \n",
    "    # Step 6 - compute the weights of the entire car data using dot product multiplication with target variable y:\n",
    "    w_full = XTX_inv.dot(X.T).dot(y)\n",
    "    \n",
    "    # Step 7 - return the computed intercept or bias term and rest of factors of linear regression equation:\n",
    "    return w_full[0], w_full[1:]"
   ]
  },
  {
   "cell_type": "markdown",
   "id": "7666c2c9",
   "metadata": {},
   "source": [
    "Try different values of r from this list: [0, 0.000001, 0.0001, 0.001, 0.01, 0.1, 1, 5, 10].\n",
    "    \n",
    "Use RMSE to evaluate the model on the validation dataset.\n",
    "\n",
    "Round the RMSE scores to 2 decimal digits."
   ]
  },
  {
   "cell_type": "code",
   "execution_count": 107,
   "id": "069e4b29",
   "metadata": {},
   "outputs": [
    {
     "name": "stdout",
     "output_type": "stream",
     "text": [
      "0 -385.59 RMSE : 29.68\n",
      "1e-06 -385.59 RMSE : 29.63\n",
      "0.0001 -385.59 RMSE : 24.84\n",
      "0.001 -385.59 RMSE : 14.15\n",
      "0.01 -385.59 RMSE : 195.04\n",
      "0.1 -385.59 RMSE : 353.12\n",
      "1 -385.59 RMSE : 382.09\n",
      "5 -385.59 RMSE : 384.88\n",
      "10 -385.59 RMSE : 385.23\n"
     ]
    }
   ],
   "source": [
    "# Using the newly created Regularized function:\n",
    "# Finding the best regularization parameter, r for our Linear Regression model - \n",
    "# taking a series of r values to test our model and find the RMSE score for each:\n",
    "for m in [0, 0.000001, 0.0001, 0.001, 0.01, 0.1, 1, 5, 10]:\n",
    "    \n",
    "    X_train = prepare_X(df_train)   # function replaces NaN with zeros\n",
    "    wo, w = train_linear_regression_reg(X_train, y_train,r=m)   # training set\n",
    "    \n",
    "    X_val = prepare_X(df_val)    # validation set\n",
    "    y_pred = w0 + X_val.dot(w)\n",
    "\n",
    "    score = rmse(y_val,y_pred)   # comparing actual vs prediction target variable in validation set\n",
    "    print(m, round(w0,2), 'RMSE :',round(score,2))"
   ]
  },
  {
   "cell_type": "markdown",
   "id": "e47bfc15",
   "metadata": {},
   "source": [
    "#### Which r gives the best RMSE?\n",
    "r = 0.0001 gives a RMSE of 8.42 which is low but not extremely low."
   ]
  },
  {
   "cell_type": "markdown",
   "id": "128f6c1f",
   "metadata": {},
   "source": [
    "### Question 5"
   ]
  },
  {
   "cell_type": "markdown",
   "id": "28648e14",
   "metadata": {},
   "source": [
    "We used seed 42 for splitting the data. Let's find out how selecting the seed influences our score.\n",
    "\n",
    "Try different seed values: [0, 1, 2, 3, 4, 5, 6, 7, 8, 9].\n",
    "\n",
    "Fill the missing values with 0 and train a model without regularization.\n",
    "\n",
    "For each seed, evaluate the model on the validation dataset and collect the RMSE scores."
   ]
  },
  {
   "cell_type": "code",
   "execution_count": 100,
   "id": "6306547f",
   "metadata": {},
   "outputs": [
    {
     "name": "stdout",
     "output_type": "stream",
     "text": [
      "0 [43813 32734 25276 ... 42613 43567  2732] -443.49 RMSE: 23.14\n",
      "1 [18907 46663 19757 ...  5192 12172 33003] -443.49 RMSE: 7.64\n",
      "2 [22043 39679 45220 ...  6637 35343 23720] -443.49 RMSE: 19.56\n",
      "3 [ 6920 38903 30764 ... 11513  1688  5994] -443.49 RMSE: 17.6\n",
      "4 [25022 38145  2095 ... 27063  8366 17530] -443.49 RMSE: 19.35\n",
      "5 [20531 20353 26436 ... 20463 18638 35683] -443.49 RMSE: 26.13\n",
      "6 [27383  7800 18787 ... 42964 41187 31626] -443.49 RMSE: 22.89\n",
      "7 [13636 25054 15227 ...   919 38467 10742] -443.49 RMSE: 20.78\n",
      "8 [42099 22672  8754 ... 18417 25940  4547] -443.49 RMSE: 21.53\n",
      "9 [25415  1329 31738 ... 22584   501 20828] -443.49 RMSE: 28.24\n"
     ]
    }
   ],
   "source": [
    "RMSE_scores = []\n",
    "\n",
    "for a in [0, 1, 2, 3, 4, 5, 6, 7, 8, 9]:\n",
    "    # For each seed, do the train/validation/test split with 60%/20%/20% distribution.\n",
    "    n = len(data)\n",
    "\n",
    "    # Shuffle the initial dataset, use different seed values from list:\n",
    "    np.random.seed(a)\n",
    "    \n",
    "    idx = np.arange(n)\n",
    "    np.random.shuffle(idx)# shuffle the data from index\n",
    "    \n",
    "    n_val = int(n * 0.2)   # split 20% into validation set\n",
    "    n_test = int(n * 0.2)  # split 20% into testing set\n",
    "    n_train = n - n_val - n_test  # remaining training set\n",
    "\n",
    "\n",
    "    # getting the rows for each set from the shuffled indices:\n",
    "    df_val = data.iloc[idx[:n_val]]\n",
    "    df_test = data.iloc[idx[n_val:n_val+n_test]]\n",
    "    df_train = data.iloc[idx[n_val + n_test:]]\n",
    "   \n",
    "    # Slicing out price column from the 3 split sets and assign to y variables for each:\n",
    "    # # Apply the log transformation to the price variable using the np.log1p() function.\n",
    "    y_train = np.log1p(df_train.price.values)   # getting numpy arrays instead of Pandas series for target variable\n",
    "    y_val = np.log1p(df_val.price.values)\n",
    "    y_test = np.log1p(df_test.price.values)\n",
    "    \n",
    "\n",
    "    # Make sure that the target value ('price') is not in your dataframe.\n",
    "    # deleting the price column from Feature matrices of train, validation and test set:\n",
    "    del df_train['price']\n",
    "    del df_val['price']\n",
    "    del df_test['price']\n",
    "\n",
    "    X_train = prepare_X(df_train)   # function replaces NaN with zeros\n",
    "       \n",
    "    # Training a model without regularization:\n",
    "    wo, w = train_linear_regression(X_train, y_train)   # training set\n",
    "\n",
    "    X_val = prepare_X(df_val) # validation set\n",
    "    \n",
    "    y_pred = w0 + X_val.dot(w)\n",
    "\n",
    "    score = rmse(y_val,y_pred)   # comparing actual vs prediction target variable in validation set\n",
    "    \n",
    "    print(a, idx, round(w0,2),'RMSE:',round(score,2))   \n",
    "    RMSE_scores.append(score)\n",
    "\n",
    "RMSE_std = np.std(RMSE_scores)"
   ]
  },
  {
   "cell_type": "code",
   "execution_count": 101,
   "id": "baee8a20",
   "metadata": {},
   "outputs": [
    {
     "data": {
      "text/plain": [
       "5.302255023811292"
      ]
     },
     "execution_count": 101,
     "metadata": {},
     "output_type": "execute_result"
    }
   ],
   "source": [
    "np.std(RMSE_scores)"
   ]
  },
  {
   "cell_type": "code",
   "execution_count": 102,
   "id": "18ed8551",
   "metadata": {},
   "outputs": [
    {
     "data": {
      "text/plain": [
       "5.302"
      ]
     },
     "execution_count": 102,
     "metadata": {},
     "output_type": "execute_result"
    }
   ],
   "source": [
    "# What's the standard deviation of all the scores? To compute the standard deviation, use np.std:\n",
    "RMSE_std\n",
    "\n",
    "# Round the result to 3 decimal digits:\n",
    "(round(RMSE_std, 3))"
   ]
  },
  {
   "cell_type": "markdown",
   "id": "828c1ef0",
   "metadata": {},
   "source": [
    "### Question 6"
   ]
  },
  {
   "cell_type": "code",
   "execution_count": 103,
   "id": "483844b4",
   "metadata": {},
   "outputs": [],
   "source": [
    "# Split the dataset like previously, use seed 9.\n",
    "n = len(data)\n",
    "\n",
    "# Shuffle the initial dataset, use different seed values from list:\n",
    "np.random.seed(9)\n",
    "\n",
    "idx = np.arange(n)\n",
    "np.random.shuffle(idx)# shuffle the data from index\n",
    "    \n",
    "n_val = int(n * 0.2)   # split 20% into validation set\n",
    "n_test = int(n * 0.2)  # split 20% into testing set\n",
    "n_train = n - n_val - n_test  # remaining training set\n",
    "\n",
    "# getting the rows for each set from the shuffled indices:\n",
    "df_val = data.iloc[idx[:n_val]]\n",
    "df_test = data.iloc[idx[n_val:n_val+n_test]]\n",
    "df_train = data.iloc[idx[n_val + n_test:]]\n",
    "   \n",
    "# Slicing out price column from the 3 split sets and assign to y variables for each:\n",
    "# # Apply the log transformation to the price variable using the np.log1p() function.\n",
    "y_train = np.log1p(df_train.price.values)   # getting numpy arrays instead of Pandas series for target variable\n",
    "y_val = np.log1p(df_val.price.values)\n",
    "y_test = np.log1p(df_test.price.values)\n",
    "    \n",
    "\n",
    "# Make sure that the target value ('price') is not in your dataframe.\n",
    "# deleting the price column from Feature matrices of train, validation and test set:\n",
    "del df_train['price']\n",
    "del df_val['price']\n",
    "del df_test['price']"
   ]
  },
  {
   "cell_type": "markdown",
   "id": "28e19624",
   "metadata": {},
   "source": [
    "Combine train and validation datasets.\n",
    "\n",
    "Fill the missing values with 0 and train a model with r=0.001."
   ]
  },
  {
   "cell_type": "code",
   "execution_count": 104,
   "id": "181d8493",
   "metadata": {},
   "outputs": [
    {
     "data": {
      "text/plain": [
       "0.6404588269895755"
      ]
     },
     "execution_count": 104,
     "metadata": {},
     "output_type": "execute_result"
    }
   ],
   "source": [
    "df_full_train = pd.concat([df_train,df_val])\n",
    "# resetting index of combined training set:\n",
    "df_full_train = df_full_train.reset_index(drop=True)\n",
    "\n",
    "# Combining features matrix for training and validation set using full training set as input to the prepare_X  function:\n",
    "X_full_train = prepare_X(df_full_train)\n",
    "X_full_train \n",
    "\n",
    "# Combining y target variable array of training and validation set:\n",
    "y_full_train = np.concatenate([y_train, y_val])\n",
    "y_full_train\n",
    "\n",
    "\n",
    "# Running the Regularized linear regression model and calculating the RMSE score on testing dataset:\n",
    "w0, w = train_linear_regression_reg(X_full_train,y_full_train, r=0.001)\n",
    "\n",
    "X_test = prepare_X(df_test)\n",
    "y_pred = w0 + X_test.dot(w)\n",
    "score = rmse(y_test, y_pred)\n",
    "\n",
    "# What's the RMSE on the test dataset?\n",
    "score"
   ]
  },
  {
   "cell_type": "markdown",
   "id": "39663ecd",
   "metadata": {},
   "source": [
    "## Session #3 Homework\n",
    "\n",
    "Datset - continue the New York City Airbnb Open Data\n",
    "\n",
    "https://www.kaggle.com/dgomonov/new-york-city-airbnb-open-data?select=AB_NYC_2019.csv"
   ]
  },
  {
   "cell_type": "code",
   "execution_count": 1,
   "id": "79e9c4ab",
   "metadata": {},
   "outputs": [],
   "source": [
    "import pandas as pd\n",
    "import numpy as np\n",
    "import matplotlib.pyplot as plt\n",
    "import seaborn as sns\n",
    "\n",
    "%matplotlib inline"
   ]
  },
  {
   "cell_type": "code",
   "execution_count": 58,
   "id": "e9122474",
   "metadata": {},
   "outputs": [
    {
     "data": {
      "text/html": [
       "<div>\n",
       "<style scoped>\n",
       "    .dataframe tbody tr th:only-of-type {\n",
       "        vertical-align: middle;\n",
       "    }\n",
       "\n",
       "    .dataframe tbody tr th {\n",
       "        vertical-align: top;\n",
       "    }\n",
       "\n",
       "    .dataframe thead th {\n",
       "        text-align: right;\n",
       "    }\n",
       "</style>\n",
       "<table border=\"1\" class=\"dataframe\">\n",
       "  <thead>\n",
       "    <tr style=\"text-align: right;\">\n",
       "      <th></th>\n",
       "      <th>id</th>\n",
       "      <th>name</th>\n",
       "      <th>host_id</th>\n",
       "      <th>host_name</th>\n",
       "      <th>neighbourhood_group</th>\n",
       "      <th>neighbourhood</th>\n",
       "      <th>latitude</th>\n",
       "      <th>longitude</th>\n",
       "      <th>room_type</th>\n",
       "      <th>price</th>\n",
       "      <th>minimum_nights</th>\n",
       "      <th>number_of_reviews</th>\n",
       "      <th>last_review</th>\n",
       "      <th>reviews_per_month</th>\n",
       "      <th>calculated_host_listings_count</th>\n",
       "      <th>availability_365</th>\n",
       "    </tr>\n",
       "  </thead>\n",
       "  <tbody>\n",
       "    <tr>\n",
       "      <th>0</th>\n",
       "      <td>2539</td>\n",
       "      <td>Clean &amp; quiet apt home by the park</td>\n",
       "      <td>2787</td>\n",
       "      <td>John</td>\n",
       "      <td>Brooklyn</td>\n",
       "      <td>Kensington</td>\n",
       "      <td>40.64749</td>\n",
       "      <td>-73.97237</td>\n",
       "      <td>Private room</td>\n",
       "      <td>149</td>\n",
       "      <td>1</td>\n",
       "      <td>9</td>\n",
       "      <td>2018-10-19</td>\n",
       "      <td>0.21</td>\n",
       "      <td>6</td>\n",
       "      <td>365</td>\n",
       "    </tr>\n",
       "    <tr>\n",
       "      <th>1</th>\n",
       "      <td>2595</td>\n",
       "      <td>Skylit Midtown Castle</td>\n",
       "      <td>2845</td>\n",
       "      <td>Jennifer</td>\n",
       "      <td>Manhattan</td>\n",
       "      <td>Midtown</td>\n",
       "      <td>40.75362</td>\n",
       "      <td>-73.98377</td>\n",
       "      <td>Entire home/apt</td>\n",
       "      <td>225</td>\n",
       "      <td>1</td>\n",
       "      <td>45</td>\n",
       "      <td>2019-05-21</td>\n",
       "      <td>0.38</td>\n",
       "      <td>2</td>\n",
       "      <td>355</td>\n",
       "    </tr>\n",
       "    <tr>\n",
       "      <th>2</th>\n",
       "      <td>3647</td>\n",
       "      <td>THE VILLAGE OF HARLEM....NEW YORK !</td>\n",
       "      <td>4632</td>\n",
       "      <td>Elisabeth</td>\n",
       "      <td>Manhattan</td>\n",
       "      <td>Harlem</td>\n",
       "      <td>40.80902</td>\n",
       "      <td>-73.94190</td>\n",
       "      <td>Private room</td>\n",
       "      <td>150</td>\n",
       "      <td>3</td>\n",
       "      <td>0</td>\n",
       "      <td>NaN</td>\n",
       "      <td>NaN</td>\n",
       "      <td>1</td>\n",
       "      <td>365</td>\n",
       "    </tr>\n",
       "    <tr>\n",
       "      <th>3</th>\n",
       "      <td>3831</td>\n",
       "      <td>Cozy Entire Floor of Brownstone</td>\n",
       "      <td>4869</td>\n",
       "      <td>LisaRoxanne</td>\n",
       "      <td>Brooklyn</td>\n",
       "      <td>Clinton Hill</td>\n",
       "      <td>40.68514</td>\n",
       "      <td>-73.95976</td>\n",
       "      <td>Entire home/apt</td>\n",
       "      <td>89</td>\n",
       "      <td>1</td>\n",
       "      <td>270</td>\n",
       "      <td>2019-07-05</td>\n",
       "      <td>4.64</td>\n",
       "      <td>1</td>\n",
       "      <td>194</td>\n",
       "    </tr>\n",
       "    <tr>\n",
       "      <th>4</th>\n",
       "      <td>5022</td>\n",
       "      <td>Entire Apt: Spacious Studio/Loft by central park</td>\n",
       "      <td>7192</td>\n",
       "      <td>Laura</td>\n",
       "      <td>Manhattan</td>\n",
       "      <td>East Harlem</td>\n",
       "      <td>40.79851</td>\n",
       "      <td>-73.94399</td>\n",
       "      <td>Entire home/apt</td>\n",
       "      <td>80</td>\n",
       "      <td>10</td>\n",
       "      <td>9</td>\n",
       "      <td>2018-11-19</td>\n",
       "      <td>0.10</td>\n",
       "      <td>1</td>\n",
       "      <td>0</td>\n",
       "    </tr>\n",
       "  </tbody>\n",
       "</table>\n",
       "</div>"
      ],
      "text/plain": [
       "     id                                              name  host_id  \\\n",
       "0  2539                Clean & quiet apt home by the park     2787   \n",
       "1  2595                             Skylit Midtown Castle     2845   \n",
       "2  3647               THE VILLAGE OF HARLEM....NEW YORK !     4632   \n",
       "3  3831                   Cozy Entire Floor of Brownstone     4869   \n",
       "4  5022  Entire Apt: Spacious Studio/Loft by central park     7192   \n",
       "\n",
       "     host_name neighbourhood_group neighbourhood  latitude  longitude  \\\n",
       "0         John            Brooklyn    Kensington  40.64749  -73.97237   \n",
       "1     Jennifer           Manhattan       Midtown  40.75362  -73.98377   \n",
       "2    Elisabeth           Manhattan        Harlem  40.80902  -73.94190   \n",
       "3  LisaRoxanne            Brooklyn  Clinton Hill  40.68514  -73.95976   \n",
       "4        Laura           Manhattan   East Harlem  40.79851  -73.94399   \n",
       "\n",
       "         room_type  price  minimum_nights  number_of_reviews last_review  \\\n",
       "0     Private room    149               1                  9  2018-10-19   \n",
       "1  Entire home/apt    225               1                 45  2019-05-21   \n",
       "2     Private room    150               3                  0         NaN   \n",
       "3  Entire home/apt     89               1                270  2019-07-05   \n",
       "4  Entire home/apt     80              10                  9  2018-11-19   \n",
       "\n",
       "   reviews_per_month  calculated_host_listings_count  availability_365  \n",
       "0               0.21                               6               365  \n",
       "1               0.38                               2               355  \n",
       "2                NaN                               1               365  \n",
       "3               4.64                               1               194  \n",
       "4               0.10                               1                 0  "
      ]
     },
     "execution_count": 58,
     "metadata": {},
     "output_type": "execute_result"
    }
   ],
   "source": [
    "data = pd.read_csv('AB_NYC_2019.csv')\n",
    "data.head()"
   ]
  },
  {
   "cell_type": "code",
   "execution_count": 59,
   "id": "98d27199",
   "metadata": {},
   "outputs": [
    {
     "data": {
      "text/plain": [
       "(48895, 16)"
      ]
     },
     "execution_count": 59,
     "metadata": {},
     "output_type": "execute_result"
    }
   ],
   "source": [
    "data.shape"
   ]
  },
  {
   "cell_type": "markdown",
   "id": "6b28c61a",
   "metadata": {},
   "source": [
    "#### Features - \n",
    "\n",
    "Features from the previous homework with additional two 'neighbourhood_group' and 'room_type'"
   ]
  },
  {
   "cell_type": "code",
   "execution_count": 60,
   "id": "82444523",
   "metadata": {},
   "outputs": [
    {
     "data": {
      "text/html": [
       "<div>\n",
       "<style scoped>\n",
       "    .dataframe tbody tr th:only-of-type {\n",
       "        vertical-align: middle;\n",
       "    }\n",
       "\n",
       "    .dataframe tbody tr th {\n",
       "        vertical-align: top;\n",
       "    }\n",
       "\n",
       "    .dataframe thead th {\n",
       "        text-align: right;\n",
       "    }\n",
       "</style>\n",
       "<table border=\"1\" class=\"dataframe\">\n",
       "  <thead>\n",
       "    <tr style=\"text-align: right;\">\n",
       "      <th></th>\n",
       "      <th>neighbourhood_group</th>\n",
       "      <th>room_type</th>\n",
       "      <th>latitude</th>\n",
       "      <th>longitude</th>\n",
       "      <th>price</th>\n",
       "      <th>minimum_nights</th>\n",
       "      <th>number_of_reviews</th>\n",
       "      <th>reviews_per_month</th>\n",
       "      <th>calculated_host_listings_count</th>\n",
       "      <th>availability_365</th>\n",
       "    </tr>\n",
       "  </thead>\n",
       "  <tbody>\n",
       "    <tr>\n",
       "      <th>0</th>\n",
       "      <td>Brooklyn</td>\n",
       "      <td>Private room</td>\n",
       "      <td>40.64749</td>\n",
       "      <td>-73.97237</td>\n",
       "      <td>149</td>\n",
       "      <td>1</td>\n",
       "      <td>9</td>\n",
       "      <td>0.21</td>\n",
       "      <td>6</td>\n",
       "      <td>365</td>\n",
       "    </tr>\n",
       "    <tr>\n",
       "      <th>1</th>\n",
       "      <td>Manhattan</td>\n",
       "      <td>Entire home/apt</td>\n",
       "      <td>40.75362</td>\n",
       "      <td>-73.98377</td>\n",
       "      <td>225</td>\n",
       "      <td>1</td>\n",
       "      <td>45</td>\n",
       "      <td>0.38</td>\n",
       "      <td>2</td>\n",
       "      <td>355</td>\n",
       "    </tr>\n",
       "    <tr>\n",
       "      <th>2</th>\n",
       "      <td>Manhattan</td>\n",
       "      <td>Private room</td>\n",
       "      <td>40.80902</td>\n",
       "      <td>-73.94190</td>\n",
       "      <td>150</td>\n",
       "      <td>3</td>\n",
       "      <td>0</td>\n",
       "      <td>NaN</td>\n",
       "      <td>1</td>\n",
       "      <td>365</td>\n",
       "    </tr>\n",
       "    <tr>\n",
       "      <th>3</th>\n",
       "      <td>Brooklyn</td>\n",
       "      <td>Entire home/apt</td>\n",
       "      <td>40.68514</td>\n",
       "      <td>-73.95976</td>\n",
       "      <td>89</td>\n",
       "      <td>1</td>\n",
       "      <td>270</td>\n",
       "      <td>4.64</td>\n",
       "      <td>1</td>\n",
       "      <td>194</td>\n",
       "    </tr>\n",
       "    <tr>\n",
       "      <th>4</th>\n",
       "      <td>Manhattan</td>\n",
       "      <td>Entire home/apt</td>\n",
       "      <td>40.79851</td>\n",
       "      <td>-73.94399</td>\n",
       "      <td>80</td>\n",
       "      <td>10</td>\n",
       "      <td>9</td>\n",
       "      <td>0.10</td>\n",
       "      <td>1</td>\n",
       "      <td>0</td>\n",
       "    </tr>\n",
       "  </tbody>\n",
       "</table>\n",
       "</div>"
      ],
      "text/plain": [
       "  neighbourhood_group        room_type  latitude  longitude  price  \\\n",
       "0            Brooklyn     Private room  40.64749  -73.97237    149   \n",
       "1           Manhattan  Entire home/apt  40.75362  -73.98377    225   \n",
       "2           Manhattan     Private room  40.80902  -73.94190    150   \n",
       "3            Brooklyn  Entire home/apt  40.68514  -73.95976     89   \n",
       "4           Manhattan  Entire home/apt  40.79851  -73.94399     80   \n",
       "\n",
       "   minimum_nights  number_of_reviews  reviews_per_month  \\\n",
       "0               1                  9               0.21   \n",
       "1               1                 45               0.38   \n",
       "2               3                  0                NaN   \n",
       "3               1                270               4.64   \n",
       "4              10                  9               0.10   \n",
       "\n",
       "   calculated_host_listings_count  availability_365  \n",
       "0                               6               365  \n",
       "1                               2               355  \n",
       "2                               1               365  \n",
       "3                               1               194  \n",
       "4                               1                 0  "
      ]
     },
     "execution_count": 60,
     "metadata": {},
     "output_type": "execute_result"
    }
   ],
   "source": [
    "features = data[['neighbourhood_group','room_type','latitude','longitude','price','minimum_nights','number_of_reviews',\n",
    "            'reviews_per_month','calculated_host_listings_count','availability_365']]\n",
    "\n",
    "features.head()"
   ]
  },
  {
   "cell_type": "markdown",
   "id": "eff14c9d",
   "metadata": {},
   "source": [
    "Select only them and fill in the missing values with 0."
   ]
  },
  {
   "cell_type": "code",
   "execution_count": 61,
   "id": "b1f4c29e",
   "metadata": {},
   "outputs": [
    {
     "data": {
      "text/plain": [
       "neighbourhood_group                   0\n",
       "room_type                             0\n",
       "latitude                              0\n",
       "longitude                             0\n",
       "price                                 0\n",
       "minimum_nights                        0\n",
       "number_of_reviews                     0\n",
       "reviews_per_month                 10052\n",
       "calculated_host_listings_count        0\n",
       "availability_365                      0\n",
       "dtype: int64"
      ]
     },
     "execution_count": 61,
     "metadata": {},
     "output_type": "execute_result"
    }
   ],
   "source": [
    "# before filling NaN:\n",
    "features.isnull().sum()"
   ]
  },
  {
   "cell_type": "code",
   "execution_count": 62,
   "id": "e98103ec",
   "metadata": {},
   "outputs": [
    {
     "data": {
      "text/plain": [
       "neighbourhood_group               0\n",
       "room_type                         0\n",
       "latitude                          0\n",
       "longitude                         0\n",
       "price                             0\n",
       "minimum_nights                    0\n",
       "number_of_reviews                 0\n",
       "reviews_per_month                 0\n",
       "calculated_host_listings_count    0\n",
       "availability_365                  0\n",
       "dtype: int64"
      ]
     },
     "execution_count": 62,
     "metadata": {},
     "output_type": "execute_result"
    }
   ],
   "source": [
    "# after filling NaN with zeros:\n",
    "features = features.fillna(0)\n",
    "features.isnull().sum()"
   ]
  },
  {
   "cell_type": "markdown",
   "id": "abd0f672",
   "metadata": {},
   "source": [
    "### Question 1\n",
    "\n",
    "What is the most frequent observation (mode) for the column 'neighbourhood_group'?"
   ]
  },
  {
   "cell_type": "code",
   "execution_count": 63,
   "id": "2e0e066a",
   "metadata": {},
   "outputs": [
    {
     "data": {
      "text/plain": [
       "0    Manhattan\n",
       "dtype: object"
      ]
     },
     "execution_count": 63,
     "metadata": {},
     "output_type": "execute_result"
    }
   ],
   "source": [
    "# Method 1 - using mode() function\n",
    "features.neighbourhood_group.mode()"
   ]
  },
  {
   "cell_type": "code",
   "execution_count": 64,
   "id": "1953c379",
   "metadata": {},
   "outputs": [
    {
     "data": {
      "text/plain": [
       "Manhattan        21661\n",
       "Brooklyn         20104\n",
       "Queens            5666\n",
       "Bronx             1091\n",
       "Staten Island      373\n",
       "Name: neighbourhood_group, dtype: int64"
      ]
     },
     "execution_count": 64,
     "metadata": {},
     "output_type": "execute_result"
    }
   ],
   "source": [
    "# Method 2 - using value_counts() and selecting the first row variable:\n",
    "features['neighbourhood_group'].value_counts()"
   ]
  },
  {
   "cell_type": "markdown",
   "id": "881b69ef",
   "metadata": {},
   "source": [
    "#### Split the data - "
   ]
  },
  {
   "cell_type": "code",
   "execution_count": 249,
   "id": "b9de2099",
   "metadata": {},
   "outputs": [
    {
     "data": {
      "text/plain": [
       "((29337, 10), (9779, 10), (9779, 10))"
      ]
     },
     "execution_count": 249,
     "metadata": {},
     "output_type": "execute_result"
    }
   ],
   "source": [
    "# Split your data in train/val/test sets, with 60%/20%/20% distribution.\n",
    "from sklearn.model_selection import train_test_split\n",
    "\n",
    "# Use Scikit-Learn for that (the train_test_split function) and set the seed to 42.\n",
    "# Step 1 - splitting dataset into full train and test sets first:\n",
    "df_full_train, df_test = train_test_split(features, test_size=0.20,random_state=42) \n",
    "\n",
    "# Step 2 - splitting full train set again into training set and validation set:\n",
    "df_train, df_val = train_test_split(df_full_train, test_size=0.25,random_state = 42)\n",
    "\n",
    "# getting the size of train, vaidation and test set:\n",
    "df_train.shape, df_val.shape, df_test.shape"
   ]
  },
  {
   "cell_type": "code",
   "execution_count": 66,
   "id": "7dfae465",
   "metadata": {},
   "outputs": [
    {
     "data": {
      "text/plain": [
       "((29337, 9), (9779, 9), (9779, 9))"
      ]
     },
     "execution_count": 66,
     "metadata": {},
     "output_type": "execute_result"
    }
   ],
   "source": [
    "# Getting our target variable column (price) subsets as respective Numpy arrays:\n",
    "y_train = df_train.price.values\n",
    "y_val = df_val.price.values\n",
    "y_test = df_test.price.values\n",
    "\n",
    "# Make sure that the target value ('price') is not in your dataframe.\n",
    "del df_train['price']\n",
    "del df_val['price']\n",
    "del df_test['price']\n",
    "\n",
    "# getting the size of train, vaidation and test set after deleting price column:\n",
    "df_train.shape, df_val.shape, df_test.shape"
   ]
  },
  {
   "cell_type": "markdown",
   "id": "eac26f5e",
   "metadata": {},
   "source": [
    "### Question 2"
   ]
  },
  {
   "cell_type": "code",
   "execution_count": 67,
   "id": "54366dda",
   "metadata": {},
   "outputs": [
    {
     "name": "stdout",
     "output_type": "stream",
     "text": [
      "<class 'pandas.core.frame.DataFrame'>\n",
      "Int64Index: 29337 entries, 13575 to 20523\n",
      "Data columns (total 9 columns):\n",
      " #   Column                          Non-Null Count  Dtype  \n",
      "---  ------                          --------------  -----  \n",
      " 0   neighbourhood_group             29337 non-null  object \n",
      " 1   room_type                       29337 non-null  object \n",
      " 2   latitude                        29337 non-null  float64\n",
      " 3   longitude                       29337 non-null  float64\n",
      " 4   minimum_nights                  29337 non-null  int64  \n",
      " 5   number_of_reviews               29337 non-null  int64  \n",
      " 6   reviews_per_month               29337 non-null  float64\n",
      " 7   calculated_host_listings_count  29337 non-null  int64  \n",
      " 8   availability_365                29337 non-null  int64  \n",
      "dtypes: float64(3), int64(4), object(2)\n",
      "memory usage: 2.2+ MB\n"
     ]
    }
   ],
   "source": [
    "# getting the datatypes of columns in train dataset:\n",
    "df_train.info()"
   ]
  },
  {
   "cell_type": "code",
   "execution_count": 68,
   "id": "d5996948",
   "metadata": {},
   "outputs": [],
   "source": [
    "# slicing only numerical feature columns of train dataset:\n",
    "numerical = ['latitude','longitude','minimum_nights','number_of_reviews', 'reviews_per_month',\n",
    "             'calculated_host_listings_count', 'availability_365']"
   ]
  },
  {
   "cell_type": "code",
   "execution_count": 69,
   "id": "8666cc76",
   "metadata": {},
   "outputs": [
    {
     "data": {
      "text/html": [
       "<div>\n",
       "<style scoped>\n",
       "    .dataframe tbody tr th:only-of-type {\n",
       "        vertical-align: middle;\n",
       "    }\n",
       "\n",
       "    .dataframe tbody tr th {\n",
       "        vertical-align: top;\n",
       "    }\n",
       "\n",
       "    .dataframe thead th {\n",
       "        text-align: right;\n",
       "    }\n",
       "</style>\n",
       "<table border=\"1\" class=\"dataframe\">\n",
       "  <thead>\n",
       "    <tr style=\"text-align: right;\">\n",
       "      <th></th>\n",
       "      <th>latitude</th>\n",
       "      <th>longitude</th>\n",
       "      <th>minimum_nights</th>\n",
       "      <th>number_of_reviews</th>\n",
       "      <th>reviews_per_month</th>\n",
       "      <th>calculated_host_listings_count</th>\n",
       "      <th>availability_365</th>\n",
       "    </tr>\n",
       "  </thead>\n",
       "  <tbody>\n",
       "    <tr>\n",
       "      <th>latitude</th>\n",
       "      <td>1.000000</td>\n",
       "      <td>0.080704</td>\n",
       "      <td>0.025497</td>\n",
       "      <td>-0.011836</td>\n",
       "      <td>-0.013809</td>\n",
       "      <td>0.020299</td>\n",
       "      <td>-0.008341</td>\n",
       "    </tr>\n",
       "    <tr>\n",
       "      <th>longitude</th>\n",
       "      <td>0.080704</td>\n",
       "      <td>1.000000</td>\n",
       "      <td>-0.063498</td>\n",
       "      <td>0.057570</td>\n",
       "      <td>0.134401</td>\n",
       "      <td>-0.115289</td>\n",
       "      <td>0.082994</td>\n",
       "    </tr>\n",
       "    <tr>\n",
       "      <th>minimum_nights</th>\n",
       "      <td>0.025497</td>\n",
       "      <td>-0.063498</td>\n",
       "      <td>1.000000</td>\n",
       "      <td>-0.077860</td>\n",
       "      <td>-0.121687</td>\n",
       "      <td>0.121748</td>\n",
       "      <td>0.140596</td>\n",
       "    </tr>\n",
       "    <tr>\n",
       "      <th>number_of_reviews</th>\n",
       "      <td>-0.011836</td>\n",
       "      <td>0.057570</td>\n",
       "      <td>-0.077860</td>\n",
       "      <td>1.000000</td>\n",
       "      <td>0.584935</td>\n",
       "      <td>-0.072603</td>\n",
       "      <td>0.175428</td>\n",
       "    </tr>\n",
       "    <tr>\n",
       "      <th>reviews_per_month</th>\n",
       "      <td>-0.013809</td>\n",
       "      <td>0.134401</td>\n",
       "      <td>-0.121687</td>\n",
       "      <td>0.584935</td>\n",
       "      <td>1.000000</td>\n",
       "      <td>-0.047368</td>\n",
       "      <td>0.165565</td>\n",
       "    </tr>\n",
       "    <tr>\n",
       "      <th>calculated_host_listings_count</th>\n",
       "      <td>0.020299</td>\n",
       "      <td>-0.115289</td>\n",
       "      <td>0.121748</td>\n",
       "      <td>-0.072603</td>\n",
       "      <td>-0.047368</td>\n",
       "      <td>1.000000</td>\n",
       "      <td>0.223328</td>\n",
       "    </tr>\n",
       "    <tr>\n",
       "      <th>availability_365</th>\n",
       "      <td>-0.008341</td>\n",
       "      <td>0.082994</td>\n",
       "      <td>0.140596</td>\n",
       "      <td>0.175428</td>\n",
       "      <td>0.165565</td>\n",
       "      <td>0.223328</td>\n",
       "      <td>1.000000</td>\n",
       "    </tr>\n",
       "  </tbody>\n",
       "</table>\n",
       "</div>"
      ],
      "text/plain": [
       "                                latitude  longitude  minimum_nights  \\\n",
       "latitude                        1.000000   0.080704        0.025497   \n",
       "longitude                       0.080704   1.000000       -0.063498   \n",
       "minimum_nights                  0.025497  -0.063498        1.000000   \n",
       "number_of_reviews              -0.011836   0.057570       -0.077860   \n",
       "reviews_per_month              -0.013809   0.134401       -0.121687   \n",
       "calculated_host_listings_count  0.020299  -0.115289        0.121748   \n",
       "availability_365               -0.008341   0.082994        0.140596   \n",
       "\n",
       "                                number_of_reviews  reviews_per_month  \\\n",
       "latitude                                -0.011836          -0.013809   \n",
       "longitude                                0.057570           0.134401   \n",
       "minimum_nights                          -0.077860          -0.121687   \n",
       "number_of_reviews                        1.000000           0.584935   \n",
       "reviews_per_month                        0.584935           1.000000   \n",
       "calculated_host_listings_count          -0.072603          -0.047368   \n",
       "availability_365                         0.175428           0.165565   \n",
       "\n",
       "                                calculated_host_listings_count  \\\n",
       "latitude                                              0.020299   \n",
       "longitude                                            -0.115289   \n",
       "minimum_nights                                        0.121748   \n",
       "number_of_reviews                                    -0.072603   \n",
       "reviews_per_month                                    -0.047368   \n",
       "calculated_host_listings_count                        1.000000   \n",
       "availability_365                                      0.223328   \n",
       "\n",
       "                                availability_365  \n",
       "latitude                               -0.008341  \n",
       "longitude                               0.082994  \n",
       "minimum_nights                          0.140596  \n",
       "number_of_reviews                       0.175428  \n",
       "reviews_per_month                       0.165565  \n",
       "calculated_host_listings_count          0.223328  \n",
       "availability_365                        1.000000  "
      ]
     },
     "execution_count": 69,
     "metadata": {},
     "output_type": "execute_result"
    }
   ],
   "source": [
    "# Creating the correlation matrix for the numerical features of your train dataset:\n",
    "df_full_train[numerical].corr()   # using corr() function"
   ]
  },
  {
   "cell_type": "code",
   "execution_count": 70,
   "id": "7af61e16",
   "metadata": {},
   "outputs": [
    {
     "data": {
      "text/plain": [
       "availability_365                  0.080562\n",
       "calculated_host_listings_count    0.055336\n",
       "minimum_nights                    0.042740\n",
       "latitude                          0.035015\n",
       "number_of_reviews                -0.048926\n",
       "reviews_per_month                -0.051978\n",
       "longitude                        -0.149080\n",
       "dtype: float64"
      ]
     },
     "execution_count": 70,
     "metadata": {},
     "output_type": "execute_result"
    }
   ],
   "source": [
    "# Creating the correlation for the numerical features of your train dataset with target column, price:\n",
    "df_full_train[numerical].corrwith(df_full_train.price).sort_values(ascending = False)   # using corr() function\n",
    "\n",
    "# sorting in descending order"
   ]
  },
  {
   "cell_type": "markdown",
   "id": "57401e36",
   "metadata": {},
   "source": [
    "What are the two features that have the biggest correlation in this dataset?\n",
    "\n",
    "availability_365 \n",
    "\n",
    "calculated_host_listings_count"
   ]
  },
  {
   "cell_type": "markdown",
   "id": "e5836a2d",
   "metadata": {},
   "source": [
    "### Make price binary\n",
    "\n",
    "We need to turn the price variable from numeric into binary.\n",
    "\n",
    "Let's create a variable above_average which is 1 if the price is above (or equal to) 152."
   ]
  },
  {
   "cell_type": "markdown",
   "id": "7f02a919",
   "metadata": {},
   "source": [
    "from sklearn.feature_extraction import DictVectorizer\n",
    "\n",
    " Step 1 turning each row into a dictionary using to_dict() function with orient argument records:\n",
    "dicts = df_full_train[['availability_365','calculated_host_listings_count']].iloc[:10].to_dict(orient='records') # first 10 rows\n",
    "\n",
    " Step 2 - creating an instance of the class DictVectorizer()\n",
    "dv = DictVectorizer(sparse=False)   # turns off result as a sparse matrix instead produces a Numpy array\n",
    "\n",
    " Step 3 - training DictVectorizer with our data using fit() method:\n",
    "dv.fit(dicts)\n",
    "\n",
    " Step 4 - transforming the vectorizer to our data subset:\n",
    "transformed_vector = dv.transform(dicts)   # results in a sparse matrix as most values are zero"
   ]
  },
  {
   "cell_type": "markdown",
   "id": "78e9ceb1",
   "metadata": {},
   "source": [
    "if transformed_vector[0][2] >= 152:\n",
    "    above_average = 1"
   ]
  },
  {
   "cell_type": "markdown",
   "id": "e8e2db4f",
   "metadata": {},
   "source": [
    "### Question 3\n",
    "\n",
    "Calculate the mutual information score with the (binarized) price for the two categorical variables that we have. Use the training set only."
   ]
  },
  {
   "cell_type": "code",
   "execution_count": 71,
   "id": "a1c311a1",
   "metadata": {},
   "outputs": [
    {
     "data": {
      "text/plain": [
       "room_type              0.31\n",
       "neighbourhood_group    0.11\n",
       "dtype: float64"
      ]
     },
     "execution_count": 71,
     "metadata": {},
     "output_type": "execute_result"
    }
   ],
   "source": [
    "# Implementing mutual information in sklearn:\n",
    "from sklearn.metrics import mutual_info_score\n",
    "\n",
    "categ_features = ['neighbourhood_group','room_type']\n",
    "\n",
    "# Computing the Mutual information score for all feature columns - using apply() function:\n",
    "# Step 1 - embedding the mutual_info_score function in another function - \n",
    "def mutual_info_price_score(series):\n",
    "    return mutual_info_score(series, df_full_train.price)\n",
    "\n",
    "# Step 2 - calling above function in apply() function so as to apply it to each column from df - \n",
    "score = df_full_train[categ_features].apply(mutual_info_price_score)  # here applied only to 2 categorical columns\n",
    "\n",
    "# Round it to 2 decimal digits using round(score, 2):\n",
    "score.sort_values(ascending=False).round(2)"
   ]
  },
  {
   "cell_type": "markdown",
   "id": "172fcca0",
   "metadata": {},
   "source": [
    "Which of these two variables has bigger score?\n",
    "\n",
    "room_type"
   ]
  },
  {
   "cell_type": "markdown",
   "id": "abc1af97",
   "metadata": {},
   "source": [
    "### Question 4\n",
    "\n",
    "Now let's train a logistic regression\n",
    "\n",
    "Remember that we have two categorical variables in the data. Include them using one-hot encoding.\n",
    "\n",
    "Fit the model on the training dataset.\n",
    "\n",
    "To make sure the results are reproducible across different versions of Scikit-Learn, fit the model with these parameters:\n",
    "model = LogisticRegression(solver='lbfgs', C=1.0, random_state=42)\n",
    "\n",
    "Calculate the accuracy on the validation dataset and round it to 2 decimal digits."
   ]
  },
  {
   "cell_type": "code",
   "execution_count": 72,
   "id": "f7d1a3df",
   "metadata": {},
   "outputs": [],
   "source": [
    "from sklearn.feature_extraction import DictVectorizer\n",
    "\n",
    "# Step 1 - Including two categorical variables using one-hot encoding - \n",
    "# creating an instance of the class DictVectorizer()\n",
    "dv = DictVectorizer(sparse=False)   # turns off result as a sparse matrix instead produces a Numpy array\n",
    "\n",
    "train_dicts = df_train[categ_features + numerical].to_dict(orient='records')\n",
    "\n",
    "# Combined fit and transform dictionary - for training dataset:\n",
    "X_train = dv.fit_transform(train_dicts)\n",
    "\n",
    "# Step 2 - repeating above process for validation dataset:\n",
    "# Combined fit and transform dictionary - for validation dataset:\n",
    "val_dicts = df_val[categ_features + numerical].to_dict(orient='records')\n",
    "\n",
    "X_val = dv.transform(val_dicts)"
   ]
  },
  {
   "cell_type": "code",
   "execution_count": 73,
   "id": "b02c64f6",
   "metadata": {},
   "outputs": [
    {
     "name": "stderr",
     "output_type": "stream",
     "text": [
      "D:\\Anaconda_install_files\\envs\\ml-zoomcamp\\lib\\site-packages\\sklearn\\linear_model\\_logistic.py:763: ConvergenceWarning: lbfgs failed to converge (status=1):\n",
      "STOP: TOTAL NO. of ITERATIONS REACHED LIMIT.\n",
      "\n",
      "Increase the number of iterations (max_iter) or scale the data as shown in:\n",
      "    https://scikit-learn.org/stable/modules/preprocessing.html\n",
      "Please also refer to the documentation for alternative solver options:\n",
      "    https://scikit-learn.org/stable/modules/linear_model.html#logistic-regression\n",
      "  n_iter_i = _check_optimize_result(\n"
     ]
    },
    {
     "data": {
      "text/plain": [
       "LogisticRegression(random_state=42)"
      ]
     },
     "execution_count": 73,
     "metadata": {},
     "output_type": "execute_result"
    }
   ],
   "source": [
    "# Step 3 - Fitting the model on the training dataset -\n",
    "from sklearn.linear_model import LogisticRegression\n",
    "\n",
    "# intitiating Log. regression model and trainingit on our full train set:\n",
    "model = LogisticRegression(solver='lbfgs', C=1.0, random_state=42) \n",
    "\n",
    "# solver='lbfgs'  - default solver in newer version of sklearn, need to specify it explicitly for older versions\n",
    "\n",
    "model.fit(X_train,y_train)"
   ]
  },
  {
   "cell_type": "code",
   "execution_count": 74,
   "id": "7403e2a7",
   "metadata": {},
   "outputs": [
    {
     "name": "stdout",
     "output_type": "stream",
     "text": [
      "w0 =  0.00014222330952529745\n",
      "\n",
      "wi =  [-0.002 -0.007  0.006 -0.01   0.005  0.     0.001 -0.001 -0.    -0.\n",
      "  0.018  0.001 -0.001  0.     0.   ]\n"
     ]
    }
   ],
   "source": [
    "# model intercept: Bias Term (w0)\n",
    "print(\"w0 = \", model.intercept_[0])\n",
    "\n",
    "print()\n",
    "\n",
    "# Coeffficients: Weights (wi)\n",
    "print(\"wi = \",model.coef_[0].round(3))"
   ]
  },
  {
   "cell_type": "code",
   "execution_count": 233,
   "id": "e490b6c9",
   "metadata": {},
   "outputs": [
    {
     "data": {
      "text/plain": [
       "array([0.00029532, 0.00025794, 0.00034261, ..., 0.0002716 , 0.00026713,\n",
       "       0.00027352])"
      ]
     },
     "execution_count": 233,
     "metadata": {},
     "output_type": "execute_result"
    }
   ],
   "source": [
    "# Step 4 - Calculating the accuracy on the validation dataset and round it to 2 decimal digits.\n",
    "# for validation set:\n",
    "y_pred = model.predict_proba(X_val)[:,1]\n",
    "y_pred"
   ]
  },
  {
   "cell_type": "code",
   "execution_count": 84,
   "id": "42ef8ef0",
   "metadata": {},
   "outputs": [],
   "source": [
    "# encoding the actual target variable column, price as binary -\n",
    "# Creating a variable above_average which is 1 if the price is above (or equal to) 152.\n",
    "binary_price = []\n",
    "for i in range(len(y_val)):\n",
    "    if y_val[i] >= 152:\n",
    "        above_average = 1\n",
    "        binary_price.append(above_average)\n",
    "    else:\n",
    "        below_average = 0\n",
    "        binary_price.append(below_average)"
   ]
  },
  {
   "cell_type": "code",
   "execution_count": 93,
   "id": "52cf1f27",
   "metadata": {},
   "outputs": [],
   "source": [
    "# Making price decision using probability threshold of 0.5\n",
    "price_decision = (y_pred >= 0.5)"
   ]
  },
  {
   "cell_type": "code",
   "execution_count": 96,
   "id": "3d660eff",
   "metadata": {},
   "outputs": [
    {
     "data": {
      "text/html": [
       "<div>\n",
       "<style scoped>\n",
       "    .dataframe tbody tr th:only-of-type {\n",
       "        vertical-align: middle;\n",
       "    }\n",
       "\n",
       "    .dataframe tbody tr th {\n",
       "        vertical-align: top;\n",
       "    }\n",
       "\n",
       "    .dataframe thead th {\n",
       "        text-align: right;\n",
       "    }\n",
       "</style>\n",
       "<table border=\"1\" class=\"dataframe\">\n",
       "  <thead>\n",
       "    <tr style=\"text-align: right;\">\n",
       "      <th></th>\n",
       "      <th>probability</th>\n",
       "      <th>prediction</th>\n",
       "      <th>actual</th>\n",
       "      <th>correct</th>\n",
       "    </tr>\n",
       "  </thead>\n",
       "  <tbody>\n",
       "    <tr>\n",
       "      <th>0</th>\n",
       "      <td>0.000295</td>\n",
       "      <td>0</td>\n",
       "      <td>0</td>\n",
       "      <td>True</td>\n",
       "    </tr>\n",
       "    <tr>\n",
       "      <th>1</th>\n",
       "      <td>0.000258</td>\n",
       "      <td>0</td>\n",
       "      <td>0</td>\n",
       "      <td>True</td>\n",
       "    </tr>\n",
       "    <tr>\n",
       "      <th>2</th>\n",
       "      <td>0.000343</td>\n",
       "      <td>0</td>\n",
       "      <td>1</td>\n",
       "      <td>False</td>\n",
       "    </tr>\n",
       "    <tr>\n",
       "      <th>3</th>\n",
       "      <td>0.000271</td>\n",
       "      <td>0</td>\n",
       "      <td>0</td>\n",
       "      <td>True</td>\n",
       "    </tr>\n",
       "    <tr>\n",
       "      <th>4</th>\n",
       "      <td>0.000236</td>\n",
       "      <td>0</td>\n",
       "      <td>1</td>\n",
       "      <td>False</td>\n",
       "    </tr>\n",
       "    <tr>\n",
       "      <th>...</th>\n",
       "      <td>...</td>\n",
       "      <td>...</td>\n",
       "      <td>...</td>\n",
       "      <td>...</td>\n",
       "    </tr>\n",
       "    <tr>\n",
       "      <th>9774</th>\n",
       "      <td>0.000269</td>\n",
       "      <td>0</td>\n",
       "      <td>1</td>\n",
       "      <td>False</td>\n",
       "    </tr>\n",
       "    <tr>\n",
       "      <th>9775</th>\n",
       "      <td>0.000308</td>\n",
       "      <td>0</td>\n",
       "      <td>0</td>\n",
       "      <td>True</td>\n",
       "    </tr>\n",
       "    <tr>\n",
       "      <th>9776</th>\n",
       "      <td>0.000272</td>\n",
       "      <td>0</td>\n",
       "      <td>0</td>\n",
       "      <td>True</td>\n",
       "    </tr>\n",
       "    <tr>\n",
       "      <th>9777</th>\n",
       "      <td>0.000267</td>\n",
       "      <td>0</td>\n",
       "      <td>0</td>\n",
       "      <td>True</td>\n",
       "    </tr>\n",
       "    <tr>\n",
       "      <th>9778</th>\n",
       "      <td>0.000274</td>\n",
       "      <td>0</td>\n",
       "      <td>0</td>\n",
       "      <td>True</td>\n",
       "    </tr>\n",
       "  </tbody>\n",
       "</table>\n",
       "<p>9779 rows × 4 columns</p>\n",
       "</div>"
      ],
      "text/plain": [
       "      probability  prediction  actual  correct\n",
       "0        0.000295           0       0     True\n",
       "1        0.000258           0       0     True\n",
       "2        0.000343           0       1    False\n",
       "3        0.000271           0       0     True\n",
       "4        0.000236           0       1    False\n",
       "...           ...         ...     ...      ...\n",
       "9774     0.000269           0       1    False\n",
       "9775     0.000308           0       0     True\n",
       "9776     0.000272           0       0     True\n",
       "9777     0.000267           0       0     True\n",
       "9778     0.000274           0       0     True\n",
       "\n",
       "[9779 rows x 4 columns]"
      ]
     },
     "metadata": {},
     "output_type": "display_data"
    },
    {
     "data": {
      "text/plain": [
       "'Accuracy Rate: '"
      ]
     },
     "metadata": {},
     "output_type": "display_data"
    },
    {
     "data": {
      "text/plain": [
       "0.69"
      ]
     },
     "metadata": {},
     "output_type": "display_data"
    }
   ],
   "source": [
    "# Observe the above result in a dataset\n",
    "df_pred = pd.DataFrame()\n",
    "df_pred['probability'] = y_pred\n",
    "df_pred['prediction'] = price_decision.astype(int)\n",
    "df_pred['actual'] = binary_price   # using the encoded binary price variable as actual price column, y_val\n",
    "\n",
    "df_pred['correct'] = df_pred.prediction == df_pred.actual\n",
    "\n",
    "# Accuracy Rate: mean of correct predictions\n",
    "display(df_pred)\n",
    "display(\"Accuracy Rate: \", df_pred['correct'].mean().round(2))   #(y_val == price_decision).mean()"
   ]
  },
  {
   "cell_type": "markdown",
   "id": "cf262231",
   "metadata": {},
   "source": [
    "### Question 5 \n",
    "\n",
    "We have 9 features: 7 numerical features and 2 categorical.\n",
    "\n",
    "Let's find the least useful one using the feature elimination technique.\n",
    "\n",
    "Train a model with all these features (using the same parameters as in Q4).\n",
    "\n",
    "Now exclude each feature from this set and train a model without it. Record the accuracy for each model.\n",
    "\n",
    "For each feature, calculate the difference between the original accuracy and the accuracy without the feature.\n",
    "\n",
    "Which of following feature has the smallest difference?\n",
    "neighbourhood_group\n",
    "\n",
    "room_type\n",
    "\n",
    "number_of_reviews\n",
    "\n",
    "reviews_per_month"
   ]
  },
  {
   "cell_type": "code",
   "execution_count": 97,
   "id": "e4eb1da0",
   "metadata": {},
   "outputs": [
    {
     "data": {
      "text/plain": [
       "['availability_365',\n",
       " 'calculated_host_listings_count',\n",
       " 'latitude',\n",
       " 'longitude',\n",
       " 'minimum_nights',\n",
       " 'neighbourhood_group=Bronx',\n",
       " 'neighbourhood_group=Brooklyn',\n",
       " 'neighbourhood_group=Manhattan',\n",
       " 'neighbourhood_group=Queens',\n",
       " 'neighbourhood_group=Staten Island',\n",
       " 'number_of_reviews',\n",
       " 'reviews_per_month',\n",
       " 'room_type=Entire home/apt',\n",
       " 'room_type=Private room',\n",
       " 'room_type=Shared room']"
      ]
     },
     "execution_count": 97,
     "metadata": {},
     "output_type": "execute_result"
    }
   ],
   "source": [
    "# getting the list of all features in the vectorizer:\n",
    "dv.get_feature_names()"
   ]
  },
  {
   "cell_type": "code",
   "execution_count": 126,
   "id": "ec052b92",
   "metadata": {},
   "outputs": [
    {
     "data": {
      "text/plain": [
       "{'availability_365': -0.002,\n",
       " 'calculated_host_listings_count': -0.007,\n",
       " 'latitude': 0.006,\n",
       " 'longitude': -0.01,\n",
       " 'minimum_nights': 0.005,\n",
       " 'neighbourhood_group=Bronx': 0.0,\n",
       " 'neighbourhood_group=Brooklyn': 0.001,\n",
       " 'neighbourhood_group=Manhattan': -0.001,\n",
       " 'neighbourhood_group=Queens': -0.0,\n",
       " 'neighbourhood_group=Staten Island': -0.0,\n",
       " 'number_of_reviews': 0.018,\n",
       " 'reviews_per_month': 0.001,\n",
       " 'room_type=Entire home/apt': -0.001,\n",
       " 'room_type=Private room': 0.0,\n",
       " 'room_type=Shared room': 0.0}"
      ]
     },
     "execution_count": 126,
     "metadata": {},
     "output_type": "execute_result"
    }
   ],
   "source": [
    "# Joining the feature_names with respective coefficients - using zip function:\n",
    "feature_weights = dict(zip(dv.get_feature_names(), model.coef_[0].round(3)))\n",
    "feature_weights"
   ]
  },
  {
   "cell_type": "code",
   "execution_count": 101,
   "id": "f5e82878",
   "metadata": {},
   "outputs": [
    {
     "name": "stderr",
     "output_type": "stream",
     "text": [
      "D:\\Anaconda_install_files\\envs\\ml-zoomcamp\\lib\\site-packages\\sklearn\\linear_model\\_logistic.py:763: ConvergenceWarning: lbfgs failed to converge (status=1):\n",
      "STOP: TOTAL NO. of ITERATIONS REACHED LIMIT.\n",
      "\n",
      "Increase the number of iterations (max_iter) or scale the data as shown in:\n",
      "    https://scikit-learn.org/stable/modules/preprocessing.html\n",
      "Please also refer to the documentation for alternative solver options:\n",
      "    https://scikit-learn.org/stable/modules/linear_model.html#logistic-regression\n",
      "  n_iter_i = _check_optimize_result(\n"
     ]
    },
    {
     "data": {
      "text/plain": [
       "LogisticRegression(random_state=42)"
      ]
     },
     "execution_count": 101,
     "metadata": {},
     "output_type": "execute_result"
    }
   ],
   "source": [
    "# Step 1 - Training a model with all these features (using the same parameters as in Q4):\n",
    "model.fit(X_train,y_train)"
   ]
  },
  {
   "cell_type": "code",
   "execution_count": 102,
   "id": "22704814",
   "metadata": {},
   "outputs": [
    {
     "data": {
      "text/plain": [
       "0.6934246855506698"
      ]
     },
     "execution_count": 102,
     "metadata": {},
     "output_type": "execute_result"
    }
   ],
   "source": [
    "# Step 2 - Calculating the original accuracy for model (with all features):\n",
    "y_pred = model.predict_proba(X_val)[:,1]\n",
    "\n",
    "(binary_price == price_decision).mean()"
   ]
  },
  {
   "cell_type": "code",
   "execution_count": 241,
   "id": "6fce158a",
   "metadata": {},
   "outputs": [],
   "source": [
    "# Step 3 - Now excluding each feature from this set and train a model without it and recording the accuracy for each model.\n",
    "# creating an instance of the class DictVectorizer()\n",
    "dv = DictVectorizer(sparse=False)   # turns off result as a sparse matrix instead produces a Numpy array\n",
    "\n",
    "train_dicts = df_train[categ_features + numerical].to_dict(orient = 'records')\n",
    "\n",
    "# Combined fit and transform dictionary - for training dataset:\n",
    "X_train = dv.fit_transform(train_dicts)\n",
    "\n",
    "# Step 2 - repeating above process for validation dataset:\n",
    "# Combined fit and transform dictionary - for validation dataset:\n",
    "val_dicts = df_val[categ_features + numerical].to_dict(orient = 'records')\n",
    "\n",
    "X_val = dv.transform(val_dicts)"
   ]
  },
  {
   "cell_type": "code",
   "execution_count": 242,
   "id": "80357d27",
   "metadata": {},
   "outputs": [],
   "source": [
    "def removekey(d, key):\n",
    "    r = dict(d)\n",
    "    del r[key]\n",
    "    return r"
   ]
  },
  {
   "cell_type": "code",
   "execution_count": 243,
   "id": "d532bb6e",
   "metadata": {},
   "outputs": [
    {
     "data": {
      "text/plain": [
       "{'room_type': 'Private room',\n",
       " 'latitude': 40.70239,\n",
       " 'longitude': -73.92931,\n",
       " 'minimum_nights': 1,\n",
       " 'number_of_reviews': 35,\n",
       " 'reviews_per_month': 1.8,\n",
       " 'calculated_host_listings_count': 1,\n",
       " 'availability_365': 52}"
      ]
     },
     "execution_count": 243,
     "metadata": {},
     "output_type": "execute_result"
    }
   ],
   "source": [
    "val_dicts_2 = removekey(val_dicts[0], 'neighbourhood_group')\n",
    "val_dicts_2"
   ]
  },
  {
   "cell_type": "code",
   "execution_count": 244,
   "id": "9dcdd1c0",
   "metadata": {},
   "outputs": [
    {
     "data": {
      "text/plain": [
       "array([[ 52.     ,   1.     ,  40.70239, -73.92931,   1.     ,   0.     ,\n",
       "          0.     ,   0.     ,   0.     ,   0.     ,  35.     ,   1.8    ,\n",
       "          0.     ,   1.     ,   0.     ]])"
      ]
     },
     "execution_count": 244,
     "metadata": {},
     "output_type": "execute_result"
    }
   ],
   "source": [
    "X_val_new = dv.transform([val_dicts_2])\n",
    "X_val_new"
   ]
  },
  {
   "cell_type": "code",
   "execution_count": 245,
   "id": "ce635181",
   "metadata": {},
   "outputs": [
    {
     "data": {
      "text/plain": [
       "0.0002964699340285137"
      ]
     },
     "execution_count": 245,
     "metadata": {},
     "output_type": "execute_result"
    }
   ],
   "source": [
    "model.predict_proba(X_val_new)[0,1]"
   ]
  },
  {
   "cell_type": "code",
   "execution_count": 246,
   "id": "f435c04c",
   "metadata": {},
   "outputs": [
    {
     "data": {
      "text/plain": [
       "0.000298983068865423"
      ]
     },
     "execution_count": 246,
     "metadata": {},
     "output_type": "execute_result"
    }
   ],
   "source": [
    "val_dicts_3 = removekey(val_dicts[0], 'room_type')\n",
    "X_val_new2 = dv.transform([val_dicts_3])\n",
    "model.predict_proba(X_val_new2)[0,1]"
   ]
  },
  {
   "cell_type": "code",
   "execution_count": 247,
   "id": "75441453",
   "metadata": {},
   "outputs": [
    {
     "name": "stderr",
     "output_type": "stream",
     "text": [
      "D:\\Anaconda_install_files\\envs\\ml-zoomcamp\\lib\\site-packages\\sklearn\\linear_model\\_logistic.py:763: ConvergenceWarning: lbfgs failed to converge (status=1):\n",
      "STOP: TOTAL NO. of ITERATIONS REACHED LIMIT.\n",
      "\n",
      "Increase the number of iterations (max_iter) or scale the data as shown in:\n",
      "    https://scikit-learn.org/stable/modules/preprocessing.html\n",
      "Please also refer to the documentation for alternative solver options:\n",
      "    https://scikit-learn.org/stable/modules/linear_model.html#logistic-regression\n",
      "  n_iter_i = _check_optimize_result(\n"
     ]
    },
    {
     "data": {
      "text/plain": [
       "0.6934246855506698"
      ]
     },
     "execution_count": 247,
     "metadata": {},
     "output_type": "execute_result"
    }
   ],
   "source": [
    "# Step 3 - Fitting the model on the training dataset -\n",
    "from sklearn.linear_model import LogisticRegression\n",
    "\n",
    "# intitiating Log. regression model and trainingit on our full train set:\n",
    "model = LogisticRegression(solver='lbfgs', C=1.0, random_state=42) \n",
    "\n",
    "# solver='lbfgs'  - default solver in newer version of sklearn, need to specify it explicitly for older versions\n",
    "\n",
    "model.fit(X_train,y_train)\n",
    "\n",
    "# Step 4 - Calculating the accuracy on the validation dataset and round it to 2 decimal digits.\n",
    "# for validation set:\n",
    "y_pred = model.predict_proba(X_val_new)[:,1]\n",
    "\n",
    "(binary_price == price_decision).mean()"
   ]
  },
  {
   "cell_type": "code",
   "execution_count": 225,
   "id": "176cc787",
   "metadata": {},
   "outputs": [],
   "source": [
    "# Step 4 - Calculating the difference between the original accuracy and the accuracy without the feature:\n"
   ]
  },
  {
   "cell_type": "markdown",
   "id": "7c092ebd",
   "metadata": {},
   "source": [
    "### Question 6"
   ]
  },
  {
   "cell_type": "code",
   "execution_count": 250,
   "id": "001f61c9",
   "metadata": {},
   "outputs": [],
   "source": [
    "# We'll need to use the original column 'price'. Apply the logarithmic transformation to this column.\n",
    "y_train = np.log1p(df_train.price.values)   # getting numpy arrays instead of Pandas series for target variable\n",
    "y_val = np.log1p(df_val.price.values)\n",
    "y_test = np.log1p(df_test.price.values)"
   ]
  },
  {
   "cell_type": "code",
   "execution_count": 285,
   "id": "01e74df0",
   "metadata": {},
   "outputs": [
    {
     "name": "stdout",
     "output_type": "stream",
     "text": [
      "alpha:   0 RMSE:  0.497\n",
      "alpha:   0.01 RMSE:  0.497\n",
      "alpha:   0.1 RMSE:  0.497\n",
      "alpha:   1 RMSE:  0.497\n",
      "alpha:   10 RMSE:  0.498\n"
     ]
    }
   ],
   "source": [
    "# Fit the Ridge regression model on the training data.\n",
    "from sklearn.linear_model import Ridge\n",
    "from sklearn.metrics import mean_squared_error\n",
    "\n",
    "# defining the model:\n",
    "for a in [0, 0.01, 0.1, 1, 10]:\n",
    "    model = Ridge(alpha=a)\n",
    "    \n",
    "    model.fit(X_train, y_train)\n",
    "    \n",
    "    # evaluate model calculated as RMSE:\n",
    "    pred = model.predict(X_val) \n",
    "    rms = mean_squared_error(y_val, pred,squared=False)\n",
    "    \n",
    "    # printing alpha and corresponding RMSE:\n",
    "    print('alpha:  ', a, 'RMSE: ',rms.round(3))"
   ]
  },
  {
   "cell_type": "markdown",
   "id": "061dcbdb",
   "metadata": {},
   "source": [
    "Best alpha - 0.01 as it gives least error"
   ]
  },
  {
   "cell_type": "markdown",
   "id": "2b5557e0",
   "metadata": {},
   "source": [
    "## Session #4 Homework\n",
    "\n",
    "Use this notebook as a starter - https://github.com/alexeygrigorev/mlbookcamp-code/blob/master/course-zoomcamp/04-evaluation/homework-4-starter.ipynb"
   ]
  },
  {
   "cell_type": "code",
   "execution_count": 149,
   "id": "5dfb4c53",
   "metadata": {},
   "outputs": [],
   "source": [
    "import pandas as pd\n",
    "import numpy as np\n",
    "\n",
    "import matplotlib.pyplot as plt\n",
    "import seaborn as sns\n",
    "\n",
    "%matplotlib inline"
   ]
  },
  {
   "cell_type": "markdown",
   "id": "d0d5670c",
   "metadata": {},
   "source": [
    "### Preparation"
   ]
  },
  {
   "cell_type": "code",
   "execution_count": 150,
   "id": "01cdc651",
   "metadata": {},
   "outputs": [
    {
     "data": {
      "text/plain": [
       "Index(['status', 'seniority', 'home', 'time', 'age', 'marital', 'records',\n",
       "       'job', 'expenses', 'income', 'assets', 'debt', 'amount', 'price'],\n",
       "      dtype='object')"
      ]
     },
     "execution_count": 150,
     "metadata": {},
     "output_type": "execute_result"
    }
   ],
   "source": [
    "df = pd.read_csv('CreditScoring.csv')\n",
    "df.columns = df.columns.str.lower()\n",
    "df.columns"
   ]
  },
  {
   "cell_type": "code",
   "execution_count": 151,
   "id": "6868cd4d",
   "metadata": {},
   "outputs": [
    {
     "data": {
      "text/html": [
       "<div>\n",
       "<style scoped>\n",
       "    .dataframe tbody tr th:only-of-type {\n",
       "        vertical-align: middle;\n",
       "    }\n",
       "\n",
       "    .dataframe tbody tr th {\n",
       "        vertical-align: top;\n",
       "    }\n",
       "\n",
       "    .dataframe thead th {\n",
       "        text-align: right;\n",
       "    }\n",
       "</style>\n",
       "<table border=\"1\" class=\"dataframe\">\n",
       "  <thead>\n",
       "    <tr style=\"text-align: right;\">\n",
       "      <th></th>\n",
       "      <th>status</th>\n",
       "      <th>seniority</th>\n",
       "      <th>home</th>\n",
       "      <th>time</th>\n",
       "      <th>age</th>\n",
       "      <th>marital</th>\n",
       "      <th>records</th>\n",
       "      <th>job</th>\n",
       "      <th>expenses</th>\n",
       "      <th>income</th>\n",
       "      <th>assets</th>\n",
       "      <th>debt</th>\n",
       "      <th>amount</th>\n",
       "      <th>price</th>\n",
       "    </tr>\n",
       "  </thead>\n",
       "  <tbody>\n",
       "    <tr>\n",
       "      <th>0</th>\n",
       "      <td>1</td>\n",
       "      <td>9</td>\n",
       "      <td>1</td>\n",
       "      <td>60</td>\n",
       "      <td>30</td>\n",
       "      <td>2</td>\n",
       "      <td>1</td>\n",
       "      <td>3</td>\n",
       "      <td>73</td>\n",
       "      <td>129</td>\n",
       "      <td>0</td>\n",
       "      <td>0</td>\n",
       "      <td>800</td>\n",
       "      <td>846</td>\n",
       "    </tr>\n",
       "    <tr>\n",
       "      <th>1</th>\n",
       "      <td>1</td>\n",
       "      <td>17</td>\n",
       "      <td>1</td>\n",
       "      <td>60</td>\n",
       "      <td>58</td>\n",
       "      <td>3</td>\n",
       "      <td>1</td>\n",
       "      <td>1</td>\n",
       "      <td>48</td>\n",
       "      <td>131</td>\n",
       "      <td>0</td>\n",
       "      <td>0</td>\n",
       "      <td>1000</td>\n",
       "      <td>1658</td>\n",
       "    </tr>\n",
       "    <tr>\n",
       "      <th>2</th>\n",
       "      <td>2</td>\n",
       "      <td>10</td>\n",
       "      <td>2</td>\n",
       "      <td>36</td>\n",
       "      <td>46</td>\n",
       "      <td>2</td>\n",
       "      <td>2</td>\n",
       "      <td>3</td>\n",
       "      <td>90</td>\n",
       "      <td>200</td>\n",
       "      <td>3000</td>\n",
       "      <td>0</td>\n",
       "      <td>2000</td>\n",
       "      <td>2985</td>\n",
       "    </tr>\n",
       "    <tr>\n",
       "      <th>3</th>\n",
       "      <td>1</td>\n",
       "      <td>0</td>\n",
       "      <td>1</td>\n",
       "      <td>60</td>\n",
       "      <td>24</td>\n",
       "      <td>1</td>\n",
       "      <td>1</td>\n",
       "      <td>1</td>\n",
       "      <td>63</td>\n",
       "      <td>182</td>\n",
       "      <td>2500</td>\n",
       "      <td>0</td>\n",
       "      <td>900</td>\n",
       "      <td>1325</td>\n",
       "    </tr>\n",
       "    <tr>\n",
       "      <th>4</th>\n",
       "      <td>1</td>\n",
       "      <td>0</td>\n",
       "      <td>1</td>\n",
       "      <td>36</td>\n",
       "      <td>26</td>\n",
       "      <td>1</td>\n",
       "      <td>1</td>\n",
       "      <td>1</td>\n",
       "      <td>46</td>\n",
       "      <td>107</td>\n",
       "      <td>0</td>\n",
       "      <td>0</td>\n",
       "      <td>310</td>\n",
       "      <td>910</td>\n",
       "    </tr>\n",
       "  </tbody>\n",
       "</table>\n",
       "</div>"
      ],
      "text/plain": [
       "   status  seniority  home  time  age  marital  records  job  expenses  \\\n",
       "0       1          9     1    60   30        2        1    3        73   \n",
       "1       1         17     1    60   58        3        1    1        48   \n",
       "2       2         10     2    36   46        2        2    3        90   \n",
       "3       1          0     1    60   24        1        1    1        63   \n",
       "4       1          0     1    36   26        1        1    1        46   \n",
       "\n",
       "   income  assets  debt  amount  price  \n",
       "0     129       0     0     800    846  \n",
       "1     131       0     0    1000   1658  \n",
       "2     200    3000     0    2000   2985  \n",
       "3     182    2500     0     900   1325  \n",
       "4     107       0     0     310    910  "
      ]
     },
     "execution_count": 151,
     "metadata": {},
     "output_type": "execute_result"
    }
   ],
   "source": [
    "df.head()"
   ]
  },
  {
   "cell_type": "markdown",
   "id": "0e45660c",
   "metadata": {},
   "source": [
    "Some of the features are encoded as numbers. Use the following code to de-code them:"
   ]
  },
  {
   "cell_type": "code",
   "execution_count": 152,
   "id": "99703d05",
   "metadata": {},
   "outputs": [],
   "source": [
    "status_values = {\n",
    "    1: 'ok',\n",
    "    2: 'default',\n",
    "    0: 'unk'\n",
    "}\n",
    "\n",
    "df.status = df.status.map(status_values)\n",
    "\n",
    "\n",
    "home_values = {\n",
    "    1: 'rent',\n",
    "    2: 'owner',\n",
    "    3: 'private',\n",
    "    4: 'ignore',\n",
    "    5: 'parents',\n",
    "    6: 'other',\n",
    "    0: 'unk'\n",
    "}\n",
    "\n",
    "df.home = df.home.map(home_values)\n",
    "\n",
    "marital_values = {\n",
    "    1: 'single',\n",
    "    2: 'married',\n",
    "    3: 'widow',\n",
    "    4: 'separated',\n",
    "    5: 'divorced',\n",
    "    0: 'unk'\n",
    "}\n",
    "\n",
    "df.marital = df.marital.map(marital_values)\n",
    "\n",
    "records_values = {\n",
    "    1: 'no',\n",
    "    2: 'yes',\n",
    "    0: 'unk'\n",
    "}\n",
    "\n",
    "df.records = df.records.map(records_values)\n",
    "\n",
    "job_values = {\n",
    "    1: 'fixed',\n",
    "    2: 'partime',\n",
    "    3: 'freelance',\n",
    "    4: 'others',\n",
    "    0: 'unk'\n",
    "}\n",
    "\n",
    "df.job = df.job.map(job_values)"
   ]
  },
  {
   "cell_type": "markdown",
   "id": "c49d0899",
   "metadata": {},
   "source": [
    "Prepare the numerical variables:"
   ]
  },
  {
   "cell_type": "code",
   "execution_count": 153,
   "id": "f42dc44e",
   "metadata": {},
   "outputs": [],
   "source": [
    "for c in ['income', 'assets', 'debt']:\n",
    "    df[c] = df[c].replace(to_replace=99999999, value=0)"
   ]
  },
  {
   "cell_type": "markdown",
   "id": "55d5dc7a",
   "metadata": {},
   "source": [
    "Remove clients with unknown default status:"
   ]
  },
  {
   "cell_type": "code",
   "execution_count": 154,
   "id": "592585b5",
   "metadata": {},
   "outputs": [],
   "source": [
    "df = df[df.status != 'unk'].reset_index(drop=True)"
   ]
  },
  {
   "cell_type": "markdown",
   "id": "da1b1927",
   "metadata": {},
   "source": [
    "Create the target variable:"
   ]
  },
  {
   "cell_type": "code",
   "execution_count": 155,
   "id": "951dd377",
   "metadata": {},
   "outputs": [],
   "source": [
    "df['default'] = (df.status == 'default').astype(int)\n",
    "del df['status']"
   ]
  },
  {
   "cell_type": "code",
   "execution_count": 156,
   "id": "157fa005",
   "metadata": {},
   "outputs": [
    {
     "data": {
      "text/html": [
       "<div>\n",
       "<style scoped>\n",
       "    .dataframe tbody tr th:only-of-type {\n",
       "        vertical-align: middle;\n",
       "    }\n",
       "\n",
       "    .dataframe tbody tr th {\n",
       "        vertical-align: top;\n",
       "    }\n",
       "\n",
       "    .dataframe thead th {\n",
       "        text-align: right;\n",
       "    }\n",
       "</style>\n",
       "<table border=\"1\" class=\"dataframe\">\n",
       "  <thead>\n",
       "    <tr style=\"text-align: right;\">\n",
       "      <th></th>\n",
       "      <th>seniority</th>\n",
       "      <th>home</th>\n",
       "      <th>time</th>\n",
       "      <th>age</th>\n",
       "      <th>marital</th>\n",
       "      <th>records</th>\n",
       "      <th>job</th>\n",
       "      <th>expenses</th>\n",
       "      <th>income</th>\n",
       "      <th>assets</th>\n",
       "      <th>debt</th>\n",
       "      <th>amount</th>\n",
       "      <th>price</th>\n",
       "      <th>default</th>\n",
       "    </tr>\n",
       "  </thead>\n",
       "  <tbody>\n",
       "    <tr>\n",
       "      <th>0</th>\n",
       "      <td>9</td>\n",
       "      <td>rent</td>\n",
       "      <td>60</td>\n",
       "      <td>30</td>\n",
       "      <td>married</td>\n",
       "      <td>no</td>\n",
       "      <td>freelance</td>\n",
       "      <td>73</td>\n",
       "      <td>129</td>\n",
       "      <td>0</td>\n",
       "      <td>0</td>\n",
       "      <td>800</td>\n",
       "      <td>846</td>\n",
       "      <td>0</td>\n",
       "    </tr>\n",
       "    <tr>\n",
       "      <th>1</th>\n",
       "      <td>17</td>\n",
       "      <td>rent</td>\n",
       "      <td>60</td>\n",
       "      <td>58</td>\n",
       "      <td>widow</td>\n",
       "      <td>no</td>\n",
       "      <td>fixed</td>\n",
       "      <td>48</td>\n",
       "      <td>131</td>\n",
       "      <td>0</td>\n",
       "      <td>0</td>\n",
       "      <td>1000</td>\n",
       "      <td>1658</td>\n",
       "      <td>0</td>\n",
       "    </tr>\n",
       "    <tr>\n",
       "      <th>2</th>\n",
       "      <td>10</td>\n",
       "      <td>owner</td>\n",
       "      <td>36</td>\n",
       "      <td>46</td>\n",
       "      <td>married</td>\n",
       "      <td>yes</td>\n",
       "      <td>freelance</td>\n",
       "      <td>90</td>\n",
       "      <td>200</td>\n",
       "      <td>3000</td>\n",
       "      <td>0</td>\n",
       "      <td>2000</td>\n",
       "      <td>2985</td>\n",
       "      <td>1</td>\n",
       "    </tr>\n",
       "    <tr>\n",
       "      <th>3</th>\n",
       "      <td>0</td>\n",
       "      <td>rent</td>\n",
       "      <td>60</td>\n",
       "      <td>24</td>\n",
       "      <td>single</td>\n",
       "      <td>no</td>\n",
       "      <td>fixed</td>\n",
       "      <td>63</td>\n",
       "      <td>182</td>\n",
       "      <td>2500</td>\n",
       "      <td>0</td>\n",
       "      <td>900</td>\n",
       "      <td>1325</td>\n",
       "      <td>0</td>\n",
       "    </tr>\n",
       "    <tr>\n",
       "      <th>4</th>\n",
       "      <td>0</td>\n",
       "      <td>rent</td>\n",
       "      <td>36</td>\n",
       "      <td>26</td>\n",
       "      <td>single</td>\n",
       "      <td>no</td>\n",
       "      <td>fixed</td>\n",
       "      <td>46</td>\n",
       "      <td>107</td>\n",
       "      <td>0</td>\n",
       "      <td>0</td>\n",
       "      <td>310</td>\n",
       "      <td>910</td>\n",
       "      <td>0</td>\n",
       "    </tr>\n",
       "  </tbody>\n",
       "</table>\n",
       "</div>"
      ],
      "text/plain": [
       "   seniority   home  time  age  marital records        job  expenses  income  \\\n",
       "0          9   rent    60   30  married      no  freelance        73     129   \n",
       "1         17   rent    60   58    widow      no      fixed        48     131   \n",
       "2         10  owner    36   46  married     yes  freelance        90     200   \n",
       "3          0   rent    60   24   single      no      fixed        63     182   \n",
       "4          0   rent    36   26   single      no      fixed        46     107   \n",
       "\n",
       "   assets  debt  amount  price  default  \n",
       "0       0     0     800    846        0  \n",
       "1       0     0    1000   1658        0  \n",
       "2    3000     0    2000   2985        1  \n",
       "3    2500     0     900   1325        0  \n",
       "4       0     0     310    910        0  "
      ]
     },
     "execution_count": 156,
     "metadata": {},
     "output_type": "execute_result"
    }
   ],
   "source": [
    "df.head()"
   ]
  },
  {
   "cell_type": "code",
   "execution_count": 157,
   "id": "c1e3d327",
   "metadata": {},
   "outputs": [
    {
     "name": "stdout",
     "output_type": "stream",
     "text": [
      "<class 'pandas.core.frame.DataFrame'>\n",
      "RangeIndex: 4454 entries, 0 to 4453\n",
      "Data columns (total 14 columns):\n",
      " #   Column     Non-Null Count  Dtype \n",
      "---  ------     --------------  ----- \n",
      " 0   seniority  4454 non-null   int64 \n",
      " 1   home       4454 non-null   object\n",
      " 2   time       4454 non-null   int64 \n",
      " 3   age        4454 non-null   int64 \n",
      " 4   marital    4454 non-null   object\n",
      " 5   records    4454 non-null   object\n",
      " 6   job        4454 non-null   object\n",
      " 7   expenses   4454 non-null   int64 \n",
      " 8   income     4454 non-null   int64 \n",
      " 9   assets     4454 non-null   int64 \n",
      " 10  debt       4454 non-null   int64 \n",
      " 11  amount     4454 non-null   int64 \n",
      " 12  price      4454 non-null   int64 \n",
      " 13  default    4454 non-null   int32 \n",
      "dtypes: int32(1), int64(9), object(4)\n",
      "memory usage: 469.9+ KB\n"
     ]
    }
   ],
   "source": [
    "df.info()"
   ]
  },
  {
   "cell_type": "code",
   "execution_count": 158,
   "id": "c3d23d4c",
   "metadata": {},
   "outputs": [
    {
     "data": {
      "text/html": [
       "<div>\n",
       "<style scoped>\n",
       "    .dataframe tbody tr th:only-of-type {\n",
       "        vertical-align: middle;\n",
       "    }\n",
       "\n",
       "    .dataframe tbody tr th {\n",
       "        vertical-align: top;\n",
       "    }\n",
       "\n",
       "    .dataframe thead th {\n",
       "        text-align: right;\n",
       "    }\n",
       "</style>\n",
       "<table border=\"1\" class=\"dataframe\">\n",
       "  <thead>\n",
       "    <tr style=\"text-align: right;\">\n",
       "      <th></th>\n",
       "      <th>seniority</th>\n",
       "      <th>home</th>\n",
       "      <th>time</th>\n",
       "      <th>age</th>\n",
       "      <th>marital</th>\n",
       "      <th>records</th>\n",
       "      <th>job</th>\n",
       "      <th>expenses</th>\n",
       "      <th>income</th>\n",
       "      <th>assets</th>\n",
       "      <th>debt</th>\n",
       "      <th>amount</th>\n",
       "      <th>price</th>\n",
       "      <th>default</th>\n",
       "    </tr>\n",
       "  </thead>\n",
       "  <tbody>\n",
       "    <tr>\n",
       "      <th>0</th>\n",
       "      <td>9</td>\n",
       "      <td>rent</td>\n",
       "      <td>60</td>\n",
       "      <td>30</td>\n",
       "      <td>married</td>\n",
       "      <td>no</td>\n",
       "      <td>freelance</td>\n",
       "      <td>73</td>\n",
       "      <td>129</td>\n",
       "      <td>0</td>\n",
       "      <td>0</td>\n",
       "      <td>800</td>\n",
       "      <td>846</td>\n",
       "      <td>0</td>\n",
       "    </tr>\n",
       "    <tr>\n",
       "      <th>1</th>\n",
       "      <td>17</td>\n",
       "      <td>rent</td>\n",
       "      <td>60</td>\n",
       "      <td>58</td>\n",
       "      <td>widow</td>\n",
       "      <td>no</td>\n",
       "      <td>fixed</td>\n",
       "      <td>48</td>\n",
       "      <td>131</td>\n",
       "      <td>0</td>\n",
       "      <td>0</td>\n",
       "      <td>1000</td>\n",
       "      <td>1658</td>\n",
       "      <td>0</td>\n",
       "    </tr>\n",
       "    <tr>\n",
       "      <th>2</th>\n",
       "      <td>10</td>\n",
       "      <td>owner</td>\n",
       "      <td>36</td>\n",
       "      <td>46</td>\n",
       "      <td>married</td>\n",
       "      <td>yes</td>\n",
       "      <td>freelance</td>\n",
       "      <td>90</td>\n",
       "      <td>200</td>\n",
       "      <td>3000</td>\n",
       "      <td>0</td>\n",
       "      <td>2000</td>\n",
       "      <td>2985</td>\n",
       "      <td>1</td>\n",
       "    </tr>\n",
       "    <tr>\n",
       "      <th>3</th>\n",
       "      <td>0</td>\n",
       "      <td>rent</td>\n",
       "      <td>60</td>\n",
       "      <td>24</td>\n",
       "      <td>single</td>\n",
       "      <td>no</td>\n",
       "      <td>fixed</td>\n",
       "      <td>63</td>\n",
       "      <td>182</td>\n",
       "      <td>2500</td>\n",
       "      <td>0</td>\n",
       "      <td>900</td>\n",
       "      <td>1325</td>\n",
       "      <td>0</td>\n",
       "    </tr>\n",
       "    <tr>\n",
       "      <th>4</th>\n",
       "      <td>0</td>\n",
       "      <td>rent</td>\n",
       "      <td>36</td>\n",
       "      <td>26</td>\n",
       "      <td>single</td>\n",
       "      <td>no</td>\n",
       "      <td>fixed</td>\n",
       "      <td>46</td>\n",
       "      <td>107</td>\n",
       "      <td>0</td>\n",
       "      <td>0</td>\n",
       "      <td>310</td>\n",
       "      <td>910</td>\n",
       "      <td>0</td>\n",
       "    </tr>\n",
       "  </tbody>\n",
       "</table>\n",
       "</div>"
      ],
      "text/plain": [
       "   seniority   home  time  age  marital records        job  expenses  income  \\\n",
       "0          9   rent    60   30  married      no  freelance        73     129   \n",
       "1         17   rent    60   58    widow      no      fixed        48     131   \n",
       "2         10  owner    36   46  married     yes  freelance        90     200   \n",
       "3          0   rent    60   24   single      no      fixed        63     182   \n",
       "4          0   rent    36   26   single      no      fixed        46     107   \n",
       "\n",
       "   assets  debt  amount  price  default  \n",
       "0       0     0     800    846        0  \n",
       "1       0     0    1000   1658        0  \n",
       "2    3000     0    2000   2985        1  \n",
       "3    2500     0     900   1325        0  \n",
       "4       0     0     310    910        0  "
      ]
     },
     "execution_count": 158,
     "metadata": {},
     "output_type": "execute_result"
    }
   ],
   "source": [
    "df.head()"
   ]
  },
  {
   "cell_type": "markdown",
   "id": "3467e8fa",
   "metadata": {},
   "source": [
    "##### What are the categorical variables? What are the numerical?"
   ]
  },
  {
   "cell_type": "code",
   "execution_count": 159,
   "id": "a1a86f3a",
   "metadata": {},
   "outputs": [],
   "source": [
    "categorical = ['home', 'marital', 'records', 'job']   "
   ]
  },
  {
   "cell_type": "code",
   "execution_count": 160,
   "id": "92e604c0",
   "metadata": {},
   "outputs": [],
   "source": [
    "numerical = ['seniority', 'time', 'age', 'expenses', 'income', 'assets', 'debt',\n",
    "       'amount', 'price']   "
   ]
  },
  {
   "cell_type": "code",
   "execution_count": 161,
   "id": "0361615f",
   "metadata": {},
   "outputs": [],
   "source": [
    "all_features = (categorical + numerical)"
   ]
  },
  {
   "cell_type": "markdown",
   "id": "f98cda7f",
   "metadata": {},
   "source": [
    "Split the data into 3 parts: train/validation/test with 60%/20%/20% distribution. Use train_test_split funciton for that with random_state=1"
   ]
  },
  {
   "cell_type": "code",
   "execution_count": 162,
   "id": "39cc7b02",
   "metadata": {},
   "outputs": [
    {
     "data": {
      "text/plain": [
       "((2672, 14), (891, 14), (891, 14))"
      ]
     },
     "execution_count": 162,
     "metadata": {},
     "output_type": "execute_result"
    }
   ],
   "source": [
    "# Split your data in train/val/test sets, with 60%/20%/20% distribution.\n",
    "from sklearn.model_selection import train_test_split\n",
    "\n",
    "# Use Scikit-Learn for that (the train_test_split function) and set the seed to 1.\n",
    "# Step 1 - splitting dataset into full train and test sets first:\n",
    "df_full_train, df_test = train_test_split(df, test_size=0.20,random_state=1) \n",
    "\n",
    "# Step 2 - splitting full train set again into training set and validation set:\n",
    "df_train, df_val = train_test_split(df_full_train, test_size=0.25,random_state = 1)\n",
    "\n",
    "# getting the size of train, vaidation and test set:\n",
    "df_train.shape, df_val.shape, df_test.shape"
   ]
  },
  {
   "cell_type": "code",
   "execution_count": 163,
   "id": "472b155c",
   "metadata": {},
   "outputs": [
    {
     "data": {
      "text/plain": [
       "((2672, 13), (891, 13), (891, 13))"
      ]
     },
     "execution_count": 163,
     "metadata": {},
     "output_type": "execute_result"
    }
   ],
   "source": [
    "# Getting our target variable column (price) subsets as respective Numpy arrays:\n",
    "y_train = df_train.default.values\n",
    "y_val = df_val.default.values\n",
    "y_test = df_test.default.values\n",
    "\n",
    "# Make sure that the target value ('price') is not in your dataframe.\n",
    "del df_train['default']\n",
    "del df_val['default']\n",
    "del df_test['default']\n",
    "\n",
    "# getting the size of train, vaidation and test set after deleting price column:\n",
    "df_train.shape, df_val.shape, df_test.shape"
   ]
  },
  {
   "cell_type": "markdown",
   "id": "ab6d58e4",
   "metadata": {},
   "source": [
    "### Question 1"
   ]
  },
  {
   "cell_type": "markdown",
   "id": "c53c106c",
   "metadata": {},
   "source": [
    "For each numerical variable, use it as score and compute AUC with the \"default\" variable\n",
    "\n",
    "Use the training dataset for that\n",
    "\n",
    "If your AUC is < 0.5, invert this variable by putting \"-\" in front\n",
    "\n",
    "AUC can go below 0.5 if the variable is negatively correlated with the target varialble. You can change the direction of the correlation by negating this variable - then negative correlation becomes positive."
   ]
  },
  {
   "cell_type": "code",
   "execution_count": 219,
   "id": "1152ad9d",
   "metadata": {},
   "outputs": [
    {
     "name": "stdout",
     "output_type": "stream",
     "text": [
      "           seniority   default\n",
      "seniority   1.000000 -0.260393\n",
      "default    -0.260393  1.000000\n",
      "             time   default\n",
      "time     1.000000  0.100627\n",
      "default  0.100627  1.000000\n",
      "              age   default\n",
      "age      1.000000 -0.095301\n",
      "default -0.095301  1.000000\n",
      "          expenses   default\n",
      "expenses  1.000000  0.028855\n",
      "default   0.028855  1.000000\n",
      "           income   default\n",
      "income   1.000000 -0.214079\n",
      "default -0.214079  1.000000\n",
      "           assets   default\n",
      "assets   1.000000 -0.097857\n",
      "default -0.097857  1.000000\n",
      "             debt   default\n",
      "debt     1.000000  0.010011\n",
      "default  0.010011  1.000000\n",
      "           amount   default\n",
      "amount   1.000000  0.154549\n",
      "default  0.154549  1.000000\n",
      "           price  default\n",
      "price    1.00000  0.01074\n",
      "default  0.01074  1.00000\n"
     ]
    }
   ],
   "source": [
    "numerical_target = ['seniority', 'time', 'age', 'expenses', 'income', 'assets', 'debt',\n",
    "       'amount', 'price']  \n",
    "\n",
    "for i in numerical_target:\n",
    "    a = df[[i, 'default']].corr() \n",
    "    print(a)"
   ]
  },
  {
   "cell_type": "code",
   "execution_count": 220,
   "id": "cbd51887",
   "metadata": {},
   "outputs": [
    {
     "data": {
      "text/plain": [
       "0.702"
      ]
     },
     "execution_count": 220,
     "metadata": {},
     "output_type": "execute_result"
    }
   ],
   "source": [
    "from sklearn.metrics import roc_auc_score\n",
    "#roc_auc_score(y_true, y_pred)\n",
    "# Feature is predictions, and target is true values.\n",
    "auc_score = round(roc_auc_score(y_train, -df_train['seniority']),3)\n",
    "auc_score"
   ]
  },
  {
   "cell_type": "code",
   "execution_count": 221,
   "id": "61b89a14",
   "metadata": {},
   "outputs": [
    {
     "data": {
      "text/plain": [
       "0.561"
      ]
     },
     "execution_count": 221,
     "metadata": {},
     "output_type": "execute_result"
    }
   ],
   "source": [
    "auc_score = round(roc_auc_score(y_train, df_train['time']),3)\n",
    "auc_score"
   ]
  },
  {
   "cell_type": "code",
   "execution_count": 222,
   "id": "97017173",
   "metadata": {},
   "outputs": [
    {
     "data": {
      "text/plain": [
       "0.687"
      ]
     },
     "execution_count": 222,
     "metadata": {},
     "output_type": "execute_result"
    }
   ],
   "source": [
    "auc_score = round(roc_auc_score(y_train, -df_train['income']),3)\n",
    "auc_score"
   ]
  },
  {
   "cell_type": "code",
   "execution_count": 223,
   "id": "4e6fd82c",
   "metadata": {},
   "outputs": [
    {
     "data": {
      "text/plain": [
       "0.501"
      ]
     },
     "execution_count": 223,
     "metadata": {},
     "output_type": "execute_result"
    }
   ],
   "source": [
    "auc_score = round(roc_auc_score(y_train, -df_train['debt']),3)\n",
    "auc_score"
   ]
  },
  {
   "cell_type": "markdown",
   "id": "16743835",
   "metadata": {},
   "source": [
    "Which numerical variable (among the following 4) has the highest AUC?\n",
    "\n",
    "Ans. seniority"
   ]
  },
  {
   "cell_type": "code",
   "execution_count": 224,
   "id": "6b1f6449",
   "metadata": {},
   "outputs": [
    {
     "name": "stdout",
     "output_type": "stream",
     "text": [
      "seniority 0.298 -0.298\n",
      "time 0.561 0.561\n",
      "age 0.433 -0.433\n",
      "expenses 0.501 0.501\n",
      "income 0.313 -0.313\n",
      "assets 0.365 -0.365\n",
      "debt 0.499 -0.499\n",
      "amount 0.588 0.588\n",
      "price 0.486 -0.486\n"
     ]
    }
   ],
   "source": [
    "from sklearn.metrics import roc_auc_score\n",
    "\n",
    "for i in df_train[numerical].columns:\n",
    "    # auc scores\n",
    "    auc_score = round(roc_auc_score(y_train, df_train[i]),3)\n",
    "    if auc_score < 0.5:\n",
    "        new_auc = (auc_score * -1)\n",
    "    else:\n",
    "        new_auc = auc_score\n",
    "    print(i, auc_score, new_auc)"
   ]
  },
  {
   "cell_type": "markdown",
   "id": "b0b99ebc",
   "metadata": {},
   "source": [
    "Which numerical variable (among the following 4) has the highest AUC?\n",
    "\n",
    "Ans. seniority"
   ]
  },
  {
   "cell_type": "markdown",
   "id": "879f52a7",
   "metadata": {},
   "source": [
    "#### Training the model"
   ]
  },
  {
   "cell_type": "markdown",
   "id": "46d1169e",
   "metadata": {},
   "source": [
    "From now on, use these columns only:\n",
    "\n",
    "['seniority', 'income', 'assets', 'records', 'job', 'home']\n",
    "\n",
    "Apply one-hot-encoding using DictVectorizer and train the logistic regression with these parameters:\n",
    "\n",
    "LogisticRegression(solver='liblinear', C=1.0, max_iter=1000)"
   ]
  },
  {
   "cell_type": "code",
   "execution_count": 170,
   "id": "c422d35f",
   "metadata": {},
   "outputs": [],
   "source": [
    "features = ['seniority', 'income', 'assets', 'records', 'job', 'home']\n",
    "\n",
    "from sklearn.feature_extraction import DictVectorizer\n",
    "\n",
    "# Step 1 - Including above feature columns when using one-hot encoding - \n",
    "# creating an instance of the class DictVectorizer()\n",
    "dv = DictVectorizer(sparse=False)   # turns off result as a sparse matrix instead produces a Numpy array\n",
    "\n",
    "train_dicts = df_train[features].to_dict(orient='records')\n",
    "\n",
    "# Combined fit and transform dictionary - for training dataset:\n",
    "X_train = dv.fit_transform(train_dicts)\n",
    "\n",
    "# Step 2 - Fitting the Logistic regresseion model on the training dataset -\n",
    "from sklearn.linear_model import LogisticRegression\n",
    "\n",
    "# intitiating Log. regression model and training it on our full train set:\n",
    "model = LogisticRegression(solver='liblinear', C=1.0, random_state=42,max_iter=1000) \n",
    "model.fit(X_train,y_train)\n",
    "\n",
    "# Step 3 - repeating above process for validation dataset:\n",
    "# Combined fit and transform dictionary - for validation dataset:\n",
    "val_dicts = df_val[features].to_dict(orient='records')\n",
    "\n",
    "X_val = dv.transform(val_dicts)\n",
    "\n",
    "# predicting on the validation dataset and round it to 3 decimal digits:\n",
    "y_pred = model.predict(X_val)"
   ]
  },
  {
   "cell_type": "code",
   "execution_count": 171,
   "id": "4a65aa13",
   "metadata": {},
   "outputs": [
    {
     "data": {
      "text/plain": [
       "0.682"
      ]
     },
     "execution_count": 171,
     "metadata": {},
     "output_type": "execute_result"
    }
   ],
   "source": [
    "# Step 4 - Calculating the accuracy on the validation dataset and round it to 3 decimal digits.\n",
    "# for validation set:\n",
    "from sklearn.metrics import roc_auc_score\n",
    "\n",
    "AUC_score = round(roc_auc_score(y_val, y_pred),3)\n",
    "AUC_score"
   ]
  },
  {
   "cell_type": "markdown",
   "id": "7d31163d",
   "metadata": {},
   "source": [
    "### Question 2\n",
    "\n",
    "What's the AUC of this model on the validation dataset? (round to 3 digits)\n",
    "\n",
    "Ans. 0.612"
   ]
  },
  {
   "cell_type": "markdown",
   "id": "62660a2f",
   "metadata": {},
   "source": [
    "### Question 3\n",
    "\n",
    "Now let's compute precision and recall for our model.\n",
    "\n",
    "Evaluate the model on all thresholds from 0.0 to 1.0 with step 0.01\n",
    "\n",
    "For each threshold, compute precision and recall\n",
    "\n",
    "Plot them"
   ]
  },
  {
   "cell_type": "code",
   "execution_count": 172,
   "id": "62fa8692",
   "metadata": {},
   "outputs": [],
   "source": [
    "# computing TPR and FPR for any model as a Function:\n",
    "scores = []\n",
    "\n",
    "# Step 1 - get all the possible threshold values - using arange() function:\n",
    "thresholds = np.arange(0.0, 1.0, 0.1)\n",
    "\n",
    "    # Step 2 - for all threshold levels getting the confusion tables as list of tuples, scores:\n",
    "for t in thresholds:\n",
    "    # Actual default and not default - as binary arrays::\n",
    "    actual_positive = (y_val == 1)  # customers actually going to default \n",
    "    actual_negative = (y_val == 0)  # customers actually not going to default\n",
    "\n",
    "    # Predicting default and not default - as binary arrays:\n",
    "    predict_positive = (y_pred >= t)  # predict that customers are going to default\n",
    "    predict_negative = (y_pred < t)   # predict that customers are not going to default\n",
    "\n",
    "    # Combining predictions and actuals - using logical operators in Numpy:\n",
    "    # computing True Positives - \n",
    "    tp = (predict_positive & actual_positive).sum()  # returns true only if both are True\n",
    "\n",
    "    # computing True Negatives -\n",
    "    tn = (predict_negative & actual_negative).sum()\n",
    "\n",
    "    # computing False Positives -\n",
    "    fp = (predict_positive & actual_negative).sum()\n",
    "\n",
    "    # computing False Negatives -\n",
    "    fn = (predict_negative & actual_positive).sum()\n",
    "    \n",
    "    # computing precision and recall - \n",
    "    precision = tp / (tp + fp)\n",
    "    recall = tp / (tp + fn)\n",
    "\n",
    "    scores.append((t, tp, fp, fn, tn, precision, recall))"
   ]
  },
  {
   "cell_type": "code",
   "execution_count": 173,
   "id": "d0e5fd72",
   "metadata": {},
   "outputs": [
    {
     "data": {
      "text/html": [
       "<div>\n",
       "<style scoped>\n",
       "    .dataframe tbody tr th:only-of-type {\n",
       "        vertical-align: middle;\n",
       "    }\n",
       "\n",
       "    .dataframe tbody tr th {\n",
       "        vertical-align: top;\n",
       "    }\n",
       "\n",
       "    .dataframe thead th {\n",
       "        text-align: right;\n",
       "    }\n",
       "</style>\n",
       "<table border=\"1\" class=\"dataframe\">\n",
       "  <thead>\n",
       "    <tr style=\"text-align: right;\">\n",
       "      <th></th>\n",
       "      <th>threshold</th>\n",
       "      <th>tp</th>\n",
       "      <th>fp</th>\n",
       "      <th>fn</th>\n",
       "      <th>tn</th>\n",
       "      <th>precision</th>\n",
       "      <th>recall</th>\n",
       "    </tr>\n",
       "  </thead>\n",
       "  <tbody>\n",
       "    <tr>\n",
       "      <th>0</th>\n",
       "      <td>0.0</td>\n",
       "      <td>246</td>\n",
       "      <td>645</td>\n",
       "      <td>0</td>\n",
       "      <td>0</td>\n",
       "      <td>0.276094</td>\n",
       "      <td>1.000000</td>\n",
       "    </tr>\n",
       "    <tr>\n",
       "      <th>1</th>\n",
       "      <td>0.1</td>\n",
       "      <td>114</td>\n",
       "      <td>64</td>\n",
       "      <td>132</td>\n",
       "      <td>581</td>\n",
       "      <td>0.640449</td>\n",
       "      <td>0.463415</td>\n",
       "    </tr>\n",
       "    <tr>\n",
       "      <th>2</th>\n",
       "      <td>0.2</td>\n",
       "      <td>114</td>\n",
       "      <td>64</td>\n",
       "      <td>132</td>\n",
       "      <td>581</td>\n",
       "      <td>0.640449</td>\n",
       "      <td>0.463415</td>\n",
       "    </tr>\n",
       "    <tr>\n",
       "      <th>3</th>\n",
       "      <td>0.3</td>\n",
       "      <td>114</td>\n",
       "      <td>64</td>\n",
       "      <td>132</td>\n",
       "      <td>581</td>\n",
       "      <td>0.640449</td>\n",
       "      <td>0.463415</td>\n",
       "    </tr>\n",
       "    <tr>\n",
       "      <th>4</th>\n",
       "      <td>0.4</td>\n",
       "      <td>114</td>\n",
       "      <td>64</td>\n",
       "      <td>132</td>\n",
       "      <td>581</td>\n",
       "      <td>0.640449</td>\n",
       "      <td>0.463415</td>\n",
       "    </tr>\n",
       "    <tr>\n",
       "      <th>5</th>\n",
       "      <td>0.5</td>\n",
       "      <td>114</td>\n",
       "      <td>64</td>\n",
       "      <td>132</td>\n",
       "      <td>581</td>\n",
       "      <td>0.640449</td>\n",
       "      <td>0.463415</td>\n",
       "    </tr>\n",
       "    <tr>\n",
       "      <th>6</th>\n",
       "      <td>0.6</td>\n",
       "      <td>114</td>\n",
       "      <td>64</td>\n",
       "      <td>132</td>\n",
       "      <td>581</td>\n",
       "      <td>0.640449</td>\n",
       "      <td>0.463415</td>\n",
       "    </tr>\n",
       "    <tr>\n",
       "      <th>7</th>\n",
       "      <td>0.7</td>\n",
       "      <td>114</td>\n",
       "      <td>64</td>\n",
       "      <td>132</td>\n",
       "      <td>581</td>\n",
       "      <td>0.640449</td>\n",
       "      <td>0.463415</td>\n",
       "    </tr>\n",
       "    <tr>\n",
       "      <th>8</th>\n",
       "      <td>0.8</td>\n",
       "      <td>114</td>\n",
       "      <td>64</td>\n",
       "      <td>132</td>\n",
       "      <td>581</td>\n",
       "      <td>0.640449</td>\n",
       "      <td>0.463415</td>\n",
       "    </tr>\n",
       "    <tr>\n",
       "      <th>9</th>\n",
       "      <td>0.9</td>\n",
       "      <td>114</td>\n",
       "      <td>64</td>\n",
       "      <td>132</td>\n",
       "      <td>581</td>\n",
       "      <td>0.640449</td>\n",
       "      <td>0.463415</td>\n",
       "    </tr>\n",
       "  </tbody>\n",
       "</table>\n",
       "</div>"
      ],
      "text/plain": [
       "   threshold   tp   fp   fn   tn  precision    recall\n",
       "0        0.0  246  645    0    0   0.276094  1.000000\n",
       "1        0.1  114   64  132  581   0.640449  0.463415\n",
       "2        0.2  114   64  132  581   0.640449  0.463415\n",
       "3        0.3  114   64  132  581   0.640449  0.463415\n",
       "4        0.4  114   64  132  581   0.640449  0.463415\n",
       "5        0.5  114   64  132  581   0.640449  0.463415\n",
       "6        0.6  114   64  132  581   0.640449  0.463415\n",
       "7        0.7  114   64  132  581   0.640449  0.463415\n",
       "8        0.8  114   64  132  581   0.640449  0.463415\n",
       "9        0.9  114   64  132  581   0.640449  0.463415"
      ]
     },
     "execution_count": 173,
     "metadata": {},
     "output_type": "execute_result"
    }
   ],
   "source": [
    " # Step 3 - putting all the confusion matrices created for each threshold into a DataFrame:\n",
    "columns = ['threshold', 'tp', 'fp', 'fn', 'tn', 'precision', 'recall']  # specifying column names for df\n",
    "df_scores = pd.DataFrame(scores, columns=columns)\n",
    "\n",
    "df_scores"
   ]
  },
  {
   "cell_type": "code",
   "execution_count": 174,
   "id": "4f1a283e",
   "metadata": {},
   "outputs": [
    {
     "data": {
      "image/png": "[encoded data removed]",
      "text/plain": [
       "<Figure size 432x288 with 1 Axes>"
      ]
     },
     "metadata": {
      "needs_background": "light"
     },
     "output_type": "display_data"
    }
   ],
   "source": [
    "# Step 5 - plotting the Precision and Recall using different thresholds:\n",
    "plt.plot(df_scores.threshold, df_scores['precision'],label='Precision')\n",
    "plt.plot(df_scores.threshold, df_scores['recall'],label='Recall')\n",
    "plt.xlabel('thresholds')\n",
    "plt.ylabel('precision and recall')\n",
    "plt.legend()\n",
    "\n",
    "plt.show()"
   ]
  },
  {
   "cell_type": "markdown",
   "id": "a43d7ec9",
   "metadata": {},
   "source": [
    "At which threshold precision and recall curves intersect?\n",
    "\n",
    "Ans. 0.2"
   ]
  },
  {
   "cell_type": "markdown",
   "id": "17c45e91",
   "metadata": {},
   "source": [
    "### Question 4"
   ]
  },
  {
   "cell_type": "markdown",
   "id": "d3d245e4",
   "metadata": {},
   "source": [
    "Let's compute F1 for all thresholds from 0.0 to 1.0 with increment 0.01"
   ]
  },
  {
   "cell_type": "code",
   "execution_count": 175,
   "id": "071c7d8c",
   "metadata": {},
   "outputs": [
    {
     "data": {
      "text/html": [
       "<div>\n",
       "<style scoped>\n",
       "    .dataframe tbody tr th:only-of-type {\n",
       "        vertical-align: middle;\n",
       "    }\n",
       "\n",
       "    .dataframe tbody tr th {\n",
       "        vertical-align: top;\n",
       "    }\n",
       "\n",
       "    .dataframe thead th {\n",
       "        text-align: right;\n",
       "    }\n",
       "</style>\n",
       "<table border=\"1\" class=\"dataframe\">\n",
       "  <thead>\n",
       "    <tr style=\"text-align: right;\">\n",
       "      <th></th>\n",
       "      <th>threshold</th>\n",
       "      <th>F1_score</th>\n",
       "    </tr>\n",
       "  </thead>\n",
       "  <tbody>\n",
       "    <tr>\n",
       "      <th>0</th>\n",
       "      <td>0.0</td>\n",
       "      <td>0.432718</td>\n",
       "    </tr>\n",
       "    <tr>\n",
       "      <th>1</th>\n",
       "      <td>0.1</td>\n",
       "      <td>0.537736</td>\n",
       "    </tr>\n",
       "    <tr>\n",
       "      <th>2</th>\n",
       "      <td>0.2</td>\n",
       "      <td>0.537736</td>\n",
       "    </tr>\n",
       "    <tr>\n",
       "      <th>3</th>\n",
       "      <td>0.3</td>\n",
       "      <td>0.537736</td>\n",
       "    </tr>\n",
       "    <tr>\n",
       "      <th>4</th>\n",
       "      <td>0.4</td>\n",
       "      <td>0.537736</td>\n",
       "    </tr>\n",
       "    <tr>\n",
       "      <th>5</th>\n",
       "      <td>0.5</td>\n",
       "      <td>0.537736</td>\n",
       "    </tr>\n",
       "    <tr>\n",
       "      <th>6</th>\n",
       "      <td>0.6</td>\n",
       "      <td>0.537736</td>\n",
       "    </tr>\n",
       "    <tr>\n",
       "      <th>7</th>\n",
       "      <td>0.7</td>\n",
       "      <td>0.537736</td>\n",
       "    </tr>\n",
       "    <tr>\n",
       "      <th>8</th>\n",
       "      <td>0.8</td>\n",
       "      <td>0.537736</td>\n",
       "    </tr>\n",
       "    <tr>\n",
       "      <th>9</th>\n",
       "      <td>0.9</td>\n",
       "      <td>0.537736</td>\n",
       "    </tr>\n",
       "  </tbody>\n",
       "</table>\n",
       "</div>"
      ],
      "text/plain": [
       "   threshold  F1_score\n",
       "0        0.0  0.432718\n",
       "1        0.1  0.537736\n",
       "2        0.2  0.537736\n",
       "3        0.3  0.537736\n",
       "4        0.4  0.537736\n",
       "5        0.5  0.537736\n",
       "6        0.6  0.537736\n",
       "7        0.7  0.537736\n",
       "8        0.8  0.537736\n",
       "9        0.9  0.537736"
      ]
     },
     "execution_count": 175,
     "metadata": {},
     "output_type": "execute_result"
    }
   ],
   "source": [
    "# computing TPR and FPR for any model as a Function:\n",
    "scores = []\n",
    "\n",
    "# Step 1 - get all the possible threshold values - using arange() function:\n",
    "thresholds = np.arange(0.0, 1.0, 0.1)\n",
    "\n",
    "    # Step 2 - for all threshold levels getting the confusion tables as list of tuples, scores:\n",
    "for t in thresholds:\n",
    "    # Actual default and not default - as binary arrays::\n",
    "    actual_positive = (y_val == 1)  # customers actually going to default \n",
    "    actual_negative = (y_val == 0)  # customers actually not going to default\n",
    "\n",
    "    # Predicting default and not default - as binary arrays:\n",
    "    predict_positive = (y_pred >= t)  # predict that customers are going to default\n",
    "    predict_negative = (y_pred < t)   # predict that customers are not going to default\n",
    "\n",
    "    # Combining predictions and actuals - using logical operators in Numpy:\n",
    "    # computing True Positives - \n",
    "    tp = (predict_positive & actual_positive).sum()  # returns true only if both are True\n",
    "\n",
    "    # computing True Negatives -\n",
    "    tn = (predict_negative & actual_negative).sum()\n",
    "\n",
    "    # computing False Positives -\n",
    "    fp = (predict_positive & actual_negative).sum()\n",
    "\n",
    "    # computing False Negatives -\n",
    "    fn = (predict_negative & actual_positive).sum()\n",
    "    \n",
    "    # computing precision and recall - \n",
    "    precision = tp / (tp + fp)\n",
    "    recall = tp / (tp + fn)\n",
    "    \n",
    "    # computing F1 score - F1 = 2 * P * R / (P + R)\n",
    "    F1 = 2 * precision * recall / (precision + recall)\n",
    "\n",
    "    scores.append((t, F1))\n",
    "\n",
    "    # Step 3 - putting all the confusion matrices created for each threshold into a DataFrame:\n",
    "    columns = ['threshold', 'F1_score']  # specifying column names for df\n",
    "    df_scores = pd.DataFrame(scores, columns=columns)\n",
    "    \n",
    "df_scores"
   ]
  },
  {
   "cell_type": "markdown",
   "id": "04ca42ee",
   "metadata": {},
   "source": [
    "At which threshold F1 is maximal?\n",
    "\n",
    "Ans. 0.7"
   ]
  },
  {
   "cell_type": "markdown",
   "id": "19dca79d",
   "metadata": {},
   "source": [
    "### Question 5"
   ]
  },
  {
   "cell_type": "markdown",
   "id": "0c788370",
   "metadata": {},
   "source": [
    "Use the KFold class from Scikit-Learn to evaluate our model on 5 different folds:\n",
    "\n",
    "KFold(n_splits=5, shuffle=True, random_state=1)\n",
    "\n",
    "Iterate over different folds of df_full_train\n",
    "\n",
    "Split the data into train and validation\n",
    "\n",
    "Train the model on train with these parameters: LogisticRegression(solver='liblinear', C=1.0, max_iter=1000)\n",
    "\n",
    "Use AUC to evaluate the model on validation"
   ]
  },
  {
   "cell_type": "code",
   "execution_count": 176,
   "id": "86da3286",
   "metadata": {},
   "outputs": [],
   "source": [
    "# Step 1 -\n",
    "# Function 1 - Creating a function to train our DataFrame:\n",
    "def train(df_train, y_train):\n",
    "    dicts = df_train[features].to_dict(orient='records')\n",
    "    \n",
    "    dv = DictVectorizer(sparse=False)\n",
    "    X_train = dv.fit_transform(dicts)\n",
    "    \n",
    "    model = LogisticRegression(solver='liblinear', C=1.0, max_iter=1000)     # C parameter is equivalent to regularization parameter\n",
    "    model.fit(X_train, y_train)\n",
    "    \n",
    "    return dv, model"
   ]
  },
  {
   "cell_type": "code",
   "execution_count": 177,
   "id": "7604f267",
   "metadata": {},
   "outputs": [],
   "source": [
    "dv, model = train(df_train, y_train) "
   ]
  },
  {
   "cell_type": "code",
   "execution_count": 178,
   "id": "d1062c56",
   "metadata": {},
   "outputs": [],
   "source": [
    "# Step 2 - \n",
    "# Function 2 - Creating another function to predict:\n",
    "def predict(df, dv, model):\n",
    "    dicts = df[features].to_dict(orient='records')  # converts df to list of dictionaries\n",
    "    \n",
    "    X = dv.transform(dicts)  # creates a feature matrix using the vectorizer\n",
    "    \n",
    "    y_pred = model.predict_proba(X)[:, 1]  # uses the model\n",
    "    \n",
    "    return y_pred"
   ]
  },
  {
   "cell_type": "code",
   "execution_count": 179,
   "id": "97e07e25",
   "metadata": {},
   "outputs": [],
   "source": [
    "y_pred = predict(df_val, dv, model)"
   ]
  },
  {
   "cell_type": "code",
   "execution_count": 180,
   "id": "6299baf5",
   "metadata": {},
   "outputs": [],
   "source": [
    "# Library to track each iteration in a Cross Validation run\n",
    "from tqdm.auto import tqdm\n",
    "\n",
    "# Step 3 - Using the K-fold Cross Validation and above 2 created functions - \n",
    "from sklearn.model_selection import KFold"
   ]
  },
  {
   "cell_type": "code",
   "execution_count": 181,
   "id": "d1647b32",
   "metadata": {},
   "outputs": [
    {
     "data": {
      "application/vnd.jupyter.widget-view+json": {
       "model_id": "3a0ed41e45354ddc8eb6f19f5754bcde",
       "version_major": 2,
       "version_minor": 0
      },
      "text/plain": [
       "  0%|          | 0/8 [00:00<?, ?it/s]"
      ]
     },
     "metadata": {},
     "output_type": "display_data"
    },
    {
     "name": "stdout",
     "output_type": "stream",
     "text": [
      "0 0.814 +- 0.015\n",
      "0.001 0.814 +- 0.015\n",
      "0.01 0.814 +- 0.015\n",
      "0.1 0.814 +- 0.015\n",
      "0.5 0.814 +- 0.015\n",
      "1 0.814 +- 0.015\n",
      "5 0.814 +- 0.015\n",
      "10 0.814 +- 0.015\n"
     ]
    }
   ],
   "source": [
    "n_splits = 5\n",
    "\n",
    "for C in tqdm([0, 0.001, 0.01, 0.1, 0.5, 1, 5, 10]):\n",
    "    kfold = KFold(n_splits=5, shuffle=True, random_state=1)\n",
    "   \n",
    "    scores = []\n",
    "    \n",
    "    \n",
    "    for train_idx, val_idx in kfold.split(df_full_train):\n",
    "        \n",
    "        # Selecting part of dataset as 3 subsets for model:\n",
    "        df_train = df_full_train.iloc[train_idx]\n",
    "        df_val = df_full_train.iloc[val_idx]\n",
    "\n",
    "        y_train = df_train.default.values   # our target variable values as Numpy array for train and validation sets\n",
    "        y_val = df_val.default.values\n",
    "\n",
    "        dv, model = train(df_train, y_train)   # using train function created\n",
    "        y_pred = predict(df_val, dv, model)   # using predict function created\n",
    "\n",
    "        # compute auc for ROC Curve:\n",
    "        auc = roc_auc_score(y_val, y_pred)\n",
    "        scores.append(auc)\n",
    "        \n",
    "        # Computing mean of scores and std deviation of score:\n",
    "    print('%s %.3f +- %.3f' % (C, np.mean(scores), np.std(scores)))"
   ]
  },
  {
   "cell_type": "markdown",
   "id": "563f4878",
   "metadata": {},
   "source": [
    "How large is standard devidation of the AUC scores across different folds?\n",
    "\n",
    "Ans. 0.014"
   ]
  },
  {
   "cell_type": "markdown",
   "id": "3d44ddfe",
   "metadata": {},
   "source": [
    "### Question 6"
   ]
  },
  {
   "cell_type": "markdown",
   "id": "60e1e546",
   "metadata": {},
   "source": [
    "Now let's use 5-Fold cross-validation to find the best parameter C\n",
    "\n",
    "Iterate over the following C values: [0.01, 0.1, 1, 10]\n",
    "\n",
    "Initialize KFold with the same parameters as previously\n",
    "\n",
    "Use these parametes for the model: LogisticRegression(solver='liblinear', C=C, max_iter=1000)\n",
    "\n",
    "Compute the mean score as well as the std (round the mean and std to 3 decimal digits)"
   ]
  },
  {
   "cell_type": "code",
   "execution_count": 182,
   "id": "f86fc4f4",
   "metadata": {},
   "outputs": [],
   "source": [
    "# Step 1 -\n",
    "# Function 1 - Creating a function to train our DataFrame:\n",
    "def train(df_train, y_train,C):\n",
    "    dicts = df_train[features].to_dict(orient='records')\n",
    "    \n",
    "    dv = DictVectorizer(sparse=False)\n",
    "    X_train = dv.fit_transform(dicts)\n",
    "\n",
    "    model = LogisticRegression(solver='liblinear', C=C, max_iter=1000)     # C parameter is equivalent to regularization parameter\n",
    "    model.fit(X_train, y_train)\n",
    "\n",
    "    return dv, model"
   ]
  },
  {
   "cell_type": "code",
   "execution_count": 183,
   "id": "41fef515",
   "metadata": {},
   "outputs": [],
   "source": [
    "# Step 2 - \n",
    "# Function 2 - Creating another function to predict:\n",
    "def predict(df, dv, model):\n",
    "    dicts = df[features].to_dict(orient='records')  # converts df to list of dictionaries\n",
    "    \n",
    "    X = dv.transform(dicts)  # creates a feature matrix using the vectorizer\n",
    "    \n",
    "    y_pred = model.predict_proba(X)[:, 1]  # uses the model\n",
    "    \n",
    "    return y_pred"
   ]
  },
  {
   "cell_type": "code",
   "execution_count": 184,
   "id": "0c9cac47",
   "metadata": {},
   "outputs": [
    {
     "name": "stdout",
     "output_type": "stream",
     "text": [
      "0.01 0.808 +- 0.012\n",
      "0.1 0.813 +- 0.014\n",
      "1 0.814 +- 0.015\n",
      "10 0.814 +- 0.015\n"
     ]
    }
   ],
   "source": [
    "for C in [0.01, 0.1, 1, 10]:\n",
    "    kfold = KFold(n_splits=5, shuffle=True, random_state=1)\n",
    "   \n",
    "    scores = []\n",
    "    \n",
    "    for train_idx, val_idx in kfold.split(df_full_train):\n",
    "        \n",
    "        # Selecting part of dataset as 3 subsets for model:\n",
    "        df_train = df_full_train.iloc[train_idx]\n",
    "        df_val = df_full_train.iloc[val_idx]\n",
    "\n",
    "        y_train = df_train.default.values   # our target variable values as Numpy array for train and validation sets\n",
    "        y_val = df_val.default.values\n",
    "\n",
    "        dv, model = train(df_train, y_train,C)   # using train function created\n",
    "        y_pred = predict(df_val, dv, model)   # using predict function created\n",
    "\n",
    "        # compute auc for ROC Curve:\n",
    "        auc = roc_auc_score(y_val, y_pred)\n",
    "        scores.append(auc)\n",
    "        \n",
    "        # Computing mean of scores and std deviation of score:\n",
    "    print('%s %.3f +- %.3f' % (C, np.mean(scores), np.std(scores)))"
   ]
  },
  {
   "cell_type": "markdown",
   "id": "fca34bf3",
   "metadata": {},
   "source": [
    "Which C leads to the best mean score?\n",
    "\n",
    "Ans. 1 (smallest C)"
   ]
  },
  {
   "cell_type": "markdown",
   "id": "e47bf7c3",
   "metadata": {},
   "source": [
    "## Session #6 Homework\n",
    "\n",
    "https://github.com/alexeygrigorev/mlbookcamp-code/blob/master/course-zoomcamp/06-trees/homework-6-starter.ipynb\n",
    "\n",
    "New York City Airbnb Open Data dataset - https://www.kaggle.com/dgomonov/new-york-city-airbnb-open-data?select=AB_NYC_2019.csv"
   ]
  },
  {
   "cell_type": "code",
   "execution_count": 181,
   "id": "1081af8e",
   "metadata": {},
   "outputs": [],
   "source": [
    "import pandas as pd\n",
    "import numpy as np\n",
    "\n",
    "import matplotlib.pyplot as plt\n",
    "import seaborn as sns\n",
    "\n",
    "%matplotlib inline"
   ]
  },
  {
   "cell_type": "code",
   "execution_count": 53,
   "id": "1b6328ef",
   "metadata": {},
   "outputs": [],
   "source": [
    "# loading the data and renamong columns:\n",
    "columns = [\n",
    "    'neighbourhood_group', 'room_type', 'latitude', 'longitude',\n",
    "    'minimum_nights', 'number_of_reviews','reviews_per_month',\n",
    "    'calculated_host_listings_count', 'availability_365',\n",
    "    'price'\n",
    "]\n",
    "\n",
    "df = pd.read_csv('AB_NYC_2019.csv', usecols=columns)\n",
    "\n",
    "# Filling NAs with 0:\n",
    "df.reviews_per_month = df.reviews_per_month.fillna(0)"
   ]
  },
  {
   "cell_type": "code",
   "execution_count": 54,
   "id": "ec0cc703",
   "metadata": {},
   "outputs": [
    {
     "data": {
      "text/plain": [
       "count    48895.000000\n",
       "mean       152.720687\n",
       "std        240.154170\n",
       "min          0.000000\n",
       "25%         69.000000\n",
       "50%        106.000000\n",
       "75%        175.000000\n",
       "max      10000.000000\n",
       "Name: price, dtype: float64"
      ]
     },
     "execution_count": 54,
     "metadata": {},
     "output_type": "execute_result"
    }
   ],
   "source": [
    "# summarizing the price column before applying log transformation:\n",
    "df.price.describe()"
   ]
  },
  {
   "cell_type": "code",
   "execution_count": 55,
   "id": "2f6b062a",
   "metadata": {},
   "outputs": [
    {
     "data": {
      "text/plain": [
       "count    48895.000000\n",
       "mean         4.736885\n",
       "std          0.695344\n",
       "min          0.000000\n",
       "25%          4.248495\n",
       "50%          4.672829\n",
       "75%          5.170484\n",
       "max          9.210440\n",
       "Name: price, dtype: float64"
      ]
     },
     "execution_count": 55,
     "metadata": {},
     "output_type": "execute_result"
    }
   ],
   "source": [
    "# Applying the log tranform to price column:\n",
    "price_logs = np.log1p(df.price)\n",
    "\n",
    "# summarizing the price column after applying log transformation:\n",
    "price_logs.describe()"
   ]
  },
  {
   "cell_type": "markdown",
   "id": "b2f8588a",
   "metadata": {},
   "source": [
    "Do train/validation/test split with 60%/20%/20% distribution."
   ]
  },
  {
   "cell_type": "code",
   "execution_count": 56,
   "id": "afa4e2f4",
   "metadata": {},
   "outputs": [
    {
     "data": {
      "text/plain": [
       "((29337, 10), (9779, 10), (9779, 10))"
      ]
     },
     "execution_count": 56,
     "metadata": {},
     "output_type": "execute_result"
    }
   ],
   "source": [
    "from sklearn.model_selection import train_test_split\n",
    "\n",
    "# Use Scikit-Learn for that (the train_test_split function) and set the seed to 1.\n",
    "# Step 1 - splitting dataset into full train and test sets first:\n",
    "df_full_train, df_test = train_test_split(df, test_size=0.20,random_state=1) \n",
    "\n",
    "# Step 2 - splitting full train set again into training set and validation set:\n",
    "df_train, df_val = train_test_split(df_full_train, test_size=0.25,random_state = 1)\n",
    "\n",
    "# getting the size of train, vaidation and test set:\n",
    "df_train.shape, df_val.shape, df_test.shape"
   ]
  },
  {
   "cell_type": "code",
   "execution_count": 57,
   "id": "3b73fcbd",
   "metadata": {},
   "outputs": [
    {
     "data": {
      "text/plain": [
       "((29337, 9), (9779, 9), (9779, 9))"
      ]
     },
     "execution_count": 57,
     "metadata": {},
     "output_type": "execute_result"
    }
   ],
   "source": [
    "# Getting our target variable column (log transformation of price) subsets as respective Numpy arrays:\n",
    "y_train = np.log1p(df_train.price.values)\n",
    "y_val = np.log1p(df_val.price.values)\n",
    "y_test = np.log1p(df_test.price.values)\n",
    "\n",
    "# Make sure that the target value ('price') is not in your dataframe.\n",
    "del df_train['price']\n",
    "del df_val['price']\n",
    "del df_test['price']\n",
    "\n",
    "# getting the size of train, vaidation and test set after deleting price column:\n",
    "df_train.shape, df_val.shape, df_test.shape"
   ]
  },
  {
   "cell_type": "code",
   "execution_count": 59,
   "id": "cc1289eb",
   "metadata": {},
   "outputs": [],
   "source": [
    "# resetting indices for 3 subsets of data - \n",
    "df_train = df_train.reset_index(drop=True)\n",
    "df_val = df_val.reset_index(drop=True)\n",
    "df_test = df_val.reset_index(drop=True)"
   ]
  },
  {
   "cell_type": "markdown",
   "id": "7f009152",
   "metadata": {},
   "source": [
    "Now, use DictVectorizer to turn train and validation into matrices:"
   ]
  },
  {
   "cell_type": "code",
   "execution_count": 73,
   "id": "19451604",
   "metadata": {},
   "outputs": [],
   "source": [
    "from sklearn.feature_extraction import DictVectorizer\n",
    "\n",
    "# creating an instance of the class DictVectorizer()\n",
    "dv = DictVectorizer(sparse=False)   # turns off result as a sparse matrix instead produces a Numpy array\n",
    "\n",
    "# turning training subset into matrices:\n",
    "train_dicts = df_train.to_dict(orient='records')\n",
    "\n",
    "# combining fit and transform dictionary - for training dataset:\n",
    "X_train = dv.fit_transform(train_dicts)\n",
    "\n",
    "# turning validation subset into matrices:\n",
    "val_dicts = df_val.to_dict(orient='records')\n",
    "\n",
    "# transforming the dictionary for validation dataset:\n",
    "X_val = dv.transform(val_dicts)"
   ]
  },
  {
   "cell_type": "markdown",
   "id": "7229eeff",
   "metadata": {},
   "source": [
    "### Question 1\n",
    "\n",
    "Let's train a decision tree regressor to predict the price variable.\n",
    "\n",
    "Train a model with max_depth=1"
   ]
  },
  {
   "cell_type": "code",
   "execution_count": 78,
   "id": "4b0a1cab",
   "metadata": {},
   "outputs": [
    {
     "name": "stdout",
     "output_type": "stream",
     "text": [
      "|--- room_type=Entire home/apt <= 0.50\n",
      "|   |--- value: [4.29]\n",
      "|--- room_type=Entire home/apt >  0.50\n",
      "|   |--- value: [5.15]\n",
      "\n"
     ]
    }
   ],
   "source": [
    "from sklearn.tree import DecisionTreeRegressor\n",
    "from sklearn.tree import DecisionTreeClassifier\n",
    "from sklearn.tree import export_text\n",
    "\n",
    "# instantiating the regression model:\n",
    "dr = DecisionTreeRegressor(max_depth= 1)\n",
    "\n",
    "# training our data with regressor model having max_depth = 1:\n",
    "dr.fit(X_train, y_train)\n",
    "\n",
    "\n",
    "# visualizing the tree having max_depth =1 to see feature_contributions to split:\n",
    "print(export_text(dr, feature_names=dv.get_feature_names())) "
   ]
  },
  {
   "cell_type": "markdown",
   "id": "ed6e5273",
   "metadata": {},
   "source": [
    "Which feature is used for splitting the data?\n",
    "\n",
    "Ans. room_type"
   ]
  },
  {
   "cell_type": "markdown",
   "id": "095a955f",
   "metadata": {},
   "source": [
    "### Question 2\n",
    "\n",
    "Train a random forest model with these parameters:\n",
    "\n",
    "n_estimators=10\n",
    "\n",
    "random_state=1\n",
    "\n",
    "n_jobs=-1 (optional - to make training faster)"
   ]
  },
  {
   "cell_type": "code",
   "execution_count": 91,
   "id": "3f55c616",
   "metadata": {},
   "outputs": [
    {
     "data": {
      "text/plain": [
       "0.19926993416535616"
      ]
     },
     "execution_count": 91,
     "metadata": {},
     "output_type": "execute_result"
    }
   ],
   "source": [
    "from sklearn.ensemble import RandomForestRegressor\n",
    "from sklearn.metrics import mean_squared_error\n",
    "\n",
    "# training the random forest regressor with below parameters:\n",
    "rfr = RandomForestRegressor(n_estimators=10,random_state = 1,n_jobs=-1)  \n",
    "rfr.fit(X_train, y_train)\n",
    "\n",
    "# making predictions from model using the training set:\n",
    "y_pred_train = rfr.predict(X_train)\n",
    "mean_squared_error(y_train, y_pred_train, squared=False) "
   ]
  },
  {
   "cell_type": "code",
   "execution_count": 92,
   "id": "749c7970",
   "metadata": {},
   "outputs": [
    {
     "data": {
      "text/plain": [
       "0.4615632303514057"
      ]
     },
     "execution_count": 92,
     "metadata": {},
     "output_type": "execute_result"
    }
   ],
   "source": [
    "# making predictions from model using the validation set:\n",
    "y_pred = rfr.predict(X_val)\n",
    "# calculating the RMSE of this model on validation:\n",
    "mean_squared_error(y_val, y_pred,squared=False)  # squared = False to compute root of MSE"
   ]
  },
  {
   "cell_type": "markdown",
   "id": "0fa9470e",
   "metadata": {},
   "source": [
    "What's the RMSE of this model on validation?\n",
    "\n",
    "Ans. 0.459"
   ]
  },
  {
   "cell_type": "markdown",
   "id": "12a01b9d",
   "metadata": {},
   "source": [
    "### Question 3\n",
    "\n",
    "Now let's experiment with the n_estimators parameter\n",
    "\n",
    "Try different values of this parameter from 10 to 200 with step 10\n",
    "\n",
    "Set random_state to 1\n",
    "\n",
    "Evaluate the model on the validation dataset"
   ]
  },
  {
   "cell_type": "code",
   "execution_count": 96,
   "id": "008c225e",
   "metadata": {},
   "outputs": [],
   "source": [
    "# creating an empty list:\n",
    "scores = []\n",
    "\n",
    "# Trying different values of n_estimators from 10 to 200 with step 10:\n",
    "for n in range(10, 201, 10):\n",
    "    rfr = RandomForestRegressor(n_estimators=n,random_state = 1)  \n",
    "    rfr.fit(X_train, y_train)\n",
    "    \n",
    "    # Evaluating the model on the validation dataset:\n",
    "    y_pred = rfr.predict(X_val)\n",
    "    \n",
    "    # computing RMSE of model on validation set:\n",
    "    RMSE_value = mean_squared_error(y_val, y_pred, squared=False)\n",
    "    \n",
    "    # appending the RMSE values to empty list scores:\n",
    "    scores.append((n,round(RMSE_value,3)))"
   ]
  },
  {
   "cell_type": "code",
   "execution_count": 97,
   "id": "27b8221c",
   "metadata": {},
   "outputs": [
    {
     "data": {
      "text/html": [
       "<div>\n",
       "<style scoped>\n",
       "    .dataframe tbody tr th:only-of-type {\n",
       "        vertical-align: middle;\n",
       "    }\n",
       "\n",
       "    .dataframe tbody tr th {\n",
       "        vertical-align: top;\n",
       "    }\n",
       "\n",
       "    .dataframe thead th {\n",
       "        text-align: right;\n",
       "    }\n",
       "</style>\n",
       "<table border=\"1\" class=\"dataframe\">\n",
       "  <thead>\n",
       "    <tr style=\"text-align: right;\">\n",
       "      <th></th>\n",
       "      <th>n_estimators</th>\n",
       "      <th>RMSE</th>\n",
       "    </tr>\n",
       "  </thead>\n",
       "  <tbody>\n",
       "    <tr>\n",
       "      <th>0</th>\n",
       "      <td>10</td>\n",
       "      <td>0.462</td>\n",
       "    </tr>\n",
       "    <tr>\n",
       "      <th>1</th>\n",
       "      <td>20</td>\n",
       "      <td>0.448</td>\n",
       "    </tr>\n",
       "    <tr>\n",
       "      <th>2</th>\n",
       "      <td>30</td>\n",
       "      <td>0.446</td>\n",
       "    </tr>\n",
       "    <tr>\n",
       "      <th>3</th>\n",
       "      <td>40</td>\n",
       "      <td>0.444</td>\n",
       "    </tr>\n",
       "    <tr>\n",
       "      <th>4</th>\n",
       "      <td>50</td>\n",
       "      <td>0.442</td>\n",
       "    </tr>\n",
       "    <tr>\n",
       "      <th>5</th>\n",
       "      <td>60</td>\n",
       "      <td>0.442</td>\n",
       "    </tr>\n",
       "    <tr>\n",
       "      <th>6</th>\n",
       "      <td>70</td>\n",
       "      <td>0.441</td>\n",
       "    </tr>\n",
       "    <tr>\n",
       "      <th>7</th>\n",
       "      <td>80</td>\n",
       "      <td>0.441</td>\n",
       "    </tr>\n",
       "    <tr>\n",
       "      <th>8</th>\n",
       "      <td>90</td>\n",
       "      <td>0.441</td>\n",
       "    </tr>\n",
       "    <tr>\n",
       "      <th>9</th>\n",
       "      <td>100</td>\n",
       "      <td>0.440</td>\n",
       "    </tr>\n",
       "    <tr>\n",
       "      <th>10</th>\n",
       "      <td>110</td>\n",
       "      <td>0.439</td>\n",
       "    </tr>\n",
       "    <tr>\n",
       "      <th>11</th>\n",
       "      <td>120</td>\n",
       "      <td>0.439</td>\n",
       "    </tr>\n",
       "    <tr>\n",
       "      <th>12</th>\n",
       "      <td>130</td>\n",
       "      <td>0.439</td>\n",
       "    </tr>\n",
       "    <tr>\n",
       "      <th>13</th>\n",
       "      <td>140</td>\n",
       "      <td>0.439</td>\n",
       "    </tr>\n",
       "    <tr>\n",
       "      <th>14</th>\n",
       "      <td>150</td>\n",
       "      <td>0.439</td>\n",
       "    </tr>\n",
       "    <tr>\n",
       "      <th>15</th>\n",
       "      <td>160</td>\n",
       "      <td>0.439</td>\n",
       "    </tr>\n",
       "    <tr>\n",
       "      <th>16</th>\n",
       "      <td>170</td>\n",
       "      <td>0.439</td>\n",
       "    </tr>\n",
       "    <tr>\n",
       "      <th>17</th>\n",
       "      <td>180</td>\n",
       "      <td>0.439</td>\n",
       "    </tr>\n",
       "    <tr>\n",
       "      <th>18</th>\n",
       "      <td>190</td>\n",
       "      <td>0.439</td>\n",
       "    </tr>\n",
       "    <tr>\n",
       "      <th>19</th>\n",
       "      <td>200</td>\n",
       "      <td>0.439</td>\n",
       "    </tr>\n",
       "  </tbody>\n",
       "</table>\n",
       "</div>"
      ],
      "text/plain": [
       "    n_estimators   RMSE\n",
       "0             10  0.462\n",
       "1             20  0.448\n",
       "2             30  0.446\n",
       "3             40  0.444\n",
       "4             50  0.442\n",
       "5             60  0.442\n",
       "6             70  0.441\n",
       "7             80  0.441\n",
       "8             90  0.441\n",
       "9            100  0.440\n",
       "10           110  0.439\n",
       "11           120  0.439\n",
       "12           130  0.439\n",
       "13           140  0.439\n",
       "14           150  0.439\n",
       "15           160  0.439\n",
       "16           170  0.439\n",
       "17           180  0.439\n",
       "18           190  0.439\n",
       "19           200  0.439"
      ]
     },
     "execution_count": 97,
     "metadata": {},
     "output_type": "execute_result"
    }
   ],
   "source": [
    "# putting the RMSE values for different n_estimators into a DataFrame:\n",
    "df_scores = pd.DataFrame(scores, columns=['n_estimators','RMSE'])\n",
    "df_scores"
   ]
  },
  {
   "cell_type": "code",
   "execution_count": 102,
   "id": "e46ea30c",
   "metadata": {},
   "outputs": [
    {
     "data": {
      "image/png": "[encoded data removed]",
      "text/plain": [
       "<Figure size 432x288 with 1 Axes>"
      ]
     },
     "metadata": {
      "needs_background": "light"
     },
     "output_type": "display_data"
    }
   ],
   "source": [
    "# plotting the DataFrame as a line plot:\n",
    "plt.plot(df_scores.n_estimators, df_scores.RMSE)\n",
    "plt.show()"
   ]
  },
  {
   "cell_type": "markdown",
   "id": "23b356f7",
   "metadata": {},
   "source": [
    "After which value of n_estimators does RMSE stop improving?\n",
    "\n",
    "Ans. 120"
   ]
  },
  {
   "cell_type": "markdown",
   "id": "9a8efd2a",
   "metadata": {},
   "source": [
    "### Question 4\n",
    "\n",
    "Let's select the best max_depth:\n",
    "\n",
    "Try different values of max_depth: [10, 15, 20, 25]\n",
    "    \n",
    "For each of these values, try different values of n_estimators from 10 till 200 (with step 10)\n",
    "\n",
    "Fix the random seed: random_state=1"
   ]
  },
  {
   "cell_type": "code",
   "execution_count": 168,
   "id": "67fdcacd",
   "metadata": {},
   "outputs": [],
   "source": [
    "# creating an empty list:\n",
    "scores = []\n",
    "\n",
    "# Try different values of max_depth: \n",
    "for d in [10, 15, 20, 25]:\n",
    "    \n",
    "    # Trying different values of n_estimators from 10 to 200 with step 10:\n",
    "    for n in range(10, 201, 10):\n",
    "        rfr = RandomForestRegressor(n_estimators=n,random_state = 1)  \n",
    "        rfr.fit(X_train, y_train)\n",
    "\n",
    "        # Evaluating the model on the validation dataset:\n",
    "        y_pred = rfr.predict(X_val)\n",
    "\n",
    "        # computing RMSE of model on validation set:\n",
    "        RMSE_value = mean_squared_error(y_val, y_pred, squared=False)\n",
    "\n",
    "        # appending the RMSE values to empty list scores:\n",
    "        scores.append((d,n, round(RMSE_value,3)))"
   ]
  },
  {
   "cell_type": "code",
   "execution_count": 169,
   "id": "275e1910",
   "metadata": {},
   "outputs": [
    {
     "data": {
      "text/html": [
       "<div>\n",
       "<style scoped>\n",
       "    .dataframe tbody tr th:only-of-type {\n",
       "        vertical-align: middle;\n",
       "    }\n",
       "\n",
       "    .dataframe tbody tr th {\n",
       "        vertical-align: top;\n",
       "    }\n",
       "\n",
       "    .dataframe thead th {\n",
       "        text-align: right;\n",
       "    }\n",
       "</style>\n",
       "<table border=\"1\" class=\"dataframe\">\n",
       "  <thead>\n",
       "    <tr style=\"text-align: right;\">\n",
       "      <th></th>\n",
       "      <th>max_depth</th>\n",
       "      <th>n_estimators</th>\n",
       "      <th>RMSE</th>\n",
       "    </tr>\n",
       "  </thead>\n",
       "  <tbody>\n",
       "    <tr>\n",
       "      <th>0</th>\n",
       "      <td>10</td>\n",
       "      <td>10</td>\n",
       "      <td>0.462</td>\n",
       "    </tr>\n",
       "    <tr>\n",
       "      <th>1</th>\n",
       "      <td>10</td>\n",
       "      <td>20</td>\n",
       "      <td>0.448</td>\n",
       "    </tr>\n",
       "    <tr>\n",
       "      <th>2</th>\n",
       "      <td>10</td>\n",
       "      <td>30</td>\n",
       "      <td>0.446</td>\n",
       "    </tr>\n",
       "    <tr>\n",
       "      <th>3</th>\n",
       "      <td>10</td>\n",
       "      <td>40</td>\n",
       "      <td>0.444</td>\n",
       "    </tr>\n",
       "    <tr>\n",
       "      <th>4</th>\n",
       "      <td>10</td>\n",
       "      <td>50</td>\n",
       "      <td>0.442</td>\n",
       "    </tr>\n",
       "    <tr>\n",
       "      <th>5</th>\n",
       "      <td>10</td>\n",
       "      <td>60</td>\n",
       "      <td>0.442</td>\n",
       "    </tr>\n",
       "    <tr>\n",
       "      <th>6</th>\n",
       "      <td>10</td>\n",
       "      <td>70</td>\n",
       "      <td>0.441</td>\n",
       "    </tr>\n",
       "    <tr>\n",
       "      <th>7</th>\n",
       "      <td>10</td>\n",
       "      <td>80</td>\n",
       "      <td>0.441</td>\n",
       "    </tr>\n",
       "    <tr>\n",
       "      <th>8</th>\n",
       "      <td>10</td>\n",
       "      <td>90</td>\n",
       "      <td>0.441</td>\n",
       "    </tr>\n",
       "    <tr>\n",
       "      <th>9</th>\n",
       "      <td>10</td>\n",
       "      <td>100</td>\n",
       "      <td>0.440</td>\n",
       "    </tr>\n",
       "    <tr>\n",
       "      <th>10</th>\n",
       "      <td>10</td>\n",
       "      <td>110</td>\n",
       "      <td>0.439</td>\n",
       "    </tr>\n",
       "    <tr>\n",
       "      <th>11</th>\n",
       "      <td>10</td>\n",
       "      <td>120</td>\n",
       "      <td>0.439</td>\n",
       "    </tr>\n",
       "    <tr>\n",
       "      <th>12</th>\n",
       "      <td>10</td>\n",
       "      <td>130</td>\n",
       "      <td>0.439</td>\n",
       "    </tr>\n",
       "    <tr>\n",
       "      <th>13</th>\n",
       "      <td>10</td>\n",
       "      <td>140</td>\n",
       "      <td>0.439</td>\n",
       "    </tr>\n",
       "    <tr>\n",
       "      <th>14</th>\n",
       "      <td>10</td>\n",
       "      <td>150</td>\n",
       "      <td>0.439</td>\n",
       "    </tr>\n",
       "    <tr>\n",
       "      <th>15</th>\n",
       "      <td>10</td>\n",
       "      <td>160</td>\n",
       "      <td>0.439</td>\n",
       "    </tr>\n",
       "    <tr>\n",
       "      <th>16</th>\n",
       "      <td>10</td>\n",
       "      <td>170</td>\n",
       "      <td>0.439</td>\n",
       "    </tr>\n",
       "    <tr>\n",
       "      <th>17</th>\n",
       "      <td>10</td>\n",
       "      <td>180</td>\n",
       "      <td>0.439</td>\n",
       "    </tr>\n",
       "    <tr>\n",
       "      <th>18</th>\n",
       "      <td>10</td>\n",
       "      <td>190</td>\n",
       "      <td>0.439</td>\n",
       "    </tr>\n",
       "    <tr>\n",
       "      <th>19</th>\n",
       "      <td>10</td>\n",
       "      <td>200</td>\n",
       "      <td>0.439</td>\n",
       "    </tr>\n",
       "    <tr>\n",
       "      <th>20</th>\n",
       "      <td>15</td>\n",
       "      <td>10</td>\n",
       "      <td>0.462</td>\n",
       "    </tr>\n",
       "    <tr>\n",
       "      <th>21</th>\n",
       "      <td>15</td>\n",
       "      <td>20</td>\n",
       "      <td>0.448</td>\n",
       "    </tr>\n",
       "    <tr>\n",
       "      <th>22</th>\n",
       "      <td>15</td>\n",
       "      <td>30</td>\n",
       "      <td>0.446</td>\n",
       "    </tr>\n",
       "    <tr>\n",
       "      <th>23</th>\n",
       "      <td>15</td>\n",
       "      <td>40</td>\n",
       "      <td>0.444</td>\n",
       "    </tr>\n",
       "    <tr>\n",
       "      <th>24</th>\n",
       "      <td>15</td>\n",
       "      <td>50</td>\n",
       "      <td>0.442</td>\n",
       "    </tr>\n",
       "    <tr>\n",
       "      <th>25</th>\n",
       "      <td>15</td>\n",
       "      <td>60</td>\n",
       "      <td>0.442</td>\n",
       "    </tr>\n",
       "    <tr>\n",
       "      <th>26</th>\n",
       "      <td>15</td>\n",
       "      <td>70</td>\n",
       "      <td>0.441</td>\n",
       "    </tr>\n",
       "    <tr>\n",
       "      <th>27</th>\n",
       "      <td>15</td>\n",
       "      <td>80</td>\n",
       "      <td>0.441</td>\n",
       "    </tr>\n",
       "    <tr>\n",
       "      <th>28</th>\n",
       "      <td>15</td>\n",
       "      <td>90</td>\n",
       "      <td>0.441</td>\n",
       "    </tr>\n",
       "    <tr>\n",
       "      <th>29</th>\n",
       "      <td>15</td>\n",
       "      <td>100</td>\n",
       "      <td>0.440</td>\n",
       "    </tr>\n",
       "    <tr>\n",
       "      <th>30</th>\n",
       "      <td>15</td>\n",
       "      <td>110</td>\n",
       "      <td>0.439</td>\n",
       "    </tr>\n",
       "    <tr>\n",
       "      <th>31</th>\n",
       "      <td>15</td>\n",
       "      <td>120</td>\n",
       "      <td>0.439</td>\n",
       "    </tr>\n",
       "    <tr>\n",
       "      <th>32</th>\n",
       "      <td>15</td>\n",
       "      <td>130</td>\n",
       "      <td>0.439</td>\n",
       "    </tr>\n",
       "    <tr>\n",
       "      <th>33</th>\n",
       "      <td>15</td>\n",
       "      <td>140</td>\n",
       "      <td>0.439</td>\n",
       "    </tr>\n",
       "    <tr>\n",
       "      <th>34</th>\n",
       "      <td>15</td>\n",
       "      <td>150</td>\n",
       "      <td>0.439</td>\n",
       "    </tr>\n",
       "    <tr>\n",
       "      <th>35</th>\n",
       "      <td>15</td>\n",
       "      <td>160</td>\n",
       "      <td>0.439</td>\n",
       "    </tr>\n",
       "    <tr>\n",
       "      <th>36</th>\n",
       "      <td>15</td>\n",
       "      <td>170</td>\n",
       "      <td>0.439</td>\n",
       "    </tr>\n",
       "    <tr>\n",
       "      <th>37</th>\n",
       "      <td>15</td>\n",
       "      <td>180</td>\n",
       "      <td>0.439</td>\n",
       "    </tr>\n",
       "    <tr>\n",
       "      <th>38</th>\n",
       "      <td>15</td>\n",
       "      <td>190</td>\n",
       "      <td>0.439</td>\n",
       "    </tr>\n",
       "    <tr>\n",
       "      <th>39</th>\n",
       "      <td>15</td>\n",
       "      <td>200</td>\n",
       "      <td>0.439</td>\n",
       "    </tr>\n",
       "    <tr>\n",
       "      <th>40</th>\n",
       "      <td>20</td>\n",
       "      <td>10</td>\n",
       "      <td>0.462</td>\n",
       "    </tr>\n",
       "    <tr>\n",
       "      <th>41</th>\n",
       "      <td>20</td>\n",
       "      <td>20</td>\n",
       "      <td>0.448</td>\n",
       "    </tr>\n",
       "    <tr>\n",
       "      <th>42</th>\n",
       "      <td>20</td>\n",
       "      <td>30</td>\n",
       "      <td>0.446</td>\n",
       "    </tr>\n",
       "    <tr>\n",
       "      <th>43</th>\n",
       "      <td>20</td>\n",
       "      <td>40</td>\n",
       "      <td>0.444</td>\n",
       "    </tr>\n",
       "    <tr>\n",
       "      <th>44</th>\n",
       "      <td>20</td>\n",
       "      <td>50</td>\n",
       "      <td>0.442</td>\n",
       "    </tr>\n",
       "    <tr>\n",
       "      <th>45</th>\n",
       "      <td>20</td>\n",
       "      <td>60</td>\n",
       "      <td>0.442</td>\n",
       "    </tr>\n",
       "    <tr>\n",
       "      <th>46</th>\n",
       "      <td>20</td>\n",
       "      <td>70</td>\n",
       "      <td>0.441</td>\n",
       "    </tr>\n",
       "    <tr>\n",
       "      <th>47</th>\n",
       "      <td>20</td>\n",
       "      <td>80</td>\n",
       "      <td>0.441</td>\n",
       "    </tr>\n",
       "    <tr>\n",
       "      <th>48</th>\n",
       "      <td>20</td>\n",
       "      <td>90</td>\n",
       "      <td>0.441</td>\n",
       "    </tr>\n",
       "    <tr>\n",
       "      <th>49</th>\n",
       "      <td>20</td>\n",
       "      <td>100</td>\n",
       "      <td>0.440</td>\n",
       "    </tr>\n",
       "  </tbody>\n",
       "</table>\n",
       "</div>"
      ],
      "text/plain": [
       "    max_depth  n_estimators   RMSE\n",
       "0          10            10  0.462\n",
       "1          10            20  0.448\n",
       "2          10            30  0.446\n",
       "3          10            40  0.444\n",
       "4          10            50  0.442\n",
       "5          10            60  0.442\n",
       "6          10            70  0.441\n",
       "7          10            80  0.441\n",
       "8          10            90  0.441\n",
       "9          10           100  0.440\n",
       "10         10           110  0.439\n",
       "11         10           120  0.439\n",
       "12         10           130  0.439\n",
       "13         10           140  0.439\n",
       "14         10           150  0.439\n",
       "15         10           160  0.439\n",
       "16         10           170  0.439\n",
       "17         10           180  0.439\n",
       "18         10           190  0.439\n",
       "19         10           200  0.439\n",
       "20         15            10  0.462\n",
       "21         15            20  0.448\n",
       "22         15            30  0.446\n",
       "23         15            40  0.444\n",
       "24         15            50  0.442\n",
       "25         15            60  0.442\n",
       "26         15            70  0.441\n",
       "27         15            80  0.441\n",
       "28         15            90  0.441\n",
       "29         15           100  0.440\n",
       "30         15           110  0.439\n",
       "31         15           120  0.439\n",
       "32         15           130  0.439\n",
       "33         15           140  0.439\n",
       "34         15           150  0.439\n",
       "35         15           160  0.439\n",
       "36         15           170  0.439\n",
       "37         15           180  0.439\n",
       "38         15           190  0.439\n",
       "39         15           200  0.439\n",
       "40         20            10  0.462\n",
       "41         20            20  0.448\n",
       "42         20            30  0.446\n",
       "43         20            40  0.444\n",
       "44         20            50  0.442\n",
       "45         20            60  0.442\n",
       "46         20            70  0.441\n",
       "47         20            80  0.441\n",
       "48         20            90  0.441\n",
       "49         20           100  0.440"
      ]
     },
     "execution_count": 169,
     "metadata": {},
     "output_type": "execute_result"
    }
   ],
   "source": [
    "# putting the RMSE values for different n_estimators into a DataFrame:\n",
    "df_scores = pd.DataFrame(scores, columns=['max_depth','n_estimators','RMSE'])\n",
    "df_scores.head(50)"
   ]
  },
  {
   "cell_type": "code",
   "execution_count": 170,
   "id": "c79ad08a",
   "metadata": {},
   "outputs": [
    {
     "data": {
      "image/png": "[encoded data removed]",
      "text/plain": [
       "<Figure size 432x288 with 1 Axes>"
      ]
     },
     "metadata": {
      "needs_background": "light"
     },
     "output_type": "display_data"
    }
   ],
   "source": [
    "# plotting the DataFrame as line plots:\n",
    "for d in [10, 15, 20, 25]:\n",
    "    df_subset = df_scores[df_scores.max_depth == d]   # slicing df where max_depth = d\n",
    "    plt.plot(df_subset.n_estimators, df_subset.RMSE,label='max_depth=%d'% d)\n",
    "\n",
    "plt.legend()\n",
    "plt.show()"
   ]
  },
  {
   "cell_type": "markdown",
   "id": "2e5e564a",
   "metadata": {},
   "source": [
    "What's the best max_depth: where RMSE is minimum - all max_depth values give same RMSE levels.\n",
    "\n",
    "Ans. 10"
   ]
  },
  {
   "cell_type": "markdown",
   "id": "301a9274",
   "metadata": {},
   "source": [
    "#### Bonus question (not graded):\n",
    "\n",
    "Will the answer be different if we change the seed for the model?"
   ]
  },
  {
   "cell_type": "code",
   "execution_count": 178,
   "id": "16aa172b",
   "metadata": {},
   "outputs": [],
   "source": [
    "# creating an empty list:\n",
    "scores = []\n",
    "\n",
    "# Try different values of max_depth: \n",
    "for d in [10, 15, 20, 25]:\n",
    "    \n",
    "    # Trying different values of n_estimators from 10 to 200 with step 10:\n",
    "    for n in range(10, 201, 10):\n",
    "        rfr = RandomForestRegressor(n_estimators=n,random_state = 42, max_depth=d)  \n",
    "        rfr.fit(X_train, y_train)\n",
    "\n",
    "        # Evaluating the model on the validation dataset:\n",
    "        y_pred = rfr.predict(X_val)\n",
    "\n",
    "        # computing RMSE of model on validation set:\n",
    "        RMSE_value = mean_squared_error(y_val, y_pred, squared=False)\n",
    "\n",
    "        # appending the RMSE values to empty list scores:\n",
    "        scores.append((d, n, round(RMSE_value,3)))"
   ]
  },
  {
   "cell_type": "code",
   "execution_count": 179,
   "id": "8bb449c9",
   "metadata": {},
   "outputs": [
    {
     "data": {
      "text/html": [
       "<div>\n",
       "<style scoped>\n",
       "    .dataframe tbody tr th:only-of-type {\n",
       "        vertical-align: middle;\n",
       "    }\n",
       "\n",
       "    .dataframe tbody tr th {\n",
       "        vertical-align: top;\n",
       "    }\n",
       "\n",
       "    .dataframe thead th {\n",
       "        text-align: right;\n",
       "    }\n",
       "</style>\n",
       "<table border=\"1\" class=\"dataframe\">\n",
       "  <thead>\n",
       "    <tr style=\"text-align: right;\">\n",
       "      <th></th>\n",
       "      <th>max_depth</th>\n",
       "      <th>n_estimators</th>\n",
       "      <th>RMSE</th>\n",
       "    </tr>\n",
       "  </thead>\n",
       "  <tbody>\n",
       "    <tr>\n",
       "      <th>0</th>\n",
       "      <td>10</td>\n",
       "      <td>10</td>\n",
       "      <td>0.445</td>\n",
       "    </tr>\n",
       "    <tr>\n",
       "      <th>1</th>\n",
       "      <td>10</td>\n",
       "      <td>20</td>\n",
       "      <td>0.442</td>\n",
       "    </tr>\n",
       "    <tr>\n",
       "      <th>2</th>\n",
       "      <td>10</td>\n",
       "      <td>30</td>\n",
       "      <td>0.441</td>\n",
       "    </tr>\n",
       "    <tr>\n",
       "      <th>3</th>\n",
       "      <td>10</td>\n",
       "      <td>40</td>\n",
       "      <td>0.441</td>\n",
       "    </tr>\n",
       "    <tr>\n",
       "      <th>4</th>\n",
       "      <td>10</td>\n",
       "      <td>50</td>\n",
       "      <td>0.440</td>\n",
       "    </tr>\n",
       "    <tr>\n",
       "      <th>...</th>\n",
       "      <td>...</td>\n",
       "      <td>...</td>\n",
       "      <td>...</td>\n",
       "    </tr>\n",
       "    <tr>\n",
       "      <th>75</th>\n",
       "      <td>25</td>\n",
       "      <td>160</td>\n",
       "      <td>0.438</td>\n",
       "    </tr>\n",
       "    <tr>\n",
       "      <th>76</th>\n",
       "      <td>25</td>\n",
       "      <td>170</td>\n",
       "      <td>0.439</td>\n",
       "    </tr>\n",
       "    <tr>\n",
       "      <th>77</th>\n",
       "      <td>25</td>\n",
       "      <td>180</td>\n",
       "      <td>0.438</td>\n",
       "    </tr>\n",
       "    <tr>\n",
       "      <th>78</th>\n",
       "      <td>25</td>\n",
       "      <td>190</td>\n",
       "      <td>0.438</td>\n",
       "    </tr>\n",
       "    <tr>\n",
       "      <th>79</th>\n",
       "      <td>25</td>\n",
       "      <td>200</td>\n",
       "      <td>0.438</td>\n",
       "    </tr>\n",
       "  </tbody>\n",
       "</table>\n",
       "<p>80 rows × 3 columns</p>\n",
       "</div>"
      ],
      "text/plain": [
       "    max_depth  n_estimators   RMSE\n",
       "0          10            10  0.445\n",
       "1          10            20  0.442\n",
       "2          10            30  0.441\n",
       "3          10            40  0.441\n",
       "4          10            50  0.440\n",
       "..        ...           ...    ...\n",
       "75         25           160  0.438\n",
       "76         25           170  0.439\n",
       "77         25           180  0.438\n",
       "78         25           190  0.438\n",
       "79         25           200  0.438\n",
       "\n",
       "[80 rows x 3 columns]"
      ]
     },
     "execution_count": 179,
     "metadata": {},
     "output_type": "execute_result"
    }
   ],
   "source": [
    "# putting the RMSE values for different n_estimators into a DataFrame:\n",
    "df_scores = pd.DataFrame(scores, columns=['max_depth','n_estimators','RMSE'])\n",
    "df_scores"
   ]
  },
  {
   "cell_type": "code",
   "execution_count": 180,
   "id": "e50f5db3",
   "metadata": {},
   "outputs": [
    {
     "data": {
      "image/png": "[encoded data removed]",
      "text/plain": [
       "<Figure size 432x288 with 1 Axes>"
      ]
     },
     "metadata": {
      "needs_background": "light"
     },
     "output_type": "display_data"
    }
   ],
   "source": [
    "# plotting the DataFrame as line plots:\n",
    "for d in [10, 15, 20, 25]:\n",
    "    df_subset = df_scores[df_scores.max_depth == d]   # slicing df where max_depth = d\n",
    "    plt.plot(df_subset.n_estimators, df_subset.RMSE,label='max_depth=%d'% d)\n",
    "\n",
    "plt.legend()\n",
    "plt.show()"
   ]
  },
  {
   "cell_type": "markdown",
   "id": "654aea9a",
   "metadata": {},
   "source": [
    "Will the answer be different if we change the seed for the model?\n",
    "\n",
    "Ans. Yes, if seed = 42 best max_depth = 15 because, RMSE falls lower than when max_depth = 10"
   ]
  },
  {
   "cell_type": "markdown",
   "id": "82443ba2",
   "metadata": {},
   "source": [
    "### Question 5"
   ]
  },
  {
   "cell_type": "markdown",
   "id": "20dd886a",
   "metadata": {},
   "source": [
    "Train the model with these parameters:\n",
    "\n",
    "n_estimators=10,\n",
    "\n",
    "max_depth=20,\n",
    "\n",
    "random_state=1,\n",
    "\n",
    "n_jobs=-1 (optional)\n",
    "\n",
    "Get the feature importance information from this model"
   ]
  },
  {
   "cell_type": "code",
   "execution_count": 185,
   "id": "23271722",
   "metadata": {},
   "outputs": [
    {
     "data": {
      "text/plain": [
       "Index(['neighbourhood_group', 'latitude', 'longitude', 'room_type', 'price',\n",
       "       'minimum_nights', 'number_of_reviews', 'reviews_per_month',\n",
       "       'calculated_host_listings_count', 'availability_365'],\n",
       "      dtype='object')"
      ]
     },
     "execution_count": 185,
     "metadata": {},
     "output_type": "execute_result"
    }
   ],
   "source": [
    "df.columns"
   ]
  },
  {
   "cell_type": "code",
   "execution_count": 215,
   "id": "ab6504c4",
   "metadata": {},
   "outputs": [
    {
     "name": "stdout",
     "output_type": "stream",
     "text": [
      "availability_365 ---> 0.0763\n",
      "calculated_host_listings_count ---> 0.0301\n",
      "latitude ---> 0.1528\n",
      "longitude ---> 0.1541\n",
      "minimum_nights ---> 0.0533\n",
      "neighbourhood_group=Bronx ---> 0.0003\n",
      "neighbourhood_group=Brooklyn ---> 0.001\n",
      "neighbourhood_group=Manhattan ---> 0.034\n",
      "neighbourhood_group=Queens ---> 0.0012\n",
      "neighbourhood_group=Staten Island ---> 0.0001\n",
      "number_of_reviews ---> 0.0416\n",
      "reviews_per_month ---> 0.0544\n",
      "room_type=Entire home/apt ---> 0.3919\n",
      "room_type=Private room ---> 0.004\n",
      "room_type=Shared room ---> 0.005\n"
     ]
    }
   ],
   "source": [
    "# defining the model with parameters specified:\n",
    "rfr = RandomForestRegressor(n_estimators=10,random_state = 1, max_depth=20, n_jobs=-1)  \n",
    "\n",
    "# fitting the model:\n",
    "rfr.fit(X_train, y_train)\n",
    "\n",
    "# getting the model importance:\n",
    "importance = rfr.feature_importances_\n",
    "\n",
    "# getting the nmes of all the features in dataset:\n",
    "features = dv.get_feature_names()\n",
    "\n",
    "# combining the features and their importance scores using .zip() function:\n",
    "for f, i in zip(features, importance):\n",
    "    \n",
    "    # printing the feature importance and their respective scores:\n",
    "    print(f,\"--->\",round(i,4))"
   ]
  },
  {
   "cell_type": "markdown",
   "id": "2acf35a1",
   "metadata": {},
   "source": [
    "What's the most important feature?\n",
    "\n",
    "Ans. room_type=Entire home/apt - score: 0.3919"
   ]
  },
  {
   "cell_type": "markdown",
   "id": "4138bd5d",
   "metadata": {},
   "source": [
    "### Question 6\n",
    "\n",
    "Now let's train an XGBoost model! For this question, we'll tune the eta parameter\n",
    "\n",
    "Install XGBoost\n",
    "\n",
    "Create DMatrix for train and validation\n",
    "\n",
    "Create a watchlist\n",
    "\n",
    "Train a model with these parameters for 100 rounds:"
   ]
  },
  {
   "cell_type": "code",
   "execution_count": 218,
   "id": "189ebef2",
   "metadata": {},
   "outputs": [],
   "source": [
    "# importing xgboost:\n",
    "import xgboost as xgb\n",
    "from sklearn.metrics import mean_squared_error as MSE"
   ]
  },
  {
   "cell_type": "code",
   "execution_count": 219,
   "id": "7dccd479",
   "metadata": {},
   "outputs": [],
   "source": [
    "# Step 1 - Creating DMatrix for train and validation:\n",
    "# getting the feature names as a list:\n",
    "features = dv.get_feature_names()\n",
    "\n",
    "# for training set:\n",
    "dtrain = xgb.DMatrix(X_train, label = y_train, feature_names = features)\n",
    "\n",
    "# for validation set:\n",
    "dval = xgb.DMatrix(X_val, label = y_val, feature_names = features)"
   ]
  },
  {
   "cell_type": "code",
   "execution_count": 222,
   "id": "aab2498a",
   "metadata": {},
   "outputs": [],
   "source": [
    "# Step 2 - Creating a watchlist\n",
    "# evaluating the effect of xgboost iteration (after each tree is trained) on validation data:\n",
    "watchlist = ((dtrain, 'train'),(dval,'val'))"
   ]
  },
  {
   "cell_type": "code",
   "execution_count": 223,
   "id": "fc2addca",
   "metadata": {},
   "outputs": [],
   "source": [
    "%%capture output\n",
    "\n",
    "xgb_params = {\n",
    "    'eta': 0.3, \n",
    "    'max_depth': 6,\n",
    "    'min_child_weight': 1,\n",
    "    \n",
    "    'objective': 'reg:squarederror',\n",
    "    'nthread': 8,\n",
    "   \n",
    "    'seed': 1,\n",
    "    'verbosity': 1}\n",
    "\n",
    "model = xgb.train(xgb_params, dtrain, num_boost_round=100,verbose_eval=5 , evals=watchlist)    \n",
    "\n",
    "# verbose_eval -prints evaluation for every 5 steps  \n",
    "# training for 100 rounds - Number of boosting iterations"
   ]
  },
  {
   "cell_type": "code",
   "execution_count": 224,
   "id": "7fd9e8a6",
   "metadata": {},
   "outputs": [],
   "source": [
    "# Predict the model on validation set:\n",
    "y_pred = model.predict(dval)\n",
    "\n",
    "# RMSE Computation on validation set:\n",
    "rmse = np.sqrt(MSE(y_val, y_pred))"
   ]
  },
  {
   "cell_type": "code",
   "execution_count": 226,
   "id": "0b2e0e25",
   "metadata": {},
   "outputs": [],
   "source": [
    "# Combining above codes and creating a function to parse output from XGBoost model:\n",
    "def parse_xgb_output(output):\n",
    "    results = []\n",
    "    \n",
    "    for line in output.stdout.strip().split('\\n'):\n",
    "        it_line, train_line, val_line = line.split('\\t')\n",
    "        \n",
    "        it = int(it_line.strip('[]'))\n",
    "        train = float((train_line.split(':'))[1])\n",
    "        val = float((val_line.split(':'))[1])\n",
    "        \n",
    "        results.append((it, train, val))\n",
    "    \n",
    "    columns = ['num_iter', 'train_RMSE', 'val_RMSE']\n",
    "    df_results = pd.DataFrame(results, columns=columns)\n",
    "    return df_results"
   ]
  },
  {
   "cell_type": "code",
   "execution_count": 230,
   "id": "62c43001",
   "metadata": {},
   "outputs": [],
   "source": [
    "# calling the above function:\n",
    "df_score = parse_xgb_output(output)"
   ]
  },
  {
   "cell_type": "code",
   "execution_count": 292,
   "id": "99eee99c",
   "metadata": {},
   "outputs": [
    {
     "data": {
      "image/png": "[encoded data removed]",
      "text/plain": [
       "<Figure size 1440x216 with 1 Axes>"
      ]
     },
     "metadata": {
      "needs_background": "light"
     },
     "output_type": "display_data"
    }
   ],
   "source": [
    "# plotting the above output from XGBoost model:\n",
    "plt.plot(df_score.num_iter, df_score.train_RMSE, label='train')\n",
    "plt.plot(df_score.num_iter, df_score.val_RMSE, label='val')\n",
    "plt.legend()\n",
    "plt.show()"
   ]
  },
  {
   "cell_type": "markdown",
   "id": "2b2c5d51",
   "metadata": {},
   "source": [
    "Parameter tuning XGBoost - \n",
    "\n",
    "Now change eta first to 0.1 and then to 0.01"
   ]
  },
  {
   "cell_type": "code",
   "execution_count": 261,
   "id": "13450423",
   "metadata": {},
   "outputs": [],
   "source": [
    "# Step 1 - creating an empty dictionary:\n",
    "scores = {}"
   ]
  },
  {
   "cell_type": "code",
   "execution_count": 270,
   "id": "1bc9a278",
   "metadata": {},
   "outputs": [],
   "source": [
    "%%capture output\n",
    "\n",
    "xgb_params = {\n",
    "    'eta': 0.3, \n",
    "    'max_depth': 6,\n",
    "    'min_child_weight': 1,\n",
    "    \n",
    "    'objective': 'reg:squarederror',\n",
    "    'nthread': 8,\n",
    "   \n",
    "    'seed': 1,\n",
    "    'verbosity': 1}\n",
    "\n",
    "model = xgb.train(xgb_params, dtrain, num_boost_round=100,verbose_eval=5 , evals=watchlist)    "
   ]
  },
  {
   "cell_type": "code",
   "execution_count": 271,
   "id": "c303d53a",
   "metadata": {},
   "outputs": [],
   "source": [
    "# Predict the model on validation set:\n",
    "y_pred = model.predict(dval)\n",
    "\n",
    "# RMSE Computation on validation set:\n",
    "rmse = np.sqrt(MSE(y_val, y_pred))"
   ]
  },
  {
   "cell_type": "code",
   "execution_count": 272,
   "id": "b05420d2",
   "metadata": {},
   "outputs": [],
   "source": [
    "# taking the eta parameter values from above model and using it as a key for scores dictionary:\n",
    "key = 'eta=%s' % (xgb_params['eta'])\n",
    "\n",
    "# assigning putout of xgboost model to score key as values:\n",
    "scores[key] = parse_xgb_output(output)"
   ]
  },
  {
   "cell_type": "code",
   "execution_count": 273,
   "id": "cbdfaab0",
   "metadata": {},
   "outputs": [
    {
     "data": {
      "text/plain": [
       "dict_keys(['eta=0.01', 'eta=0.1', 'eta=0.3'])"
      ]
     },
     "execution_count": 273,
     "metadata": {},
     "output_type": "execute_result"
    }
   ],
   "source": [
    "scores.keys()"
   ]
  },
  {
   "cell_type": "code",
   "execution_count": 295,
   "id": "c2465589",
   "metadata": {},
   "outputs": [
    {
     "data": {
      "image/png": "[encoded data removed]",
      "text/plain": [
       "<Figure size 1440x216 with 1 Axes>"
      ]
     },
     "metadata": {
      "needs_background": "light"
     },
     "output_type": "display_data"
    }
   ],
   "source": [
    "# plotting above AUC outputs for different eta values:\n",
    "etas = ['eta=0.3','eta=0.01','eta=0.1']\n",
    "for eta in etas:\n",
    "    df_score= scores[eta]\n",
    "    plt.plot(df_score.num_iter, df_score.val_RMSE, label=eta)\n",
    "\n",
    "plt.legend()\n",
    "plt.show()"
   ]
  },
  {
   "cell_type": "code",
   "execution_count": 301,
   "id": "22e30f1f",
   "metadata": {},
   "outputs": [
    {
     "data": {
      "image/png": "[encoded data removed]",
      "text/plain": [
       "<Figure size 1440x216 with 1 Axes>"
      ]
     },
     "metadata": {
      "needs_background": "light"
     },
     "output_type": "display_data"
    }
   ],
   "source": [
    "# plotting above AUC outputs for different eta values:\n",
    "etas = ['eta=0.3','eta=0.1']\n",
    "for eta in etas:\n",
    "    df_score= scores[eta]\n",
    "    plt.plot(df_score.num_iter, df_score.val_RMSE, label=eta)\n",
    "\n",
    "plt.ylim(0.39,0.47)   # zooming in to check graphs for eta=0.3 and eta=0.1\n",
    "plt.legend()\n",
    "plt.show()"
   ]
  },
  {
   "cell_type": "markdown",
   "id": "18644d71",
   "metadata": {},
   "source": [
    "Which eta leads to the best RMSE score on the validation dataset?\n",
    "\n",
    "Ans. eta=0.1"
   ]
  },
  {
   "cell_type": "code",
   "execution_count": null,
   "id": "8851ae94",
   "metadata": {},
   "outputs": [],
   "source": []
  }
 ],
 "metadata": {
  "kernelspec": {
   "display_name": "Python 3 (ipykernel)",
   "language": "python",
   "name": "python3"
  },
  "language_info": {
   "codemirror_mode": {
    "name": "ipython",
    "version": 3
   },
   "file_extension": ".py",
   "mimetype": "text/x-python",
   "name": "python",
   "nbconvert_exporter": "python",
   "pygments_lexer": "ipython3",
   "version": "3.8.11"
  }
 },
 "nbformat": 4,
 "nbformat_minor": 5
}
